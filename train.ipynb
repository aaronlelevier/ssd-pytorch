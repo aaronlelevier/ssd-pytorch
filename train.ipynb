{
 "cells": [
  {
   "cell_type": "code",
   "execution_count": 1,
   "metadata": {},
   "outputs": [
    {
     "name": "stdout",
     "output_type": "stream",
     "text": [
      "/anaconda3/bin/python\r\n"
     ]
    }
   ],
   "source": [
    "!which python"
   ]
  },
  {
   "cell_type": "code",
   "execution_count": 2,
   "metadata": {},
   "outputs": [],
   "source": [
    "import sys"
   ]
  },
  {
   "cell_type": "code",
   "execution_count": 7,
   "metadata": {},
   "outputs": [],
   "source": [
    "sys.path.append(\"/Users/aaron/Documents/github/ssdmultibox/venv/lib/python3.6/site-packages/\")"
   ]
  },
  {
   "cell_type": "code",
   "execution_count": 8,
   "metadata": {},
   "outputs": [],
   "source": [
    "import torch"
   ]
  },
  {
   "cell_type": "code",
   "execution_count": 11,
   "metadata": {},
   "outputs": [
    {
     "name": "stdout",
     "output_type": "stream",
     "text": [
      "cats_loss: 1188.5614013671875\n",
      "bbs_loss: 65.90406036376953\n",
      "0 loss: 3.159862518310547 time: 12.250768184661865\n"
     ]
    }
   ],
   "source": [
    "import enum\n",
    "import time\n",
    "\n",
    "import torch\n",
    "from torch import nn, optim\n",
    "from torch.utils.data import DataLoader\n",
    "\n",
    "from ssdmultibox.criterion import SSDLoss\n",
    "from ssdmultibox.datasets import PascalDataset, TrainPascalDataset, ValPascalDataset, device\n",
    "from ssdmultibox.models import SSDModel\n",
    "\n",
    "EPOCHS = 1\n",
    "BATCH = 4\n",
    "NUM_WORKERS = 0 # MAC: sysctl -n hw.ncpu\n",
    "LR = 0.01\n",
    "\n",
    "\n",
    "class Phase(enum.Enum):\n",
    "    TRAIN = 'TRAIN'\n",
    "    VAL = 'VAL'\n",
    "\n",
    "\n",
    "losses = {Phase.TRAIN: [], Phase.VAL: []}\n",
    "\n",
    "\n",
    "def get_dataloaders(batch=BATCH, num_workers=NUM_WORKERS):\n",
    "    train_dataset = TrainPascalDataset()\n",
    "    val_dataset = ValPascalDataset()\n",
    "    return {\n",
    "        Phase.TRAIN: DataLoader(\n",
    "            train_dataset, batch_size=batch, num_workers=num_workers, shuffle=True),\n",
    "        Phase.VAL: DataLoader(\n",
    "            val_dataset, batch_size=batch, num_workers=num_workers)\n",
    "    }\n",
    "\n",
    "\n",
    "def get_model():\n",
    "    return SSDModel().to(device)\n",
    "\n",
    "\n",
    "def train(model, dataloaders, epochs, lr=LR):\n",
    "    criterion = SSDLoss()\n",
    "    optimizer = optim.SGD(model.parameters(), lr=lr)\n",
    "    scheduler = optim.lr_scheduler.StepLR(optimizer, step_size=5, gamma=0.1)\n",
    "    current_time = time.time()\n",
    "\n",
    "    for epoch in range(epochs):\n",
    "        scheduler.step()\n",
    "        for phase in [Phase.TRAIN, Phase.VAL]:\n",
    "            dataloader = dataloaders[phase]\n",
    "            if phase == Phase.TRAIN:\n",
    "                model.train()\n",
    "            else:\n",
    "                model.eval()\n",
    "\n",
    "            for i, (image_ids, ims, gt_bbs, gt_cats) in enumerate(dataloader):\n",
    "                # put data on device\n",
    "                ims, gt_bbs, gt_cats = PascalDataset.to_device(ims, gt_bbs, gt_cats)\n",
    "\n",
    "                # zero out gradients\n",
    "                optimizer.zero_grad()\n",
    "\n",
    "                # forward pass\n",
    "                with torch.set_grad_enabled(phase == Phase.TRAIN):\n",
    "                    preds = model(ims)\n",
    "                    loss = criterion(preds, (gt_bbs, gt_cats))\n",
    "\n",
    "                    # backward pass\n",
    "                    if phase == Phase.TRAIN:\n",
    "                        loss.backward()\n",
    "                        optimizer.step()\n",
    "\n",
    "                    # stats\n",
    "                    if i % 5 == 0:\n",
    "                        print(i, 'loss:', loss.item(), 'time:', time.time() - current_time)\n",
    "                        current_time = time.time()\n",
    "                        losses[phase].append(loss.item())\n",
    "                    break\n",
    "            break\n",
    "        break\n",
    "\n",
    "model = get_model()\n",
    "dataloaders = get_dataloaders()\n",
    "train(model, dataloaders, epochs=1)"
   ]
  },
  {
   "cell_type": "code",
   "execution_count": null,
   "metadata": {},
   "outputs": [],
   "source": []
  }
 ],
 "metadata": {
  "kernelspec": {
   "display_name": "Python 3",
   "language": "python",
   "name": "python3"
  },
  "language_info": {
   "codemirror_mode": {
    "name": "ipython",
    "version": 3
   },
   "file_extension": ".py",
   "mimetype": "text/x-python",
   "name": "python",
   "nbconvert_exporter": "python",
   "pygments_lexer": "ipython3",
   "version": "3.6.5"
  }
 },
 "nbformat": 4,
 "nbformat_minor": 2
}
