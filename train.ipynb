{
 "cells": [
  {
   "cell_type": "code",
   "execution_count": 2,
   "metadata": {},
   "outputs": [
    {
     "name": "stdout",
     "output_type": "stream",
     "text": [
      "/anaconda3/bin/python\r\n"
     ]
    }
   ],
   "source": [
    "!which python"
   ]
  },
  {
   "cell_type": "code",
   "execution_count": 3,
   "metadata": {},
   "outputs": [],
   "source": [
    "import sys"
   ]
  },
  {
   "cell_type": "code",
   "execution_count": 4,
   "metadata": {},
   "outputs": [],
   "source": [
    "sys.path.append(\"/Users/aaron/Documents/github/ssdmultibox/venv/lib/python3.6/site-packages/\")"
   ]
  },
  {
   "cell_type": "code",
   "execution_count": 5,
   "metadata": {},
   "outputs": [],
   "source": [
    "import torch"
   ]
  },
  {
   "cell_type": "code",
   "execution_count": 11,
   "metadata": {},
   "outputs": [
    {
     "name": "stdout",
     "output_type": "stream",
     "text": [
      "bbs_loss: 54.13208770751953\n",
      "cats_loss: 825.8751831054688\n",
      "0 loss: 3.188432216644287 time: 11.244524002075195\n"
     ]
    }
   ],
   "source": [
    "import enum\n",
    "import time\n",
    "\n",
    "import torch\n",
    "from torch import nn, optim\n",
    "from torch.utils.data import DataLoader\n",
    "\n",
    "from ssdmultibox.criterion import SSDLoss\n",
    "from ssdmultibox.datasets import PascalDataset, TrainPascalDataset, ValPascalDataset, device\n",
    "from ssdmultibox.models import SSDModel\n",
    "\n",
    "EPOCHS = 1\n",
    "BATCH = 4\n",
    "NUM_WORKERS = 0 # MAC: sysctl -n hw.ncpu\n",
    "LR = 0.01\n",
    "\n",
    "\n",
    "class Phase(enum.Enum):\n",
    "    TRAIN = 'TRAIN'\n",
    "    VAL = 'VAL'\n",
    "\n",
    "\n",
    "# if 'losses' not in locals():\n",
    "losses = {\n",
    "    Phase.TRAIN: {'total':[], 'loc':[], 'conf':[]},\n",
    "    Phase.VAL: {'total':[], 'loc':[], 'conf':[]}\n",
    "}\n",
    "\n",
    "\n",
    "def get_dataloaders(batch=BATCH, num_workers=NUM_WORKERS):\n",
    "    train_dataset = TrainPascalDataset()\n",
    "    val_dataset = ValPascalDataset()\n",
    "    return {\n",
    "        Phase.TRAIN: DataLoader(\n",
    "            train_dataset, batch_size=batch, num_workers=num_workers, shuffle=True),\n",
    "        Phase.VAL: DataLoader(\n",
    "            val_dataset, batch_size=batch, num_workers=num_workers)\n",
    "    }\n",
    "\n",
    "\n",
    "def get_model():\n",
    "    return SSDModel().to(device)\n",
    "\n",
    "\n",
    "model = get_model()\n",
    "dataloaders = get_dataloaders()\n",
    "epochs = 1\n",
    "lr = LR\n",
    "\n",
    "criterion = SSDLoss()\n",
    "optimizer = optim.SGD(model.parameters(), lr=lr)\n",
    "scheduler = optim.lr_scheduler.StepLR(optimizer, step_size=5, gamma=0.1)\n",
    "current_time = time.time()\n",
    "\n",
    "for epoch in range(epochs):\n",
    "    scheduler.step()\n",
    "    for phase in [Phase.TRAIN, Phase.VAL]:\n",
    "        dataloader = dataloaders[phase]\n",
    "        if phase == Phase.TRAIN:\n",
    "            model.train()\n",
    "        else:\n",
    "            model.eval()\n",
    "\n",
    "        for i, (image_ids, ims, gt_bbs, gt_cats) in enumerate(dataloader):\n",
    "            # put data on device\n",
    "            ims, gt_bbs, gt_cats = PascalDataset.to_device(ims, gt_bbs, gt_cats)\n",
    "\n",
    "            # zero out gradients\n",
    "            optimizer.zero_grad()\n",
    "\n",
    "            # forward pass\n",
    "            with torch.set_grad_enabled(phase == Phase.TRAIN):\n",
    "                preds = model(ims)\n",
    "                loss, loc_loss, conf_loss = criterion(preds, (gt_bbs, gt_cats))\n",
    "\n",
    "                # backward pass\n",
    "                if phase == Phase.TRAIN:\n",
    "                    loss.backward()\n",
    "                    optimizer.step()\n",
    "\n",
    "                # stats\n",
    "                if i % 5 == 0:\n",
    "                    print(i, 'loss:', loss.item(), 'time:', time.time() - current_time)\n",
    "                    current_time = time.time()\n",
    "                    losses[phase]['total'].append(loss.item())\n",
    "                    losses[phase]['loc'].append(loc_loss.item())\n",
    "                    losses[phase]['conf'].append(conf_loss.item())\n",
    "                break\n",
    "        break\n",
    "    break"
   ]
  },
  {
   "cell_type": "code",
   "execution_count": 12,
   "metadata": {},
   "outputs": [
    {
     "data": {
      "text/plain": [
       "(tensor(3.1884, grad_fn=<ThMulBackward>),\n",
       " tensor(54.1321, grad_fn=<ThAddBackward>),\n",
       " tensor(825.8752, grad_fn=<ThAddBackward>))"
      ]
     },
     "execution_count": 12,
     "metadata": {},
     "output_type": "execute_result"
    }
   ],
   "source": [
    "loss, loc_loss, conf_loss"
   ]
  },
  {
   "cell_type": "code",
   "execution_count": 13,
   "metadata": {},
   "outputs": [
    {
     "data": {
      "text/plain": [
       "{<Phase.TRAIN: 'TRAIN'>: {'total': [3.188432216644287],\n",
       "  'loc': [54.13208770751953],\n",
       "  'conf': [825.8751831054688]},\n",
       " <Phase.VAL: 'VAL'>: {'total': [], 'loc': [], 'conf': []}}"
      ]
     },
     "execution_count": 13,
     "metadata": {},
     "output_type": "execute_result"
    }
   ],
   "source": [
    "losses"
   ]
  },
  {
   "cell_type": "code",
   "execution_count": 36,
   "metadata": {},
   "outputs": [
    {
     "data": {
      "image/png": "[encoded data removed]",
      "text/plain": [
       "<Figure size 432x288 with 3 Axes>"
      ]
     },
     "metadata": {},
     "output_type": "display_data"
    }
   ],
   "source": [
    "import numpy as np\n",
    "import matplotlib.pyplot as plt\n",
    "\n",
    "\n",
    "x1 = np.linspace(0.0, 5.0)\n",
    "x2 = np.linspace(0.0, 2.0)\n",
    "\n",
    "y1 = np.cos(2 * np.pi * x1) * np.exp(-x1)\n",
    "y2 = np.cos(2 * np.pi * x2)\n",
    "\n",
    "plt.subplot(1, 3, 1)\n",
    "plt.plot(x1, y1, 'ko-')\n",
    "plt.title('Loss')\n",
    "plt.xlabel('total')\n",
    "\n",
    "plt.subplot(1, 3, 2)\n",
    "plt.plot(x2, y2, 'r.-')\n",
    "plt.xlabel('loc')\n",
    "\n",
    "plt.subplot(1, 3, 3)\n",
    "plt.plot(x2, y1, 'r.-')\n",
    "plt.xlabel('conf')\n",
    "\n",
    "\n",
    "plt.show()"
   ]
  },
  {
   "cell_type": "code",
   "execution_count": null,
   "metadata": {},
   "outputs": [],
   "source": [
    "plt.subplot()"
   ]
  }
 ],
 "metadata": {
  "kernelspec": {
   "display_name": "Python 3",
   "language": "python",
   "name": "python3"
  },
  "language_info": {
   "codemirror_mode": {
    "name": "ipython",
    "version": 3
   },
   "file_extension": ".py",
   "mimetype": "text/x-python",
   "name": "python",
   "nbconvert_exporter": "python",
   "pygments_lexer": "ipython3",
   "version": "3.6.5"
  }
 },
 "nbformat": 4,
 "nbformat_minor": 2
}
