{
 "cells": [
  {
   "cell_type": "code",
   "execution_count": 86,
   "metadata": {},
   "outputs": [],
   "source": [
    "from ssdmultibox.datasets import TrainPascalDataset\n",
    "from torchvision import models\n",
    "import torch\n",
    "from torch import nn\n",
    "from torch.utils.data import DataLoader\n",
    "import numpy as np\n",
    "import torch.nn.functional as F\n",
    "from ssdmultibox.datasets import Bboxer"
   ]
  },
  {
   "cell_type": "code",
   "execution_count": 2,
   "metadata": {},
   "outputs": [],
   "source": [
    "model = models.resnet18(pretrained=True)"
   ]
  },
  {
   "cell_type": "code",
   "execution_count": 3,
   "metadata": {},
   "outputs": [
    {
     "data": {
      "text/plain": [
       "512"
      ]
     },
     "execution_count": 3,
     "metadata": {},
     "output_type": "execute_result"
    }
   ],
   "source": [
    "NUM_FEATURES = model.fc.in_features\n",
    "NUM_FEATURES"
   ]
  },
  {
   "cell_type": "code",
   "execution_count": 10,
   "metadata": {},
   "outputs": [
    {
     "data": {
      "text/plain": [
       "(17, (3, 224, 224), (64,), (16,))"
      ]
     },
     "execution_count": 10,
     "metadata": {},
     "output_type": "execute_result"
    }
   ],
   "source": [
    "dataset = TrainPascalDataset(grid_size=4)\n",
    "image_id, im, gt_bbs, gt_cats = dataset[1]\n",
    "image_id, im.shape, gt_bbs.shape, gt_cats.shape"
   ]
  },
  {
   "cell_type": "code",
   "execution_count": 16,
   "metadata": {},
   "outputs": [
    {
     "data": {
      "text/plain": [
       "(torch.Size([4]),\n",
       " torch.Size([4, 3, 224, 224]),\n",
       " torch.Size([4, 64]),\n",
       " torch.Size([4, 16]))"
      ]
     },
     "execution_count": 16,
     "metadata": {},
     "output_type": "execute_result"
    }
   ],
   "source": [
    "dataloader = DataLoader(dataset, batch_size=4, shuffle=True, num_workers=0)\n",
    "\n",
    "item = next(iter(dataloader))\n",
    "image_ids, ims, bbs, cats = item\n",
    "image_ids.shape, ims.shape, bbs.shape, cats.shape"
   ]
  },
  {
   "cell_type": "code",
   "execution_count": 17,
   "metadata": {},
   "outputs": [
    {
     "data": {
      "text/plain": [
       "5.0"
      ]
     },
     "execution_count": 17,
     "metadata": {},
     "output_type": "execute_result"
    }
   ],
   "source": [
    "320 / 64"
   ]
  },
  {
   "cell_type": "code",
   "execution_count": 36,
   "metadata": {},
   "outputs": [],
   "source": [
    "model = models.resnet18(pretrained=True)\n",
    "\n",
    "class AsIsHead(nn.Module):\n",
    "    def __init__(self):\n",
    "        super().__init__()\n",
    "    def forward(self, x):\n",
    "        return x\n",
    "    \n",
    "model.fc = AsIsHead()"
   ]
  },
  {
   "cell_type": "code",
   "execution_count": 37,
   "metadata": {},
   "outputs": [],
   "source": [
    "outputs = model(ims)"
   ]
  },
  {
   "cell_type": "code",
   "execution_count": 38,
   "metadata": {},
   "outputs": [
    {
     "data": {
      "text/plain": [
       "torch.Size([4, 512])"
      ]
     },
     "execution_count": 38,
     "metadata": {},
     "output_type": "execute_result"
    }
   ],
   "source": [
    "outputs.shape"
   ]
  },
  {
   "cell_type": "code",
   "execution_count": null,
   "metadata": {},
   "outputs": [],
   "source": []
  },
  {
   "cell_type": "markdown",
   "metadata": {},
   "source": [
    "# Custom Head"
   ]
  },
  {
   "cell_type": "code",
   "execution_count": 12,
   "metadata": {},
   "outputs": [],
   "source": [
    "class CustomHead(nn.Module):\n",
    "    def __init__(self):\n",
    "        super().__init__()\n",
    "        self.conv2d_1 = nn.Conv2d(1, 10, kernel_size=5)\n",
    "        self.conv2d_2 = nn.Conv2d(10, 20, kernel_size=5)\n",
    "        self.conv2d_drop = nn.Dropout2d()\n",
    "        self.linear = nn.Linear(512, 784)\n",
    "        self.linear_cats = nn.Linear(320, 16*20)\n",
    "        self.linear_bbs = nn.Linear(320, 16*4)\n",
    "\n",
    "    def forward(self, outputs):\n",
    "        out3 = self.linear(outputs)\n",
    "        out4 = torch.reshape(out3, (4, 28, 28))\n",
    "        out5 = out4.unsqueeze(1) # [4, 1, 28, 28]\n",
    "        out7 = self.conv2d_1(out5) # [4, 10, 24, 24]\n",
    "        out7_mp = F.relu(F.max_pool2d(out7, kernel_size=2)) # [4, 10, 12, 12]\n",
    "        out8_mp = F.relu(F.max_pool2d(self.conv2d_2(out7_mp), kernel_size=2)) # [4, 20, 4, 4]\n",
    "        flat = out8_mp.view(4, 320) # [4, 320]\n",
    "\n",
    "        cats_pred = self.linear_cats(flat)\n",
    "        bbs_pred = self.linear_bbs(flat)\n",
    "        return [bbs_pred, cats_pred]\n",
    "    \n",
    "model.fc = CustomHead()\n",
    "outputs = model(ims)"
   ]
  },
  {
   "cell_type": "code",
   "execution_count": 35,
   "metadata": {},
   "outputs": [
    {
     "data": {
      "text/plain": [
       "torch.Size([4, 3, 224, 224])"
      ]
     },
     "execution_count": 35,
     "metadata": {},
     "output_type": "execute_result"
    }
   ],
   "source": [
    "ims.shape"
   ]
  },
  {
   "cell_type": "code",
   "execution_count": 28,
   "metadata": {},
   "outputs": [
    {
     "data": {
      "text/plain": [
       "320"
      ]
     },
     "execution_count": 28,
     "metadata": {},
     "output_type": "execute_result"
    }
   ],
   "source": [
    "20 * 4 * 4"
   ]
  },
  {
   "cell_type": "code",
   "execution_count": 29,
   "metadata": {},
   "outputs": [
    {
     "data": {
      "text/plain": [
       "512"
      ]
     },
     "execution_count": 29,
     "metadata": {},
     "output_type": "execute_result"
    }
   ],
   "source": [
    "256*2"
   ]
  },
  {
   "cell_type": "code",
   "execution_count": 30,
   "metadata": {},
   "outputs": [
    {
     "data": {
      "text/plain": [
       "192"
      ]
     },
     "execution_count": 30,
     "metadata": {},
     "output_type": "execute_result"
    }
   ],
   "source": [
    "512-320"
   ]
  },
  {
   "cell_type": "code",
   "execution_count": 31,
   "metadata": {},
   "outputs": [
    {
     "data": {
      "text/plain": [
       "12.0"
      ]
     },
     "execution_count": 31,
     "metadata": {},
     "output_type": "execute_result"
    }
   ],
   "source": [
    "192 / 16"
   ]
  },
  {
   "cell_type": "code",
   "execution_count": 32,
   "metadata": {},
   "outputs": [],
   "source": [
    "conv2d_1 = nn.Conv2d(1, 10, kernel_size=5)\n",
    "conv2d_2 = nn.Conv2d(10, 20, kernel_size=5)\n",
    "conv2d_drop = nn.Dropout2d()\n",
    "linear = nn.Linear(512, 784)\n",
    "linear_cats = nn.Linear(320, 16*20)\n",
    "linear_bbs = nn.Linear(320, 16*4)"
   ]
  },
  {
   "cell_type": "code",
   "execution_count": 39,
   "metadata": {},
   "outputs": [
    {
     "data": {
      "text/plain": [
       "torch.Size([4, 20, 4, 4])"
      ]
     },
     "execution_count": 39,
     "metadata": {},
     "output_type": "execute_result"
    }
   ],
   "source": [
    "out3 = linear(outputs)\n",
    "out4 = torch.reshape(out3, (4, 28, 28))\n",
    "out5 = out4.unsqueeze(1) # [4, 1, 28, 28]\n",
    "out7 = conv2d_1(out5) # [4, 10, 24, 24]\n",
    "out7_mp = F.relu(F.max_pool2d(out7, kernel_size=2)) # [4, 10, 12, 12]\n",
    "out8_mp = F.relu(F.max_pool2d(conv2d_2(out7_mp), kernel_size=2)) # [4, 20, 4, 4]\n",
    "out8_mp.shape"
   ]
  },
  {
   "cell_type": "code",
   "execution_count": 40,
   "metadata": {},
   "outputs": [
    {
     "data": {
      "text/plain": [
       "torch.Size([4, 10, 24, 24])"
      ]
     },
     "execution_count": 40,
     "metadata": {},
     "output_type": "execute_result"
    }
   ],
   "source": [
    "out7.shape"
   ]
  },
  {
   "cell_type": "code",
   "execution_count": 58,
   "metadata": {},
   "outputs": [
    {
     "data": {
      "text/plain": [
       "torch.Size([4, 40, 4, 4])"
      ]
     },
     "execution_count": 58,
     "metadata": {},
     "output_type": "execute_result"
    }
   ],
   "source": [
    "out1 = nn.Conv2d(20, 40, kernel_size=3, padding=1)(out8_mp)\n",
    "out1.shape"
   ]
  },
  {
   "cell_type": "code",
   "execution_count": 59,
   "metadata": {},
   "outputs": [
    {
     "data": {
      "text/plain": [
       "640"
      ]
     },
     "execution_count": 59,
     "metadata": {},
     "output_type": "execute_result"
    }
   ],
   "source": [
    "40*4*4"
   ]
  },
  {
   "cell_type": "code",
   "execution_count": 60,
   "metadata": {},
   "outputs": [
    {
     "data": {
      "text/plain": [
       "torch.Size([4, 40, 2, 2])"
      ]
     },
     "execution_count": 60,
     "metadata": {},
     "output_type": "execute_result"
    }
   ],
   "source": [
    "out2 = F.relu(F.max_pool2d(out1, kernel_size=2))\n",
    "out2.shape"
   ]
  },
  {
   "cell_type": "code",
   "execution_count": 61,
   "metadata": {},
   "outputs": [
    {
     "data": {
      "text/plain": [
       "160"
      ]
     },
     "execution_count": 61,
     "metadata": {},
     "output_type": "execute_result"
    }
   ],
   "source": [
    "40*2*2"
   ]
  },
  {
   "cell_type": "code",
   "execution_count": 63,
   "metadata": {},
   "outputs": [
    {
     "data": {
      "text/plain": [
       "torch.Size([4, 160])"
      ]
     },
     "execution_count": 63,
     "metadata": {},
     "output_type": "execute_result"
    }
   ],
   "source": [
    "out3 = out2.view(4, -1)\n",
    "out3.shape"
   ]
  },
  {
   "cell_type": "code",
   "execution_count": 64,
   "metadata": {},
   "outputs": [],
   "source": [
    "linear128 = nn.Linear(160, 128)\n",
    "linear64 = nn.Linear(128, 64)\n",
    "linear16 = nn.Linear(64, 16)"
   ]
  },
  {
   "cell_type": "code",
   "execution_count": 65,
   "metadata": {},
   "outputs": [
    {
     "data": {
      "text/plain": [
       "torch.Size([4, 128])"
      ]
     },
     "execution_count": 65,
     "metadata": {},
     "output_type": "execute_result"
    }
   ],
   "source": [
    "out4 = linear128(out3)\n",
    "out4.shape"
   ]
  },
  {
   "cell_type": "code",
   "execution_count": 66,
   "metadata": {},
   "outputs": [
    {
     "data": {
      "text/plain": [
       "torch.Size([4, 64])"
      ]
     },
     "execution_count": 66,
     "metadata": {},
     "output_type": "execute_result"
    }
   ],
   "source": [
    "out5 = linear64(out4)\n",
    "out5.shape"
   ]
  },
  {
   "cell_type": "code",
   "execution_count": 67,
   "metadata": {},
   "outputs": [
    {
     "data": {
      "text/plain": [
       "torch.Size([4, 16])"
      ]
     },
     "execution_count": 67,
     "metadata": {},
     "output_type": "execute_result"
    }
   ],
   "source": [
    "out6 = linear16(out5)\n",
    "out6.shape"
   ]
  },
  {
   "cell_type": "code",
   "execution_count": null,
   "metadata": {},
   "outputs": [],
   "source": []
  },
  {
   "cell_type": "code",
   "execution_count": 73,
   "metadata": {},
   "outputs": [],
   "source": [
    "conv2d_1 = nn.Conv2d(1, 10, kernel_size=5)\n",
    "conv2d_2 = nn.Conv2d(10, 20, kernel_size=5)\n",
    "conv2d_3 = nn.Conv2d(20, 40, kernel_size=3, padding=1)\n",
    "conv2d_drop = nn.Dropout2d()\n",
    "linear = nn.Linear(512, 784)\n",
    "linear128 = nn.Linear(160, 128)\n",
    "linear64 = nn.Linear(128, 64)\n",
    "linear16 = nn.Linear(64, 16)\n",
    "\n",
    "out3 = linear(outputs)\n",
    "out4 = torch.reshape(out3, (4, 28, 28))\n",
    "out5 = out4.unsqueeze(1) # [4, 1, 28, 28]\n",
    "out7 = conv2d_1(out5) # [4, 10, 24, 24]\n",
    "out7_mp = F.relu(F.max_pool2d(out7, kernel_size=2)) # [4, 10, 12, 12]\n",
    "out8 = conv2d_2(out7_mp) # [4, 20, 8, 8]\n",
    "out8_mp = F.relu(F.max_pool2d(out8, kernel_size=2)) # [4, 20, 4, 4]\n",
    "out9 = conv2d_3(out8_mp) # [4, 40, 4, 4]\n",
    "out9_mp = F.relu(F.max_pool2d(out9, kernel_size=2)) # [4, 40, 2, 2]\n",
    "flat = out9_mp.view(4, -1) # [4, 160]\n",
    "flat128 = linear128(flat)\n",
    "flat64 = linear64(flat128)\n",
    "flat16 = linear16(flat64)"
   ]
  },
  {
   "cell_type": "code",
   "execution_count": 74,
   "metadata": {},
   "outputs": [
    {
     "data": {
      "text/plain": [
       "torch.Size([4, 64])"
      ]
     },
     "execution_count": 74,
     "metadata": {},
     "output_type": "execute_result"
    }
   ],
   "source": [
    "flat64.shape"
   ]
  },
  {
   "cell_type": "code",
   "execution_count": 75,
   "metadata": {},
   "outputs": [
    {
     "data": {
      "text/plain": [
       "torch.Size([4, 16])"
      ]
     },
     "execution_count": 75,
     "metadata": {},
     "output_type": "execute_result"
    }
   ],
   "source": [
    "flat16.shape"
   ]
  },
  {
   "cell_type": "code",
   "execution_count": 71,
   "metadata": {},
   "outputs": [
    {
     "data": {
      "text/plain": [
       "torch.Size([4, 40, 2, 2])"
      ]
     },
     "execution_count": 71,
     "metadata": {},
     "output_type": "execute_result"
    }
   ],
   "source": [
    "out9_mp.shape"
   ]
  },
  {
   "cell_type": "code",
   "execution_count": 125,
   "metadata": {},
   "outputs": [],
   "source": [
    "class LinearCats(nn.Module):\n",
    "    \"\"\"\n",
    "    Takes a conv of [4, 20, 4, 4] and returns a vector of 320\n",
    "    \"\"\"\n",
    "    def __init__(self):\n",
    "        super().__init__()\n",
    "        self.conv2d_3 = nn.Conv2d(20, 40, kernel_size=3, padding=1)\n",
    "        self.conv2d_4 = nn.Conv2d(40, 80, 3, padding=1)\n",
    "\n",
    "    def forward(self, x):\n",
    "        x = F.relu(self.conv2d_3(x)) # [4, 40, 4, 4]\n",
    "        x = self.conv2d_4(x) # [4, 80, 4, 4]\n",
    "        x = F.relu(F.max_pool2d(x, 2)) # [4, 80, 2, 2] \n",
    "        return x.view(-1, 320) # [4, 320]\n",
    "\n",
    "class LinearBbs(nn.Module):\n",
    "    \"\"\"\n",
    "    Takes a conv of [4, 20, 4, 4] and returns a vector of 64\n",
    "    \"\"\"\n",
    "    def __init__(self):\n",
    "        super().__init__()\n",
    "        self.conv2d_3 = nn.Conv2d(20, 40, kernel_size=3, padding=1)\n",
    "        self.linear128 = nn.Linear(160, 128)\n",
    "        self.linear64 = nn.Linear(128, 64)\n",
    "\n",
    "    def forward(self, x):\n",
    "        out9 = self.conv2d_3(x) # [4, 40, 4, 4]\n",
    "        out9_mp = F.relu(F.max_pool2d(out9, kernel_size=2)) # [4, 40, 2, 2]\n",
    "        flat = out9_mp.view(4, -1) # [4, 160]\n",
    "        flat128 = F.relu(self.linear128(flat))\n",
    "        flat64 = F.relu(self.linear64(flat128))\n",
    "        return flat64\n",
    "    \n",
    "class CustomHeadDense(nn.Module):\n",
    "    def __init__(self):\n",
    "        super().__init__()\n",
    "        self.conv2d_1 = nn.Conv2d(1, 10, kernel_size=5)\n",
    "        self.conv2d_2 = nn.Conv2d(10, 20, kernel_size=5)\n",
    "        self.conv2d_3 = nn.Conv2d(20, 40, kernel_size=3, padding=1)\n",
    "        self.linear = nn.Linear(512, 784)\n",
    "        self.linear_cats = LinearCats()\n",
    "        self.linear_bbs = LinearBbs()\n",
    "\n",
    "    def forward(self, outputs):\n",
    "        out3 = self.linear(outputs)\n",
    "        out4 = torch.reshape(out3, (4, 28, 28))\n",
    "        out5 = out4.unsqueeze(1) # [4, 1, 28, 28]\n",
    "        out7 = self.conv2d_1(out5) # [4, 10, 24, 24]\n",
    "        out7_mp = F.relu(F.max_pool2d(out7, kernel_size=2)) # [4, 10, 12, 12]\n",
    "        out8 = self.conv2d_2(out7_mp) # [4, 20, 8, 8]\n",
    "        out8_mp = F.relu(F.max_pool2d(out8, kernel_size=2)) # [4, 20, 4, 4]\n",
    "        return self.linear_bbs(out8_mp), self.linear_cats(out8_mp)"
   ]
  },
  {
   "cell_type": "code",
   "execution_count": 126,
   "metadata": {},
   "outputs": [],
   "source": [
    "model.fc = CustomHeadDense()\n",
    "\n",
    "outputs = model(ims)"
   ]
  },
  {
   "cell_type": "code",
   "execution_count": 127,
   "metadata": {},
   "outputs": [
    {
     "data": {
      "text/plain": [
       "(torch.Size([4, 64]), torch.Size([4, 320]))"
      ]
     },
     "execution_count": 127,
     "metadata": {},
     "output_type": "execute_result"
    }
   ],
   "source": [
    "pred_bbs, pred_cats = outputs\n",
    "pred_bbs.shape, pred_cats.shape"
   ]
  },
  {
   "cell_type": "code",
   "execution_count": 114,
   "metadata": {},
   "outputs": [
    {
     "data": {
      "text/plain": [
       "torch.Size([4, 40, 2, 2])"
      ]
     },
     "execution_count": 114,
     "metadata": {},
     "output_type": "execute_result"
    }
   ],
   "source": [
    "out2 = F.max_pool2d(pred_cats, 2)\n",
    "out2.shape"
   ]
  },
  {
   "cell_type": "code",
   "execution_count": 115,
   "metadata": {},
   "outputs": [
    {
     "data": {
      "text/plain": [
       "160"
      ]
     },
     "execution_count": 115,
     "metadata": {},
     "output_type": "execute_result"
    }
   ],
   "source": [
    "40*2*2"
   ]
  },
  {
   "cell_type": "code",
   "execution_count": 119,
   "metadata": {},
   "outputs": [
    {
     "data": {
      "text/plain": [
       "torch.Size([4, 80, 4, 4])"
      ]
     },
     "execution_count": 119,
     "metadata": {},
     "output_type": "execute_result"
    }
   ],
   "source": [
    "out1 = nn.Conv2d(40, 80, 3, padding=1)(pred_cats)\n",
    "\n",
    "out3 = F.max_pool2d(out1, 2)\n"
   ]
  },
  {
   "cell_type": "code",
   "execution_count": 120,
   "metadata": {},
   "outputs": [
    {
     "data": {
      "text/plain": [
       "torch.Size([4, 80, 2, 2])"
      ]
     },
     "execution_count": 120,
     "metadata": {},
     "output_type": "execute_result"
    }
   ],
   "source": [
    "out3 = F.max_pool2d(out1, 2)\n",
    "out3.shape"
   ]
  },
  {
   "cell_type": "code",
   "execution_count": 121,
   "metadata": {},
   "outputs": [
    {
     "data": {
      "text/plain": [
       "320"
      ]
     },
     "execution_count": 121,
     "metadata": {},
     "output_type": "execute_result"
    }
   ],
   "source": [
    "80*2*2"
   ]
  },
  {
   "cell_type": "code",
   "execution_count": null,
   "metadata": {},
   "outputs": [],
   "source": []
  },
  {
   "cell_type": "code",
   "execution_count": 111,
   "metadata": {},
   "outputs": [
    {
     "data": {
      "text/plain": [
       "320"
      ]
     },
     "execution_count": 111,
     "metadata": {},
     "output_type": "execute_result"
    }
   ],
   "source": [
    "20*4*4"
   ]
  },
  {
   "cell_type": "code",
   "execution_count": 91,
   "metadata": {},
   "outputs": [
    {
     "ename": "RuntimeError",
     "evalue": "tensors used as indices must be long or byte tensors",
     "output_type": "error",
     "traceback": [
      "\u001b[0;31m---------------------------------------------------------------------------\u001b[0m",
      "\u001b[0;31mRuntimeError\u001b[0m                              Traceback (most recent call last)",
      "\u001b[0;32m<ipython-input-91-8089c022a07f>\u001b[0m in \u001b[0;36m<module>\u001b[0;34m()\u001b[0m\n\u001b[1;32m      1\u001b[0m \u001b[0mbboxer\u001b[0m \u001b[0;34m=\u001b[0m \u001b[0mBboxer\u001b[0m\u001b[0;34m(\u001b[0m\u001b[0mgrid_size\u001b[0m\u001b[0;34m=\u001b[0m\u001b[0;36m4\u001b[0m\u001b[0;34m)\u001b[0m\u001b[0;34m\u001b[0m\u001b[0m\n\u001b[1;32m      2\u001b[0m \u001b[0mnum_classes\u001b[0m\u001b[0;34m=\u001b[0m\u001b[0;36m20\u001b[0m\u001b[0;34m\u001b[0m\u001b[0m\n\u001b[0;32m----> 3\u001b[0;31m \u001b[0mone_pred_cats\u001b[0m \u001b[0;34m=\u001b[0m \u001b[0mtorch\u001b[0m\u001b[0;34m.\u001b[0m\u001b[0meye\u001b[0m\u001b[0;34m(\u001b[0m\u001b[0mnum_classes\u001b[0m\u001b[0;34m)\u001b[0m\u001b[0;34m[\u001b[0m\u001b[0mpred_cats\u001b[0m\u001b[0;34m.\u001b[0m\u001b[0mcpu\u001b[0m\u001b[0;34m(\u001b[0m\u001b[0;34m)\u001b[0m\u001b[0;34m]\u001b[0m\u001b[0;34m\u001b[0m\u001b[0m\n\u001b[0m\u001b[1;32m      4\u001b[0m \u001b[0mone_pred_cats\u001b[0m\u001b[0;34m.\u001b[0m\u001b[0mshape\u001b[0m\u001b[0;34m\u001b[0m\u001b[0m\n",
      "\u001b[0;31mRuntimeError\u001b[0m: tensors used as indices must be long or byte tensors"
     ]
    }
   ],
   "source": [
    "bboxer = Bboxer(grid_size=4)\n",
    "num_classes=20\n",
    "one_pred_cats = torch.eye(num_classes)[pred_cats.cpu()]\n",
    "one_pred_cats.shape"
   ]
  },
  {
   "cell_type": "code",
   "execution_count": 93,
   "metadata": {},
   "outputs": [
    {
     "data": {
      "text/plain": [
       "tensor([[0.0005, 0.0743, 0.0000, 0.0000, 0.1044, 0.0000, 0.0199, 0.0817, 0.0000,\n",
       "         0.0457, 0.0000, 0.0165, 0.0000, 0.1043, 0.0000, 0.0635],\n",
       "        [0.0022, 0.0713, 0.0000, 0.0000, 0.1084, 0.0000, 0.0199, 0.0892, 0.0000,\n",
       "         0.0461, 0.0000, 0.0195, 0.0000, 0.1068, 0.0000, 0.0602],\n",
       "        [0.0004, 0.0716, 0.0000, 0.0000, 0.0993, 0.0000, 0.0205, 0.0805, 0.0000,\n",
       "         0.0489, 0.0000, 0.0195, 0.0000, 0.1094, 0.0000, 0.0645],\n",
       "        [0.0038, 0.0755, 0.0000, 0.0000, 0.1017, 0.0000, 0.0219, 0.0807, 0.0000,\n",
       "         0.0496, 0.0000, 0.0130, 0.0000, 0.1063, 0.0000, 0.0657]],\n",
       "       grad_fn=<ReluBackward>)"
      ]
     },
     "execution_count": 93,
     "metadata": {},
     "output_type": "execute_result"
    }
   ],
   "source": [
    "pred_cats"
   ]
  },
  {
   "cell_type": "code",
   "execution_count": null,
   "metadata": {},
   "outputs": [],
   "source": []
  },
  {
   "cell_type": "code",
   "execution_count": 129,
   "metadata": {},
   "outputs": [],
   "source": [
    "from torch import optim\n",
    "\n",
    "model = models.resnet18(pretrained=True)\n",
    "model.fc = CustomHead()\n",
    "\n",
    "# data\n",
    "dataset = TrainPascalDataset(grid_size=4)\n",
    "dataloader = DataLoader(dataset, batch_size=4, shuffle=True, num_workers=0)\n",
    "\n",
    "# optimizer\n",
    "optimizer = optim.SGD(model.parameters(), lr=0.001, momentum=0.9)\n",
    "\n",
    "# process\n",
    "item = next(iter(dataloader))\n",
    "image_ids, ims, bbs, cats = item\n",
    "\n",
    "# zero the parameter gradients\n",
    "optimizer.zero_grad()\n",
    "\n",
    "# forward pass\n",
    "pred_bbs, pred_cats = model(ims)"
   ]
  },
  {
   "cell_type": "code",
   "execution_count": 130,
   "metadata": {},
   "outputs": [
    {
     "data": {
      "text/plain": [
       "(torch.Size([4, 64]), torch.Size([4, 320]))"
      ]
     },
     "execution_count": 130,
     "metadata": {},
     "output_type": "execute_result"
    }
   ],
   "source": [
    "pred_bbs.shape, pred_cats.shape"
   ]
  },
  {
   "cell_type": "code",
   "execution_count": 132,
   "metadata": {},
   "outputs": [
    {
     "data": {
      "text/plain": [
       "torch.Size([4, 16])"
      ]
     },
     "execution_count": 132,
     "metadata": {},
     "output_type": "execute_result"
    }
   ],
   "source": [
    "cats.shape"
   ]
  },
  {
   "cell_type": "code",
   "execution_count": 134,
   "metadata": {},
   "outputs": [
    {
     "data": {
      "text/plain": [
       "torch.Size([4, 16, 21])"
      ]
     },
     "execution_count": 134,
     "metadata": {},
     "output_type": "execute_result"
    }
   ],
   "source": [
    "onehot_cats_bg = torch.eye(num_classes+1)[cats].shape\n"
   ]
  },
  {
   "cell_type": "code",
   "execution_count": null,
   "metadata": {},
   "outputs": [],
   "source": []
  },
  {
   "cell_type": "code",
   "execution_count": null,
   "metadata": {},
   "outputs": [],
   "source": [
    "from ssdmultibox.datasets import Bboxer\n",
    "\n",
    "\n",
    "class BCE_Loss(nn.Module):\n",
    "    def __init__(self, num_classes):\n",
    "        super().__init__()\n",
    "        self.num_classes = num_classes\n",
    "\n",
    "    def forward(self, pred, targ):\n",
    "        t = one_hot_embedding(targ, self.num_classes+1)\n",
    "        t = V(t[:,:-1].contiguous())#.cpu()\n",
    "        x = pred[:,:-1]\n",
    "        w = self.get_weight(x,t)\n",
    "        return F.binary_cross_entropy_with_logits(x, t, w, size_average=False)/self.num_classes"
   ]
  }
 ],
 "metadata": {
  "kernelspec": {
   "display_name": "Python 3",
   "language": "python",
   "name": "python3"
  },
  "language_info": {
   "codemirror_mode": {
    "name": "ipython",
    "version": 3
   },
   "file_extension": ".py",
   "mimetype": "text/x-python",
   "name": "python",
   "nbconvert_exporter": "python",
   "pygments_lexer": "ipython3",
   "version": "3.6.2"
  }
 },
 "nbformat": 4,
 "nbformat_minor": 2
}
