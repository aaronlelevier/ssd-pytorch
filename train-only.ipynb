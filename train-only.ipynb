{
 "cells": [
  {
   "cell_type": "code",
   "execution_count": 1,
   "metadata": {},
   "outputs": [
    {
     "name": "stdout",
     "output_type": "stream",
     "text": [
      "/home/paperspace/anaconda3/envs/fastai/bin/python\r\n"
     ]
    }
   ],
   "source": [
    "!which python"
   ]
  },
  {
   "cell_type": "code",
   "execution_count": 2,
   "metadata": {},
   "outputs": [],
   "source": [
    "import enum\n",
    "import math\n",
    "import pdb\n",
    "import platform\n",
    "import time\n",
    "\n",
    "import torch\n",
    "from torch import nn, optim\n",
    "from torch.utils.data import DataLoader\n",
    "from tqdm import tqdm_notebook\n",
    "\n",
    "from ssdmultibox.criterion import SSDLoss\n",
    "from ssdmultibox.datasets import PascalDataset, TrainPascalFlatDataset, device\n",
    "from ssdmultibox.models import SSDModel\n",
    "from ssdmultibox import utils\n",
    "\n",
    "import matplotlib.pyplot as plt\n",
    "plt.ion()"
   ]
  },
  {
   "cell_type": "code",
   "execution_count": 3,
   "metadata": {},
   "outputs": [
    {
     "data": {
      "text/plain": [
       "device(type='cuda', index=0)"
      ]
     },
     "execution_count": 3,
     "metadata": {},
     "output_type": "execute_result"
    }
   ],
   "source": [
    "device"
   ]
  },
  {
   "cell_type": "code",
   "execution_count": 4,
   "metadata": {},
   "outputs": [],
   "source": [
    "losses = {'total':[], 'loc':[], 'conf':[]}"
   ]
  },
  {
   "cell_type": "code",
   "execution_count": 5,
   "metadata": {},
   "outputs": [],
   "source": [
    "model = SSDModel().to(device)"
   ]
  },
  {
   "cell_type": "code",
   "execution_count": 6,
   "metadata": {},
   "outputs": [],
   "source": [
    "LR = 1e-2\n",
    "\n",
    "criterion = SSDLoss(alpha=.2)\n",
    "optimizer = optim.SGD(model.parameters(), lr=LR, momentum=0.9, weight_decay=0.0005)\n",
    "current_time = time.time()"
   ]
  },
  {
   "cell_type": "code",
   "execution_count": 7,
   "metadata": {},
   "outputs": [
    {
     "data": {
      "text/plain": [
       "4"
      ]
     },
     "execution_count": 7,
     "metadata": {},
     "output_type": "execute_result"
    }
   ],
   "source": [
    "TrainPascalFlatDataset.__len__ = lambda self: 4\n",
    "\n",
    "train_dataset = TrainPascalFlatDataset()\n",
    "\n",
    "len(train_dataset)"
   ]
  },
  {
   "cell_type": "code",
   "execution_count": 8,
   "metadata": {},
   "outputs": [
    {
     "data": {
      "text/plain": [
       "<ssdmultibox.datasets.TrainPascalFlatDataset at 0x7f3a60e8e2b0>"
      ]
     },
     "execution_count": 8,
     "metadata": {},
     "output_type": "execute_result"
    }
   ],
   "source": [
    "train_dataset"
   ]
  },
  {
   "cell_type": "code",
   "execution_count": 9,
   "metadata": {},
   "outputs": [],
   "source": [
    "NUM_WORKERS = utils.get_cpu_count()\n",
    "\n",
    "# if platform.system() == 'Darwin': # Mac\n",
    "#     BATCH = 4\n",
    "#     SHUFFLE = False\n",
    "# else:\n",
    "#     BATCH = 32\n",
    "#     SHUFFLE = True\n",
    "\n",
    "BATCH = 4\n",
    "SHUFFLE = False\n",
    "    \n",
    "dataloader = DataLoader(train_dataset, batch_size=BATCH, shuffle=SHUFFLE, num_workers=NUM_WORKERS)"
   ]
  },
  {
   "cell_type": "code",
   "execution_count": 48,
   "metadata": {
    "scrolled": true
   },
   "outputs": [
    {
     "data": {
      "application/vnd.jupyter.widget-view+json": {
       "model_id": "1e8fb6234a674655a27fe83c87815014",
       "version_major": 2,
       "version_minor": 0
      },
      "text/plain": [
       "HBox(children=(IntProgress(value=0, max=1), HTML(value='')))"
      ]
     },
     "metadata": {},
     "output_type": "display_data"
    },
    {
     "name": "stdout",
     "output_type": "stream",
     "text": [
      "pos_loss: 112.3489 neg_hard_mining_loss: 344.8733\n",
      "n: 37.0 bbs_loss: 544.1808 cats_loss: 457.2222\n",
      "epoch: 0 step: 0 loss: 27.0649 time: 700.6466\n"
     ]
    },
    {
     "data": {
      "application/vnd.jupyter.widget-view+json": {
       "model_id": "6008aaa03357478395c227865c8fbc8c",
       "version_major": 2,
       "version_minor": 0
      },
      "text/plain": [
       "HBox(children=(IntProgress(value=0, max=1), HTML(value='')))"
      ]
     },
     "metadata": {},
     "output_type": "display_data"
    },
    {
     "name": "stdout",
     "output_type": "stream",
     "text": [
      "pos_loss: 112.2772 neg_hard_mining_loss: 341.9413\n",
      "n: 37.0 bbs_loss: 544.1751 cats_loss: 454.2185\n",
      "epoch: 1 step: 0 loss: 26.9836 time: 0.5064\n"
     ]
    },
    {
     "data": {
      "application/vnd.jupyter.widget-view+json": {
       "model_id": "9317cfd8149f481bbf5830c5eabef48d",
       "version_major": 2,
       "version_minor": 0
      },
      "text/plain": [
       "HBox(children=(IntProgress(value=0, max=1), HTML(value='')))"
      ]
     },
     "metadata": {},
     "output_type": "display_data"
    },
    {
     "name": "stdout",
     "output_type": "stream",
     "text": [
      "pos_loss: 112.1865 neg_hard_mining_loss: 339.9093\n",
      "n: 37.0 bbs_loss: 544.1680 cats_loss: 452.0958\n",
      "epoch: 2 step: 0 loss: 26.9260 time: 0.5237\n"
     ]
    },
    {
     "data": {
      "application/vnd.jupyter.widget-view+json": {
       "model_id": "b085353c5bd94aff84076b690347c765",
       "version_major": 2,
       "version_minor": 0
      },
      "text/plain": [
       "HBox(children=(IntProgress(value=0, max=1), HTML(value='')))"
      ]
     },
     "metadata": {},
     "output_type": "display_data"
    },
    {
     "name": "stdout",
     "output_type": "stream",
     "text": [
      "pos_loss: 112.0860 neg_hard_mining_loss: 339.1512\n",
      "n: 37.0 bbs_loss: 544.1597 cats_loss: 451.2372\n",
      "epoch: 3 step: 0 loss: 26.9026 time: 0.5338\n"
     ]
    },
    {
     "data": {
      "application/vnd.jupyter.widget-view+json": {
       "model_id": "e948997e66bf45bfa0623b3614cbd5ae",
       "version_major": 2,
       "version_minor": 0
      },
      "text/plain": [
       "HBox(children=(IntProgress(value=0, max=1), HTML(value='')))"
      ]
     },
     "metadata": {},
     "output_type": "display_data"
    },
    {
     "name": "stdout",
     "output_type": "stream",
     "text": [
      "pos_loss: 111.9739 neg_hard_mining_loss: 338.4865\n",
      "n: 37.0 bbs_loss: 544.1501 cats_loss: 450.4604\n",
      "epoch: 4 step: 0 loss: 26.8814 time: 0.5278\n"
     ]
    },
    {
     "data": {
      "application/vnd.jupyter.widget-view+json": {
       "model_id": "15ca7ee612584c23a6afa68f0731ae6c",
       "version_major": 2,
       "version_minor": 0
      },
      "text/plain": [
       "HBox(children=(IntProgress(value=0, max=1), HTML(value='')))"
      ]
     },
     "metadata": {},
     "output_type": "display_data"
    },
    {
     "name": "stdout",
     "output_type": "stream",
     "text": [
      "pos_loss: 111.8487 neg_hard_mining_loss: 337.8940\n",
      "n: 37.0 bbs_loss: 544.1393 cats_loss: 449.7427\n",
      "epoch: 5 step: 0 loss: 26.8617 time: 0.5260\n"
     ]
    },
    {
     "data": {
      "application/vnd.jupyter.widget-view+json": {
       "model_id": "0b2313cca6b04ee4b971cae856593c7c",
       "version_major": 2,
       "version_minor": 0
      },
      "text/plain": [
       "HBox(children=(IntProgress(value=0, max=1), HTML(value='')))"
      ]
     },
     "metadata": {},
     "output_type": "display_data"
    },
    {
     "name": "stdout",
     "output_type": "stream",
     "text": [
      "pos_loss: 111.7107 neg_hard_mining_loss: 337.3928\n",
      "n: 37.0 bbs_loss: 544.1279 cats_loss: 449.1036\n",
      "epoch: 6 step: 0 loss: 26.8441 time: 0.5519\n"
     ]
    },
    {
     "data": {
      "application/vnd.jupyter.widget-view+json": {
       "model_id": "1cb106321f694074aba58f76f7f721e3",
       "version_major": 2,
       "version_minor": 0
      },
      "text/plain": [
       "HBox(children=(IntProgress(value=0, max=1), HTML(value='')))"
      ]
     },
     "metadata": {},
     "output_type": "display_data"
    },
    {
     "name": "stdout",
     "output_type": "stream",
     "text": [
      "pos_loss: 111.5637 neg_hard_mining_loss: 336.6177\n",
      "n: 37.0 bbs_loss: 544.1152 cats_loss: 448.1813\n",
      "epoch: 7 step: 0 loss: 26.8188 time: 0.5285\n"
     ]
    },
    {
     "data": {
      "application/vnd.jupyter.widget-view+json": {
       "model_id": "c607272da92d428197ae4ae883e3a850",
       "version_major": 2,
       "version_minor": 0
      },
      "text/plain": [
       "HBox(children=(IntProgress(value=0, max=1), HTML(value='')))"
      ]
     },
     "metadata": {},
     "output_type": "display_data"
    },
    {
     "name": "stdout",
     "output_type": "stream",
     "text": [
      "pos_loss: 111.4092 neg_hard_mining_loss: 335.6691\n",
      "n: 37.0 bbs_loss: 544.1019 cats_loss: 447.0783\n",
      "epoch: 8 step: 0 loss: 26.7887 time: 0.5420\n"
     ]
    },
    {
     "data": {
      "application/vnd.jupyter.widget-view+json": {
       "model_id": "0d6399c98e3a412d8028a0c31d8c5db7",
       "version_major": 2,
       "version_minor": 0
      },
      "text/plain": [
       "HBox(children=(IntProgress(value=0, max=1), HTML(value='')))"
      ]
     },
     "metadata": {},
     "output_type": "display_data"
    },
    {
     "name": "stdout",
     "output_type": "stream",
     "text": [
      "pos_loss: 111.2485 neg_hard_mining_loss: 334.6364\n",
      "n: 37.0 bbs_loss: 544.0874 cats_loss: 445.8849\n",
      "epoch: 9 step: 0 loss: 26.7560 time: 0.5162\n"
     ]
    },
    {
     "data": {
      "application/vnd.jupyter.widget-view+json": {
       "model_id": "970eb0308da24f23ba072ec6428e0ccc",
       "version_major": 2,
       "version_minor": 0
      },
      "text/plain": [
       "HBox(children=(IntProgress(value=0, max=1), HTML(value='')))"
      ]
     },
     "metadata": {},
     "output_type": "display_data"
    },
    {
     "name": "stdout",
     "output_type": "stream",
     "text": [
      "pos_loss: 111.0805 neg_hard_mining_loss: 333.6792\n",
      "n: 37.0 bbs_loss: 544.0717 cats_loss: 444.7597\n",
      "epoch: 10 step: 0 loss: 26.7252 time: 0.5136\n"
     ]
    },
    {
     "data": {
      "application/vnd.jupyter.widget-view+json": {
       "model_id": "bdd8b2c220dd4f1d928a99b13baf5a3c",
       "version_major": 2,
       "version_minor": 0
      },
      "text/plain": [
       "HBox(children=(IntProgress(value=0, max=1), HTML(value='')))"
      ]
     },
     "metadata": {},
     "output_type": "display_data"
    },
    {
     "name": "stdout",
     "output_type": "stream",
     "text": [
      "pos_loss: 110.9027 neg_hard_mining_loss: 332.6878\n",
      "n: 37.0 bbs_loss: 544.0553 cats_loss: 443.5904\n",
      "epoch: 11 step: 0 loss: 26.6931 time: 0.5027\n"
     ]
    },
    {
     "data": {
      "application/vnd.jupyter.widget-view+json": {
       "model_id": "22a7e460049c44b2b6661997490f62f6",
       "version_major": 2,
       "version_minor": 0
      },
      "text/plain": [
       "HBox(children=(IntProgress(value=0, max=1), HTML(value='')))"
      ]
     },
     "metadata": {},
     "output_type": "display_data"
    },
    {
     "name": "stdout",
     "output_type": "stream",
     "text": [
      "pos_loss: 110.7152 neg_hard_mining_loss: 331.5751\n",
      "n: 37.0 bbs_loss: 544.0384 cats_loss: 442.2903\n",
      "epoch: 12 step: 0 loss: 26.6575 time: 0.5331\n"
     ]
    },
    {
     "data": {
      "application/vnd.jupyter.widget-view+json": {
       "model_id": "c5eb8b5ea380406a8c74d516cafd47f7",
       "version_major": 2,
       "version_minor": 0
      },
      "text/plain": [
       "HBox(children=(IntProgress(value=0, max=1), HTML(value='')))"
      ]
     },
     "metadata": {},
     "output_type": "display_data"
    },
    {
     "name": "stdout",
     "output_type": "stream",
     "text": [
      "pos_loss: 110.5180 neg_hard_mining_loss: 330.4115\n",
      "n: 37.0 bbs_loss: 544.0209 cats_loss: 440.9295\n",
      "epoch: 13 step: 0 loss: 26.6203 time: 0.5390\n"
     ]
    },
    {
     "data": {
      "application/vnd.jupyter.widget-view+json": {
       "model_id": "00b1092d05414ef08df484b02eb06565",
       "version_major": 2,
       "version_minor": 0
      },
      "text/plain": [
       "HBox(children=(IntProgress(value=0, max=1), HTML(value='')))"
      ]
     },
     "metadata": {},
     "output_type": "display_data"
    },
    {
     "name": "stdout",
     "output_type": "stream",
     "text": [
      "pos_loss: 110.3111 neg_hard_mining_loss: 329.1953\n",
      "n: 37.0 bbs_loss: 544.0026 cats_loss: 439.5063\n",
      "epoch: 14 step: 0 loss: 26.5813 time: 0.5286\n"
     ]
    },
    {
     "data": {
      "application/vnd.jupyter.widget-view+json": {
       "model_id": "0441f8d605ba4e4faccddd9eb4c4c2c5",
       "version_major": 2,
       "version_minor": 0
      },
      "text/plain": [
       "HBox(children=(IntProgress(value=0, max=1), HTML(value='')))"
      ]
     },
     "metadata": {},
     "output_type": "display_data"
    },
    {
     "name": "stdout",
     "output_type": "stream",
     "text": [
      "pos_loss: 110.0948 neg_hard_mining_loss: 327.9409\n",
      "n: 37.0 bbs_loss: 543.9833 cats_loss: 438.0356\n",
      "epoch: 15 step: 0 loss: 26.5411 time: 0.4967\n"
     ]
    },
    {
     "data": {
      "application/vnd.jupyter.widget-view+json": {
       "model_id": "76e0ef0e98304b79ae77b79eba283591",
       "version_major": 2,
       "version_minor": 0
      },
      "text/plain": [
       "HBox(children=(IntProgress(value=0, max=1), HTML(value='')))"
      ]
     },
     "metadata": {},
     "output_type": "display_data"
    },
    {
     "name": "stdout",
     "output_type": "stream",
     "text": [
      "pos_loss: 109.8688 neg_hard_mining_loss: 326.7601\n",
      "n: 37.0 bbs_loss: 543.9628 cats_loss: 436.6288\n",
      "epoch: 16 step: 0 loss: 26.5025 time: 0.5146\n"
     ]
    },
    {
     "data": {
      "application/vnd.jupyter.widget-view+json": {
       "model_id": "7643bfda57174bd6bfa0e8790558b1be",
       "version_major": 2,
       "version_minor": 0
      },
      "text/plain": [
       "HBox(children=(IntProgress(value=0, max=1), HTML(value='')))"
      ]
     },
     "metadata": {},
     "output_type": "display_data"
    },
    {
     "name": "stdout",
     "output_type": "stream",
     "text": [
      "pos_loss: 109.6322 neg_hard_mining_loss: 325.5150\n",
      "n: 37.0 bbs_loss: 543.9411 cats_loss: 435.1472\n",
      "epoch: 17 step: 0 loss: 26.4618 time: 0.5312\n"
     ]
    },
    {
     "data": {
      "application/vnd.jupyter.widget-view+json": {
       "model_id": "dd9e90aed933421db45f67933d871218",
       "version_major": 2,
       "version_minor": 0
      },
      "text/plain": [
       "HBox(children=(IntProgress(value=0, max=1), HTML(value='')))"
      ]
     },
     "metadata": {},
     "output_type": "display_data"
    },
    {
     "name": "stdout",
     "output_type": "stream",
     "text": [
      "pos_loss: 109.3841 neg_hard_mining_loss: 324.1487\n",
      "n: 37.0 bbs_loss: 543.9183 cats_loss: 433.5328\n",
      "epoch: 18 step: 0 loss: 26.4176 time: 0.5285\n"
     ]
    },
    {
     "data": {
      "application/vnd.jupyter.widget-view+json": {
       "model_id": "1485c36b764f424aa1725fd457140f18",
       "version_major": 2,
       "version_minor": 0
      },
      "text/plain": [
       "HBox(children=(IntProgress(value=0, max=1), HTML(value='')))"
      ]
     },
     "metadata": {},
     "output_type": "display_data"
    },
    {
     "name": "stdout",
     "output_type": "stream",
     "text": [
      "pos_loss: 109.1233 neg_hard_mining_loss: 322.8454\n",
      "n: 37.0 bbs_loss: 543.8940 cats_loss: 431.9686\n",
      "epoch: 19 step: 0 loss: 26.3747 time: 0.5264\n"
     ]
    },
    {
     "data": {
      "application/vnd.jupyter.widget-view+json": {
       "model_id": "3ddb4f6adb7a4a9ea0ba3ca36dadd5f1",
       "version_major": 2,
       "version_minor": 0
      },
      "text/plain": [
       "HBox(children=(IntProgress(value=0, max=1), HTML(value='')))"
      ]
     },
     "metadata": {},
     "output_type": "display_data"
    },
    {
     "name": "stdout",
     "output_type": "stream",
     "text": [
      "pos_loss: 108.8459 neg_hard_mining_loss: 321.5583\n",
      "n: 37.0 bbs_loss: 543.8683 cats_loss: 430.4041\n",
      "epoch: 20 step: 0 loss: 26.3317 time: 0.5429\n"
     ]
    },
    {
     "data": {
      "application/vnd.jupyter.widget-view+json": {
       "model_id": "17ee90530f9746379484aecd7a5400cf",
       "version_major": 2,
       "version_minor": 0
      },
      "text/plain": [
       "HBox(children=(IntProgress(value=0, max=1), HTML(value='')))"
      ]
     },
     "metadata": {},
     "output_type": "display_data"
    },
    {
     "name": "stdout",
     "output_type": "stream",
     "text": [
      "pos_loss: 108.5503 neg_hard_mining_loss: 320.0981\n",
      "n: 37.0 bbs_loss: 543.8409 cats_loss: 428.6484\n",
      "epoch: 21 step: 0 loss: 26.2835 time: 0.5190\n"
     ]
    },
    {
     "data": {
      "application/vnd.jupyter.widget-view+json": {
       "model_id": "34b843e15af840c6a260f614a5982b48",
       "version_major": 2,
       "version_minor": 0
      },
      "text/plain": [
       "HBox(children=(IntProgress(value=0, max=1), HTML(value='')))"
      ]
     },
     "metadata": {},
     "output_type": "display_data"
    },
    {
     "name": "stdout",
     "output_type": "stream",
     "text": [
      "pos_loss: 108.2335 neg_hard_mining_loss: 318.8831\n",
      "n: 37.0 bbs_loss: 543.8118 cats_loss: 427.1167\n",
      "epoch: 22 step: 0 loss: 26.2413 time: 0.5427\n"
     ]
    },
    {
     "data": {
      "application/vnd.jupyter.widget-view+json": {
       "model_id": "b98a36ca621147de8751fa986fb47053",
       "version_major": 2,
       "version_minor": 0
      },
      "text/plain": [
       "HBox(children=(IntProgress(value=0, max=1), HTML(value='')))"
      ]
     },
     "metadata": {},
     "output_type": "display_data"
    },
    {
     "name": "stdout",
     "output_type": "stream",
     "text": [
      "pos_loss: 107.8950 neg_hard_mining_loss: 317.6512\n",
      "n: 37.0 bbs_loss: 543.7808 cats_loss: 425.5463\n",
      "epoch: 23 step: 0 loss: 26.1980 time: 0.5156\n"
     ]
    },
    {
     "data": {
      "application/vnd.jupyter.widget-view+json": {
       "model_id": "223d9a022aed4682ac6472dcb658ac42",
       "version_major": 2,
       "version_minor": 0
      },
      "text/plain": [
       "HBox(children=(IntProgress(value=0, max=1), HTML(value='')))"
      ]
     },
     "metadata": {},
     "output_type": "display_data"
    },
    {
     "name": "stdout",
     "output_type": "stream",
     "text": [
      "pos_loss: 107.5333 neg_hard_mining_loss: 316.3799\n",
      "n: 37.0 bbs_loss: 543.7477 cats_loss: 423.9132\n",
      "epoch: 24 step: 0 loss: 26.1530 time: 0.5462\n"
     ]
    },
    {
     "data": {
      "application/vnd.jupyter.widget-view+json": {
       "model_id": "bc73231d31b44ba7b007422f5e0bf342",
       "version_major": 2,
       "version_minor": 0
      },
      "text/plain": [
       "HBox(children=(IntProgress(value=0, max=1), HTML(value='')))"
      ]
     },
     "metadata": {},
     "output_type": "display_data"
    },
    {
     "name": "stdout",
     "output_type": "stream",
     "text": [
      "pos_loss: 107.1461 neg_hard_mining_loss: 315.0168\n",
      "n: 37.0 bbs_loss: 543.7125 cats_loss: 422.1629\n",
      "epoch: 25 step: 0 loss: 26.1047 time: 0.5486\n"
     ]
    },
    {
     "data": {
      "application/vnd.jupyter.widget-view+json": {
       "model_id": "fafd1783be7f4e7d87fb579172fa78c2",
       "version_major": 2,
       "version_minor": 0
      },
      "text/plain": [
       "HBox(children=(IntProgress(value=0, max=1), HTML(value='')))"
      ]
     },
     "metadata": {},
     "output_type": "display_data"
    },
    {
     "name": "stdout",
     "output_type": "stream",
     "text": [
      "pos_loss: 106.7320 neg_hard_mining_loss: 313.4883\n",
      "n: 37.0 bbs_loss: 543.6750 cats_loss: 420.2203\n",
      "epoch: 26 step: 0 loss: 26.0512 time: 0.5292\n"
     ]
    },
    {
     "data": {
      "application/vnd.jupyter.widget-view+json": {
       "model_id": "e2a22d488ddd45878a5427940cc81a9d",
       "version_major": 2,
       "version_minor": 0
      },
      "text/plain": [
       "HBox(children=(IntProgress(value=0, max=1), HTML(value='')))"
      ]
     },
     "metadata": {},
     "output_type": "display_data"
    },
    {
     "name": "stdout",
     "output_type": "stream",
     "text": [
      "pos_loss: 106.2844 neg_hard_mining_loss: 312.0719\n",
      "n: 37.0 bbs_loss: 543.6344 cats_loss: 418.3564\n",
      "epoch: 27 step: 0 loss: 25.9998 time: 0.5421\n"
     ]
    },
    {
     "data": {
      "application/vnd.jupyter.widget-view+json": {
       "model_id": "649bba0a1b144d619021e2bf1c6adabe",
       "version_major": 2,
       "version_minor": 0
      },
      "text/plain": [
       "HBox(children=(IntProgress(value=0, max=1), HTML(value='')))"
      ]
     },
     "metadata": {},
     "output_type": "display_data"
    },
    {
     "name": "stdout",
     "output_type": "stream",
     "text": [
      "pos_loss: 105.8021 neg_hard_mining_loss: 310.6029\n",
      "n: 37.0 bbs_loss: 543.5908 cats_loss: 416.4050\n",
      "epoch: 28 step: 0 loss: 25.9458 time: 0.5510\n"
     ]
    },
    {
     "data": {
      "application/vnd.jupyter.widget-view+json": {
       "model_id": "8a6ded98a06846e4820723c61a0a917e",
       "version_major": 2,
       "version_minor": 0
      },
      "text/plain": [
       "HBox(children=(IntProgress(value=0, max=1), HTML(value='')))"
      ]
     },
     "metadata": {},
     "output_type": "display_data"
    },
    {
     "name": "stdout",
     "output_type": "stream",
     "text": [
      "pos_loss: 105.2810 neg_hard_mining_loss: 309.1045\n",
      "n: 37.0 bbs_loss: 543.5436 cats_loss: 414.3854\n",
      "epoch: 29 step: 0 loss: 25.8900 time: 0.5139\n"
     ]
    },
    {
     "data": {
      "application/vnd.jupyter.widget-view+json": {
       "model_id": "9520936e6ddd4e8eb128b4285524899b",
       "version_major": 2,
       "version_minor": 0
      },
      "text/plain": [
       "HBox(children=(IntProgress(value=0, max=1), HTML(value='')))"
      ]
     },
     "metadata": {},
     "output_type": "display_data"
    },
    {
     "name": "stdout",
     "output_type": "stream",
     "text": [
      "pos_loss: 104.7133 neg_hard_mining_loss: 307.5280\n",
      "n: 37.0 bbs_loss: 543.4921 cats_loss: 412.2413\n",
      "epoch: 30 step: 0 loss: 25.8306 time: 0.5020\n"
     ]
    },
    {
     "data": {
      "application/vnd.jupyter.widget-view+json": {
       "model_id": "63d15fa156e045d8bc9f81781169aac0",
       "version_major": 2,
       "version_minor": 0
      },
      "text/plain": [
       "HBox(children=(IntProgress(value=0, max=1), HTML(value='')))"
      ]
     },
     "metadata": {},
     "output_type": "display_data"
    },
    {
     "name": "stdout",
     "output_type": "stream",
     "text": [
      "pos_loss: 104.0890 neg_hard_mining_loss: 305.9362\n",
      "n: 37.0 bbs_loss: 543.4348 cats_loss: 410.0251\n",
      "epoch: 31 step: 0 loss: 25.7692 time: 0.5426\n"
     ]
    },
    {
     "data": {
      "application/vnd.jupyter.widget-view+json": {
       "model_id": "2a84efa7499449e6aa9dfb1ac3311b33",
       "version_major": 2,
       "version_minor": 0
      },
      "text/plain": [
       "HBox(children=(IntProgress(value=0, max=1), HTML(value='')))"
      ]
     },
     "metadata": {},
     "output_type": "display_data"
    },
    {
     "name": "stdout",
     "output_type": "stream",
     "text": [
      "pos_loss: 103.4032 neg_hard_mining_loss: 304.2550\n",
      "n: 37.0 bbs_loss: 543.3719 cats_loss: 407.6582\n",
      "epoch: 32 step: 0 loss: 25.7035 time: 0.5271\n"
     ]
    },
    {
     "data": {
      "application/vnd.jupyter.widget-view+json": {
       "model_id": "50e1221973b045818e4fc544e7c5845f",
       "version_major": 2,
       "version_minor": 0
      },
      "text/plain": [
       "HBox(children=(IntProgress(value=0, max=1), HTML(value='')))"
      ]
     },
     "metadata": {},
     "output_type": "display_data"
    },
    {
     "name": "stdout",
     "output_type": "stream",
     "text": [
      "pos_loss: 102.6450 neg_hard_mining_loss: 302.5494\n",
      "n: 37.0 bbs_loss: 543.3022 cats_loss: 405.1943\n",
      "epoch: 33 step: 0 loss: 25.6350 time: 0.6685\n"
     ]
    },
    {
     "data": {
      "application/vnd.jupyter.widget-view+json": {
       "model_id": "f16896b683a441fc8db5d4523e19e022",
       "version_major": 2,
       "version_minor": 0
      },
      "text/plain": [
       "HBox(children=(IntProgress(value=0, max=1), HTML(value='')))"
      ]
     },
     "metadata": {},
     "output_type": "display_data"
    },
    {
     "name": "stdout",
     "output_type": "stream",
     "text": [
      "pos_loss: 101.8021 neg_hard_mining_loss: 300.8282\n",
      "n: 37.0 bbs_loss: 543.2244 cats_loss: 402.6303\n",
      "epoch: 34 step: 0 loss: 25.5636 time: 0.5321\n"
     ]
    },
    {
     "data": {
      "application/vnd.jupyter.widget-view+json": {
       "model_id": "8dd71e9999024954bdcdb06e170373c6",
       "version_major": 2,
       "version_minor": 0
      },
      "text/plain": [
       "HBox(children=(IntProgress(value=0, max=1), HTML(value='')))"
      ]
     },
     "metadata": {},
     "output_type": "display_data"
    },
    {
     "name": "stdout",
     "output_type": "stream",
     "text": [
      "pos_loss: 100.8657 neg_hard_mining_loss: 299.0500\n",
      "n: 37.0 bbs_loss: 543.1377 cats_loss: 399.9156\n",
      "epoch: 35 step: 0 loss: 25.4879 time: 0.5468\n"
     ]
    },
    {
     "data": {
      "application/vnd.jupyter.widget-view+json": {
       "model_id": "9b101ae295b64033ad4a0ad324372820",
       "version_major": 2,
       "version_minor": 0
      },
      "text/plain": [
       "HBox(children=(IntProgress(value=0, max=1), HTML(value='')))"
      ]
     },
     "metadata": {},
     "output_type": "display_data"
    },
    {
     "name": "stdout",
     "output_type": "stream",
     "text": [
      "pos_loss: 99.8186 neg_hard_mining_loss: 297.1234\n",
      "n: 37.0 bbs_loss: 543.0400 cats_loss: 396.9420\n",
      "epoch: 36 step: 0 loss: 25.4049 time: 0.5176\n"
     ]
    },
    {
     "data": {
      "application/vnd.jupyter.widget-view+json": {
       "model_id": "2749a85687504a8796fd88069d1ffbd8",
       "version_major": 2,
       "version_minor": 0
      },
      "text/plain": [
       "HBox(children=(IntProgress(value=0, max=1), HTML(value='')))"
      ]
     },
     "metadata": {},
     "output_type": "display_data"
    },
    {
     "name": "stdout",
     "output_type": "stream",
     "text": [
      "pos_loss: 98.6495 neg_hard_mining_loss: 295.1018\n",
      "n: 37.0 bbs_loss: 542.9308 cats_loss: 393.7513\n",
      "epoch: 37 step: 0 loss: 25.3157 time: 0.5184\n"
     ]
    },
    {
     "data": {
      "application/vnd.jupyter.widget-view+json": {
       "model_id": "e896612b36a845ddac11c6e42e5f99cf",
       "version_major": 2,
       "version_minor": 0
      },
      "text/plain": [
       "HBox(children=(IntProgress(value=0, max=1), HTML(value='')))"
      ]
     },
     "metadata": {},
     "output_type": "display_data"
    },
    {
     "name": "stdout",
     "output_type": "stream",
     "text": [
      "pos_loss: 97.3300 neg_hard_mining_loss: 293.0370\n",
      "n: 37.0 bbs_loss: 542.8073 cats_loss: 390.3671\n",
      "epoch: 38 step: 0 loss: 25.2209 time: 0.5271\n"
     ]
    },
    {
     "data": {
      "application/vnd.jupyter.widget-view+json": {
       "model_id": "2a75a8f33314427399bc386f75137ceb",
       "version_major": 2,
       "version_minor": 0
      },
      "text/plain": [
       "HBox(children=(IntProgress(value=0, max=1), HTML(value='')))"
      ]
     },
     "metadata": {},
     "output_type": "display_data"
    },
    {
     "name": "stdout",
     "output_type": "stream",
     "text": [
      "pos_loss: 95.8336 neg_hard_mining_loss: 290.8753\n",
      "n: 37.0 bbs_loss: 542.6667 cats_loss: 386.7090\n",
      "epoch: 39 step: 0 loss: 25.1183 time: 0.5385\n"
     ]
    },
    {
     "data": {
      "application/vnd.jupyter.widget-view+json": {
       "model_id": "177f7814194247f69e8991c83ae965bb",
       "version_major": 2,
       "version_minor": 0
      },
      "text/plain": [
       "HBox(children=(IntProgress(value=0, max=1), HTML(value='')))"
      ]
     },
     "metadata": {},
     "output_type": "display_data"
    },
    {
     "name": "stdout",
     "output_type": "stream",
     "text": [
      "pos_loss: 94.0996 neg_hard_mining_loss: 288.6708\n",
      "n: 37.0 bbs_loss: 542.5021 cats_loss: 382.7705\n",
      "epoch: 40 step: 0 loss: 25.0074 time: 0.5466\n"
     ]
    },
    {
     "data": {
      "application/vnd.jupyter.widget-view+json": {
       "model_id": "6e2bdac9d5cc4c7386b48cec2dd50aa1",
       "version_major": 2,
       "version_minor": 0
      },
      "text/plain": [
       "HBox(children=(IntProgress(value=0, max=1), HTML(value='')))"
      ]
     },
     "metadata": {},
     "output_type": "display_data"
    },
    {
     "name": "stdout",
     "output_type": "stream",
     "text": [
      "pos_loss: 92.1184 neg_hard_mining_loss: 286.3646\n",
      "n: 37.0 bbs_loss: 542.3129 cats_loss: 378.4829\n",
      "epoch: 41 step: 0 loss: 24.8864 time: 0.5411\n"
     ]
    },
    {
     "data": {
      "application/vnd.jupyter.widget-view+json": {
       "model_id": "dbcf726585df4ba4b474cb43e501432c",
       "version_major": 2,
       "version_minor": 0
      },
      "text/plain": [
       "HBox(children=(IntProgress(value=0, max=1), HTML(value='')))"
      ]
     },
     "metadata": {},
     "output_type": "display_data"
    },
    {
     "name": "stdout",
     "output_type": "stream",
     "text": [
      "pos_loss: 89.8455 neg_hard_mining_loss: 283.8842\n",
      "n: 37.0 bbs_loss: 542.0937 cats_loss: 373.7297\n",
      "epoch: 42 step: 0 loss: 24.7520 time: 0.5206\n"
     ]
    },
    {
     "data": {
      "application/vnd.jupyter.widget-view+json": {
       "model_id": "6cf706c66edd4a35bc7cb29477fa4771",
       "version_major": 2,
       "version_minor": 0
      },
      "text/plain": [
       "HBox(children=(IntProgress(value=0, max=1), HTML(value='')))"
      ]
     },
     "metadata": {},
     "output_type": "display_data"
    },
    {
     "name": "stdout",
     "output_type": "stream",
     "text": [
      "pos_loss: 87.2323 neg_hard_mining_loss: 281.3283\n",
      "n: 37.0 bbs_loss: 541.8380 cats_loss: 368.5607\n",
      "epoch: 43 step: 0 loss: 24.6054 time: 0.5484\n"
     ]
    },
    {
     "data": {
      "application/vnd.jupyter.widget-view+json": {
       "model_id": "7bf54782f56e431eb60ee06bed21dd7f",
       "version_major": 2,
       "version_minor": 0
      },
      "text/plain": [
       "HBox(children=(IntProgress(value=0, max=1), HTML(value='')))"
      ]
     },
     "metadata": {},
     "output_type": "display_data"
    },
    {
     "name": "stdout",
     "output_type": "stream",
     "text": [
      "pos_loss: 84.2256 neg_hard_mining_loss: 278.6091\n",
      "n: 37.0 bbs_loss: 541.5366 cats_loss: 362.8347\n",
      "epoch: 44 step: 0 loss: 24.4425 time: 0.4927\n"
     ]
    },
    {
     "data": {
      "application/vnd.jupyter.widget-view+json": {
       "model_id": "49bfbdad4410489d8203257e5d1732cd",
       "version_major": 2,
       "version_minor": 0
      },
      "text/plain": [
       "HBox(children=(IntProgress(value=0, max=1), HTML(value='')))"
      ]
     },
     "metadata": {},
     "output_type": "display_data"
    },
    {
     "name": "stdout",
     "output_type": "stream",
     "text": [
      "pos_loss: 80.7741 neg_hard_mining_loss: 275.8446\n",
      "n: 37.0 bbs_loss: 541.1776 cats_loss: 356.6188\n",
      "epoch: 45 step: 0 loss: 24.2648 time: 0.5353\n"
     ]
    },
    {
     "data": {
      "application/vnd.jupyter.widget-view+json": {
       "model_id": "f5bc3fb6e93c4b88b0bc5ccdf16f025b",
       "version_major": 2,
       "version_minor": 0
      },
      "text/plain": [
       "HBox(children=(IntProgress(value=0, max=1), HTML(value='')))"
      ]
     },
     "metadata": {},
     "output_type": "display_data"
    },
    {
     "name": "stdout",
     "output_type": "stream",
     "text": [
      "pos_loss: 76.8705 neg_hard_mining_loss: 272.9809\n",
      "n: 37.0 bbs_loss: 540.7448 cats_loss: 349.8514\n",
      "epoch: 46 step: 0 loss: 24.0702 time: 0.5407\n"
     ]
    },
    {
     "data": {
      "application/vnd.jupyter.widget-view+json": {
       "model_id": "bbf5d6a648124d36b851a60c3dc6b6a4",
       "version_major": 2,
       "version_minor": 0
      },
      "text/plain": [
       "HBox(children=(IntProgress(value=0, max=1), HTML(value='')))"
      ]
     },
     "metadata": {},
     "output_type": "display_data"
    },
    {
     "name": "stdout",
     "output_type": "stream",
     "text": [
      "pos_loss: 72.5646 neg_hard_mining_loss: 270.5859\n",
      "n: 37.0 bbs_loss: 540.2202 cats_loss: 343.1505\n",
      "epoch: 47 step: 0 loss: 23.8749 time: 0.5352\n"
     ]
    },
    {
     "data": {
      "application/vnd.jupyter.widget-view+json": {
       "model_id": "470980ae8ce94e71bfe14e1800be4ff9",
       "version_major": 2,
       "version_minor": 0
      },
      "text/plain": [
       "HBox(children=(IntProgress(value=0, max=1), HTML(value='')))"
      ]
     },
     "metadata": {},
     "output_type": "display_data"
    },
    {
     "name": "stdout",
     "output_type": "stream",
     "text": [
      "pos_loss: 68.4079 neg_hard_mining_loss: 267.4746\n",
      "n: 37.0 bbs_loss: 539.6001 cats_loss: 335.8824\n",
      "epoch: 48 step: 0 loss: 23.6617 time: 0.5183\n"
     ]
    },
    {
     "data": {
      "application/vnd.jupyter.widget-view+json": {
       "model_id": "652589ad4b314e45a138d64f499182d5",
       "version_major": 2,
       "version_minor": 0
      },
      "text/plain": [
       "HBox(children=(IntProgress(value=0, max=1), HTML(value='')))"
      ]
     },
     "metadata": {},
     "output_type": "display_data"
    },
    {
     "name": "stdout",
     "output_type": "stream",
     "text": [
      "pos_loss: 64.3547 neg_hard_mining_loss: 265.1328\n",
      "n: 37.0 bbs_loss: 538.8696 cats_loss: 329.4876\n",
      "epoch: 49 step: 0 loss: 23.4691 time: 0.5426\n"
     ]
    },
    {
     "data": {
      "application/vnd.jupyter.widget-view+json": {
       "model_id": "4184d73f412748eca28707af2ae7e594",
       "version_major": 2,
       "version_minor": 0
      },
      "text/plain": [
       "HBox(children=(IntProgress(value=0, max=1), HTML(value='')))"
      ]
     },
     "metadata": {},
     "output_type": "display_data"
    },
    {
     "name": "stdout",
     "output_type": "stream",
     "text": [
      "pos_loss: 60.5767 neg_hard_mining_loss: 261.6009\n",
      "n: 37.0 bbs_loss: 538.0258 cats_loss: 322.1776\n",
      "epoch: 50 step: 0 loss: 23.2487 time: 0.4921\n"
     ]
    },
    {
     "data": {
      "application/vnd.jupyter.widget-view+json": {
       "model_id": "7ebac781f99e45428df20cfdd578eb7b",
       "version_major": 2,
       "version_minor": 0
      },
      "text/plain": [
       "HBox(children=(IntProgress(value=0, max=1), HTML(value='')))"
      ]
     },
     "metadata": {},
     "output_type": "display_data"
    },
    {
     "name": "stdout",
     "output_type": "stream",
     "text": [
      "pos_loss: 56.8518 neg_hard_mining_loss: 257.9077\n",
      "n: 37.0 bbs_loss: 537.0444 cats_loss: 314.7595\n",
      "epoch: 51 step: 0 loss: 23.0217 time: 0.5155\n"
     ]
    },
    {
     "data": {
      "application/vnd.jupyter.widget-view+json": {
       "model_id": "d70c8e9c1e134fde9a114e32952cea6a",
       "version_major": 2,
       "version_minor": 0
      },
      "text/plain": [
       "HBox(children=(IntProgress(value=0, max=1), HTML(value='')))"
      ]
     },
     "metadata": {},
     "output_type": "display_data"
    },
    {
     "name": "stdout",
     "output_type": "stream",
     "text": [
      "pos_loss: 53.1796 neg_hard_mining_loss: 254.1483\n",
      "n: 37.0 bbs_loss: 535.9116 cats_loss: 307.3278\n",
      "epoch: 52 step: 0 loss: 22.7903 time: 0.5325\n"
     ]
    },
    {
     "data": {
      "application/vnd.jupyter.widget-view+json": {
       "model_id": "a6d84169ed3d45e3b37585f9d9fe8eb1",
       "version_major": 2,
       "version_minor": 0
      },
      "text/plain": [
       "HBox(children=(IntProgress(value=0, max=1), HTML(value='')))"
      ]
     },
     "metadata": {},
     "output_type": "display_data"
    },
    {
     "name": "stdout",
     "output_type": "stream",
     "text": [
      "pos_loss: 49.8731 neg_hard_mining_loss: 249.8743\n",
      "n: 37.0 bbs_loss: 534.6420 cats_loss: 299.7474\n",
      "epoch: 53 step: 0 loss: 22.5511 time: 0.5443\n"
     ]
    },
    {
     "data": {
      "application/vnd.jupyter.widget-view+json": {
       "model_id": "97cced823daa4615be106c5bd2784eb1",
       "version_major": 2,
       "version_minor": 0
      },
      "text/plain": [
       "HBox(children=(IntProgress(value=0, max=1), HTML(value='')))"
      ]
     },
     "metadata": {},
     "output_type": "display_data"
    },
    {
     "name": "stdout",
     "output_type": "stream",
     "text": [
      "pos_loss: 46.7464 neg_hard_mining_loss: 244.7873\n",
      "n: 37.0 bbs_loss: 533.1860 cats_loss: 291.5337\n",
      "epoch: 54 step: 0 loss: 22.2897 time: 0.5267\n"
     ]
    },
    {
     "data": {
      "application/vnd.jupyter.widget-view+json": {
       "model_id": "705d740e56394a8287db3e0969d274de",
       "version_major": 2,
       "version_minor": 0
      },
      "text/plain": [
       "HBox(children=(IntProgress(value=0, max=1), HTML(value='')))"
      ]
     },
     "metadata": {},
     "output_type": "display_data"
    },
    {
     "name": "stdout",
     "output_type": "stream",
     "text": [
      "pos_loss: 44.1341 neg_hard_mining_loss: 239.2268\n",
      "n: 37.0 bbs_loss: 531.5869 cats_loss: 283.3610\n",
      "epoch: 55 step: 0 loss: 22.0256 time: 0.5423\n"
     ]
    },
    {
     "data": {
      "application/vnd.jupyter.widget-view+json": {
       "model_id": "f44f31c459b641eba9e460fbeda442cf",
       "version_major": 2,
       "version_minor": 0
      },
      "text/plain": [
       "HBox(children=(IntProgress(value=0, max=1), HTML(value='')))"
      ]
     },
     "metadata": {},
     "output_type": "display_data"
    },
    {
     "name": "stdout",
     "output_type": "stream",
     "text": [
      "pos_loss: 41.4073 neg_hard_mining_loss: 234.7191\n",
      "n: 37.0 bbs_loss: 529.6769 cats_loss: 276.1263\n",
      "epoch: 56 step: 0 loss: 21.7785 time: 0.5343\n"
     ]
    },
    {
     "data": {
      "application/vnd.jupyter.widget-view+json": {
       "model_id": "7b65e6e791c74242987253ff9c6bc50e",
       "version_major": 2,
       "version_minor": 0
      },
      "text/plain": [
       "HBox(children=(IntProgress(value=0, max=1), HTML(value='')))"
      ]
     },
     "metadata": {},
     "output_type": "display_data"
    },
    {
     "name": "stdout",
     "output_type": "stream",
     "text": [
      "pos_loss: 40.3747 neg_hard_mining_loss: 228.1033\n",
      "n: 37.0 bbs_loss: 527.4911 cats_loss: 268.4781\n",
      "epoch: 57 step: 0 loss: 21.5127 time: 0.5158\n"
     ]
    },
    {
     "data": {
      "application/vnd.jupyter.widget-view+json": {
       "model_id": "635213e01a1d40f2a9385cbb7563d8f0",
       "version_major": 2,
       "version_minor": 0
      },
      "text/plain": [
       "HBox(children=(IntProgress(value=0, max=1), HTML(value='')))"
      ]
     },
     "metadata": {},
     "output_type": "display_data"
    },
    {
     "name": "stdout",
     "output_type": "stream",
     "text": [
      "pos_loss: 39.0851 neg_hard_mining_loss: 223.5366\n",
      "n: 37.0 bbs_loss: 524.9738 cats_loss: 262.6217\n",
      "epoch: 58 step: 0 loss: 21.2864 time: 0.5237\n"
     ]
    },
    {
     "data": {
      "application/vnd.jupyter.widget-view+json": {
       "model_id": "27bc7cd5b1274ae3b065af0e3e3231ec",
       "version_major": 2,
       "version_minor": 0
      },
      "text/plain": [
       "HBox(children=(IntProgress(value=0, max=1), HTML(value='')))"
      ]
     },
     "metadata": {},
     "output_type": "display_data"
    },
    {
     "name": "stdout",
     "output_type": "stream",
     "text": [
      "pos_loss: 37.2175 neg_hard_mining_loss: 225.1690\n",
      "n: 37.0 bbs_loss: 522.1799 cats_loss: 262.3866\n",
      "epoch: 59 step: 0 loss: 21.2045 time: 0.5424\n"
     ]
    },
    {
     "data": {
      "application/vnd.jupyter.widget-view+json": {
       "model_id": "9ab07fa9583a4381b83f503c389afeb1",
       "version_major": 2,
       "version_minor": 0
      },
      "text/plain": [
       "HBox(children=(IntProgress(value=0, max=1), HTML(value='')))"
      ]
     },
     "metadata": {},
     "output_type": "display_data"
    },
    {
     "name": "stdout",
     "output_type": "stream",
     "text": [
      "pos_loss: 44.2188 neg_hard_mining_loss: 225.2920\n",
      "n: 37.0 bbs_loss: 519.4545 cats_loss: 269.5108\n",
      "epoch: 60 step: 0 loss: 21.3234 time: 0.5516\n"
     ]
    },
    {
     "data": {
      "application/vnd.jupyter.widget-view+json": {
       "model_id": "8e9fdcc45a964da896eb055eadefde49",
       "version_major": 2,
       "version_minor": 0
      },
      "text/plain": [
       "HBox(children=(IntProgress(value=0, max=1), HTML(value='')))"
      ]
     },
     "metadata": {},
     "output_type": "display_data"
    },
    {
     "name": "stdout",
     "output_type": "stream",
     "text": [
      "pos_loss: 55.3267 neg_hard_mining_loss: 221.2153\n",
      "n: 37.0 bbs_loss: 517.7338 cats_loss: 276.5420\n",
      "epoch: 61 step: 0 loss: 21.4669 time: 0.5515\n"
     ]
    },
    {
     "data": {
      "application/vnd.jupyter.widget-view+json": {
       "model_id": "f7db095c64904d8dab3734885074be83",
       "version_major": 2,
       "version_minor": 0
      },
      "text/plain": [
       "HBox(children=(IntProgress(value=0, max=1), HTML(value='')))"
      ]
     },
     "metadata": {},
     "output_type": "display_data"
    },
    {
     "name": "stdout",
     "output_type": "stream",
     "text": [
      "pos_loss: 63.4094 neg_hard_mining_loss: 208.5067\n",
      "n: 37.0 bbs_loss: 516.4624 cats_loss: 271.9161\n",
      "epoch: 62 step: 0 loss: 21.3075 time: 0.5574\n"
     ]
    },
    {
     "data": {
      "application/vnd.jupyter.widget-view+json": {
       "model_id": "2f1e1305875c4fc599ce4cc3121159d3",
       "version_major": 2,
       "version_minor": 0
      },
      "text/plain": [
       "HBox(children=(IntProgress(value=0, max=1), HTML(value='')))"
      ]
     },
     "metadata": {},
     "output_type": "display_data"
    },
    {
     "name": "stdout",
     "output_type": "stream",
     "text": [
      "pos_loss: 63.0543 neg_hard_mining_loss: 214.9467\n",
      "n: 37.0 bbs_loss: 515.2469 cats_loss: 278.0010\n",
      "epoch: 63 step: 0 loss: 21.4391 time: 0.5024\n"
     ]
    },
    {
     "data": {
      "application/vnd.jupyter.widget-view+json": {
       "model_id": "f0dcdedc411545bda9a9d57de4ed0cad",
       "version_major": 2,
       "version_minor": 0
      },
      "text/plain": [
       "HBox(children=(IntProgress(value=0, max=1), HTML(value='')))"
      ]
     },
     "metadata": {},
     "output_type": "display_data"
    },
    {
     "name": "stdout",
     "output_type": "stream",
     "text": [
      "pos_loss: 58.8754 neg_hard_mining_loss: 199.9769\n",
      "n: 37.0 bbs_loss: 514.9220 cats_loss: 258.8523\n",
      "epoch: 64 step: 0 loss: 20.9128 time: 0.5247\n"
     ]
    },
    {
     "data": {
      "application/vnd.jupyter.widget-view+json": {
       "model_id": "825f9a9cb79c4a85b9f0adbe663d2bfd",
       "version_major": 2,
       "version_minor": 0
      },
      "text/plain": [
       "HBox(children=(IntProgress(value=0, max=1), HTML(value='')))"
      ]
     },
     "metadata": {},
     "output_type": "display_data"
    },
    {
     "name": "stdout",
     "output_type": "stream",
     "text": [
      "pos_loss: 51.1424 neg_hard_mining_loss: 199.3618\n",
      "n: 37.0 bbs_loss: 514.9030 cats_loss: 250.5042\n",
      "epoch: 65 step: 0 loss: 20.6867 time: 0.5717\n"
     ]
    },
    {
     "data": {
      "application/vnd.jupyter.widget-view+json": {
       "model_id": "cf5c787b7cbc4fa386cba21d31d6b05d",
       "version_major": 2,
       "version_minor": 0
      },
      "text/plain": [
       "HBox(children=(IntProgress(value=0, max=1), HTML(value='')))"
      ]
     },
     "metadata": {},
     "output_type": "display_data"
    },
    {
     "name": "stdout",
     "output_type": "stream",
     "text": [
      "pos_loss: 46.1198 neg_hard_mining_loss: 201.0791\n",
      "n: 37.0 bbs_loss: 515.1330 cats_loss: 247.1989\n",
      "epoch: 66 step: 0 loss: 20.6036 time: 0.5034\n"
     ]
    },
    {
     "data": {
      "application/vnd.jupyter.widget-view+json": {
       "model_id": "1c54f1c57def4bb2b2e73b4ccc416f67",
       "version_major": 2,
       "version_minor": 0
      },
      "text/plain": [
       "HBox(children=(IntProgress(value=0, max=1), HTML(value='')))"
      ]
     },
     "metadata": {},
     "output_type": "display_data"
    },
    {
     "name": "stdout",
     "output_type": "stream",
     "text": [
      "pos_loss: 46.2638 neg_hard_mining_loss: 201.3205\n",
      "n: 37.0 bbs_loss: 516.1323 cats_loss: 247.5843\n",
      "epoch: 67 step: 0 loss: 20.6410 time: 0.5258\n"
     ]
    },
    {
     "data": {
      "application/vnd.jupyter.widget-view+json": {
       "model_id": "8c5d674e9a7345138a91fc15091ea0ef",
       "version_major": 2,
       "version_minor": 0
      },
      "text/plain": [
       "HBox(children=(IntProgress(value=0, max=1), HTML(value='')))"
      ]
     },
     "metadata": {},
     "output_type": "display_data"
    },
    {
     "name": "stdout",
     "output_type": "stream",
     "text": [
      "pos_loss: 48.6392 neg_hard_mining_loss: 187.3951\n",
      "n: 37.0 bbs_loss: 517.0051 cats_loss: 236.0342\n",
      "epoch: 68 step: 0 loss: 20.3524 time: 0.5028\n"
     ]
    },
    {
     "data": {
      "application/vnd.jupyter.widget-view+json": {
       "model_id": "9c79e5af207b4957a3da58ccf74d1009",
       "version_major": 2,
       "version_minor": 0
      },
      "text/plain": [
       "HBox(children=(IntProgress(value=0, max=1), HTML(value='')))"
      ]
     },
     "metadata": {},
     "output_type": "display_data"
    },
    {
     "name": "stdout",
     "output_type": "stream",
     "text": [
      "pos_loss: 50.5300 neg_hard_mining_loss: 183.9888\n",
      "n: 37.0 bbs_loss: 517.1140 cats_loss: 234.5188\n",
      "epoch: 69 step: 0 loss: 20.3144 time: 0.5197\n"
     ]
    },
    {
     "data": {
      "application/vnd.jupyter.widget-view+json": {
       "model_id": "a8423b175c4e46e9aae97e895d478e66",
       "version_major": 2,
       "version_minor": 0
      },
      "text/plain": [
       "HBox(children=(IntProgress(value=0, max=1), HTML(value='')))"
      ]
     },
     "metadata": {},
     "output_type": "display_data"
    },
    {
     "name": "stdout",
     "output_type": "stream",
     "text": [
      "pos_loss: 51.8874 neg_hard_mining_loss: 177.8588\n",
      "n: 37.0 bbs_loss: 516.6997 cats_loss: 229.7463\n",
      "epoch: 70 step: 0 loss: 20.1742 time: 0.4943\n"
     ]
    },
    {
     "data": {
      "application/vnd.jupyter.widget-view+json": {
       "model_id": "45a585ddff4b4dc784a32e3cbb290d88",
       "version_major": 2,
       "version_minor": 0
      },
      "text/plain": [
       "HBox(children=(IntProgress(value=0, max=1), HTML(value='')))"
      ]
     },
     "metadata": {},
     "output_type": "display_data"
    },
    {
     "name": "stdout",
     "output_type": "stream",
     "text": [
      "pos_loss: 51.6295 neg_hard_mining_loss: 174.7603\n",
      "n: 37.0 bbs_loss: 515.7532 cats_loss: 226.3898\n",
      "epoch: 71 step: 0 loss: 20.0579 time: 0.5455\n"
     ]
    },
    {
     "data": {
      "application/vnd.jupyter.widget-view+json": {
       "model_id": "2a53835aa16f459d8a79b160fe09b027",
       "version_major": 2,
       "version_minor": 0
      },
      "text/plain": [
       "HBox(children=(IntProgress(value=0, max=1), HTML(value='')))"
      ]
     },
     "metadata": {},
     "output_type": "display_data"
    },
    {
     "name": "stdout",
     "output_type": "stream",
     "text": [
      "pos_loss: 50.0543 neg_hard_mining_loss: 173.7667\n",
      "n: 37.0 bbs_loss: 514.3865 cats_loss: 223.8210\n",
      "epoch: 72 step: 0 loss: 19.9516 time: 0.5318\n"
     ]
    },
    {
     "data": {
      "application/vnd.jupyter.widget-view+json": {
       "model_id": "f33ddd1071b34e11b7013bb417470f3b",
       "version_major": 2,
       "version_minor": 0
      },
      "text/plain": [
       "HBox(children=(IntProgress(value=0, max=1), HTML(value='')))"
      ]
     },
     "metadata": {},
     "output_type": "display_data"
    },
    {
     "name": "stdout",
     "output_type": "stream",
     "text": [
      "pos_loss: 47.7043 neg_hard_mining_loss: 173.3843\n",
      "n: 37.0 bbs_loss: 512.7795 cats_loss: 221.0886\n",
      "epoch: 73 step: 0 loss: 19.8343 time: 0.4942\n"
     ]
    },
    {
     "data": {
      "application/vnd.jupyter.widget-view+json": {
       "model_id": "e6bfea93bdd94f6982a4fac738abb898",
       "version_major": 2,
       "version_minor": 0
      },
      "text/plain": [
       "HBox(children=(IntProgress(value=0, max=1), HTML(value='')))"
      ]
     },
     "metadata": {},
     "output_type": "display_data"
    },
    {
     "name": "stdout",
     "output_type": "stream",
     "text": [
      "pos_loss: 45.8881 neg_hard_mining_loss: 168.7079\n",
      "n: 37.0 bbs_loss: 511.1335 cats_loss: 214.5960\n",
      "epoch: 74 step: 0 loss: 19.6143 time: 0.5266\n"
     ]
    },
    {
     "data": {
      "application/vnd.jupyter.widget-view+json": {
       "model_id": "79a2afd9a94e43548c341da9b59ff510",
       "version_major": 2,
       "version_minor": 0
      },
      "text/plain": [
       "HBox(children=(IntProgress(value=0, max=1), HTML(value='')))"
      ]
     },
     "metadata": {},
     "output_type": "display_data"
    },
    {
     "name": "stdout",
     "output_type": "stream",
     "text": [
      "pos_loss: 44.3948 neg_hard_mining_loss: 161.7056\n",
      "n: 37.0 bbs_loss: 509.4586 cats_loss: 206.1004\n",
      "epoch: 75 step: 0 loss: 19.3394 time: 0.4995\n"
     ]
    },
    {
     "data": {
      "application/vnd.jupyter.widget-view+json": {
       "model_id": "ef9bac4ea7bc4936abeaa83223963e5b",
       "version_major": 2,
       "version_minor": 0
      },
      "text/plain": [
       "HBox(children=(IntProgress(value=0, max=1), HTML(value='')))"
      ]
     },
     "metadata": {},
     "output_type": "display_data"
    },
    {
     "name": "stdout",
     "output_type": "stream",
     "text": [
      "pos_loss: 42.6271 neg_hard_mining_loss: 158.8409\n",
      "n: 37.0 bbs_loss: 507.6633 cats_loss: 201.4679\n",
      "epoch: 76 step: 0 loss: 19.1657 time: 0.5221\n"
     ]
    },
    {
     "data": {
      "application/vnd.jupyter.widget-view+json": {
       "model_id": "ba840d4bcbd943e2bf934be22b642355",
       "version_major": 2,
       "version_minor": 0
      },
      "text/plain": [
       "HBox(children=(IntProgress(value=0, max=1), HTML(value='')))"
      ]
     },
     "metadata": {},
     "output_type": "display_data"
    },
    {
     "name": "stdout",
     "output_type": "stream",
     "text": [
      "pos_loss: 40.8813 neg_hard_mining_loss: 159.0819\n",
      "n: 37.0 bbs_loss: 505.8351 cats_loss: 199.9632\n",
      "epoch: 77 step: 0 loss: 19.0756 time: 0.5350\n"
     ]
    },
    {
     "data": {
      "application/vnd.jupyter.widget-view+json": {
       "model_id": "581e58e2497e4d499dda8724544f4c1e",
       "version_major": 2,
       "version_minor": 0
      },
      "text/plain": [
       "HBox(children=(IntProgress(value=0, max=1), HTML(value='')))"
      ]
     },
     "metadata": {},
     "output_type": "display_data"
    },
    {
     "name": "stdout",
     "output_type": "stream",
     "text": [
      "pos_loss: 40.7157 neg_hard_mining_loss: 151.7160\n",
      "n: 37.0 bbs_loss: 504.0974 cats_loss: 192.4317\n",
      "epoch: 78 step: 0 loss: 18.8251 time: 0.4984\n"
     ]
    },
    {
     "data": {
      "application/vnd.jupyter.widget-view+json": {
       "model_id": "c5190f661e1442d6b93940b604bebd28",
       "version_major": 2,
       "version_minor": 0
      },
      "text/plain": [
       "HBox(children=(IntProgress(value=0, max=1), HTML(value='')))"
      ]
     },
     "metadata": {},
     "output_type": "display_data"
    },
    {
     "name": "stdout",
     "output_type": "stream",
     "text": [
      "pos_loss: 40.6144 neg_hard_mining_loss: 149.3071\n",
      "n: 37.0 bbs_loss: 502.2642 cats_loss: 189.9215\n",
      "epoch: 79 step: 0 loss: 18.7077 time: 0.5259\n"
     ]
    },
    {
     "data": {
      "application/vnd.jupyter.widget-view+json": {
       "model_id": "4f304a2d11c441fdab7099335a1c021c",
       "version_major": 2,
       "version_minor": 0
      },
      "text/plain": [
       "HBox(children=(IntProgress(value=0, max=1), HTML(value='')))"
      ]
     },
     "metadata": {},
     "output_type": "display_data"
    },
    {
     "name": "stdout",
     "output_type": "stream",
     "text": [
      "pos_loss: 41.2233 neg_hard_mining_loss: 145.0639\n",
      "n: 37.0 bbs_loss: 500.2886 cats_loss: 186.2872\n",
      "epoch: 80 step: 0 loss: 18.5561 time: 0.5176\n"
     ]
    },
    {
     "data": {
      "application/vnd.jupyter.widget-view+json": {
       "model_id": "a05426b146f941af94abdcc846f09e9e",
       "version_major": 2,
       "version_minor": 0
      },
      "text/plain": [
       "HBox(children=(IntProgress(value=0, max=1), HTML(value='')))"
      ]
     },
     "metadata": {},
     "output_type": "display_data"
    },
    {
     "name": "stdout",
     "output_type": "stream",
     "text": [
      "pos_loss: 40.0089 neg_hard_mining_loss: 141.5889\n",
      "n: 37.0 bbs_loss: 498.2961 cats_loss: 181.5979\n",
      "epoch: 81 step: 0 loss: 18.3755 time: 0.5169\n"
     ]
    },
    {
     "data": {
      "application/vnd.jupyter.widget-view+json": {
       "model_id": "a98a793ba7b841cca4ab1afc69714191",
       "version_major": 2,
       "version_minor": 0
      },
      "text/plain": [
       "HBox(children=(IntProgress(value=0, max=1), HTML(value='')))"
      ]
     },
     "metadata": {},
     "output_type": "display_data"
    },
    {
     "name": "stdout",
     "output_type": "stream",
     "text": [
      "pos_loss: 37.7078 neg_hard_mining_loss: 137.9401\n",
      "n: 37.0 bbs_loss: 496.1628 cats_loss: 175.6479\n",
      "epoch: 82 step: 0 loss: 18.1570 time: 0.5401\n"
     ]
    },
    {
     "data": {
      "application/vnd.jupyter.widget-view+json": {
       "model_id": "064a5240cabd4057a47e1097bffe9562",
       "version_major": 2,
       "version_minor": 0
      },
      "text/plain": [
       "HBox(children=(IntProgress(value=0, max=1), HTML(value='')))"
      ]
     },
     "metadata": {},
     "output_type": "display_data"
    },
    {
     "name": "stdout",
     "output_type": "stream",
     "text": [
      "pos_loss: 35.1236 neg_hard_mining_loss: 136.8274\n",
      "n: 37.0 bbs_loss: 493.7669 cats_loss: 171.9511\n",
      "epoch: 83 step: 0 loss: 17.9924 time: 0.5229\n"
     ]
    },
    {
     "data": {
      "application/vnd.jupyter.widget-view+json": {
       "model_id": "b3d4c60f78c84f658f6c3441aa8f6b78",
       "version_major": 2,
       "version_minor": 0
      },
      "text/plain": [
       "HBox(children=(IntProgress(value=0, max=1), HTML(value='')))"
      ]
     },
     "metadata": {},
     "output_type": "display_data"
    },
    {
     "name": "stdout",
     "output_type": "stream",
     "text": [
      "pos_loss: 33.8818 neg_hard_mining_loss: 149.5344\n",
      "n: 37.0 bbs_loss: 491.0149 cats_loss: 183.4163\n",
      "epoch: 84 step: 0 loss: 18.2279 time: 0.5286\n"
     ]
    },
    {
     "data": {
      "application/vnd.jupyter.widget-view+json": {
       "model_id": "ca629b4d71c04f1bad4cccd364d6955e",
       "version_major": 2,
       "version_minor": 0
      },
      "text/plain": [
       "HBox(children=(IntProgress(value=0, max=1), HTML(value='')))"
      ]
     },
     "metadata": {},
     "output_type": "display_data"
    },
    {
     "name": "stdout",
     "output_type": "stream",
     "text": [
      "pos_loss: 38.5085 neg_hard_mining_loss: 130.2648\n",
      "n: 37.0 bbs_loss: 488.9202 cats_loss: 168.7733\n",
      "epoch: 85 step: 0 loss: 17.7755 time: 0.5411\n"
     ]
    },
    {
     "data": {
      "application/vnd.jupyter.widget-view+json": {
       "model_id": "87d03ec51e264a149852d68f35fd6c8b",
       "version_major": 2,
       "version_minor": 0
      },
      "text/plain": [
       "HBox(children=(IntProgress(value=0, max=1), HTML(value='')))"
      ]
     },
     "metadata": {},
     "output_type": "display_data"
    },
    {
     "name": "stdout",
     "output_type": "stream",
     "text": [
      "pos_loss: 44.5592 neg_hard_mining_loss: 127.1387\n",
      "n: 37.0 bbs_loss: 486.6440 cats_loss: 171.6979\n",
      "epoch: 86 step: 0 loss: 17.7930 time: 0.5332\n"
     ]
    },
    {
     "data": {
      "application/vnd.jupyter.widget-view+json": {
       "model_id": "af129b6b678c474aa3b6550fef2fc34a",
       "version_major": 2,
       "version_minor": 0
      },
      "text/plain": [
       "HBox(children=(IntProgress(value=0, max=1), HTML(value='')))"
      ]
     },
     "metadata": {},
     "output_type": "display_data"
    },
    {
     "name": "stdout",
     "output_type": "stream",
     "text": [
      "pos_loss: 47.7111 neg_hard_mining_loss: 124.1320\n",
      "n: 37.0 bbs_loss: 484.0234 cats_loss: 171.8431\n",
      "epoch: 87 step: 0 loss: 17.7261 time: 0.5295\n"
     ]
    },
    {
     "data": {
      "application/vnd.jupyter.widget-view+json": {
       "model_id": "568910bd1ff74e48933d3016d2b44fc4",
       "version_major": 2,
       "version_minor": 0
      },
      "text/plain": [
       "HBox(children=(IntProgress(value=0, max=1), HTML(value='')))"
      ]
     },
     "metadata": {},
     "output_type": "display_data"
    },
    {
     "name": "stdout",
     "output_type": "stream",
     "text": [
      "pos_loss: 48.0620 neg_hard_mining_loss: 126.3542\n",
      "n: 37.0 bbs_loss: 481.0645 cats_loss: 174.4162\n",
      "epoch: 88 step: 0 loss: 17.7157 time: 0.5448\n"
     ]
    },
    {
     "data": {
      "application/vnd.jupyter.widget-view+json": {
       "model_id": "8b38ec8c08da4f9dbcb024fc66e709b0",
       "version_major": 2,
       "version_minor": 0
      },
      "text/plain": [
       "HBox(children=(IntProgress(value=0, max=1), HTML(value='')))"
      ]
     },
     "metadata": {},
     "output_type": "display_data"
    },
    {
     "name": "stdout",
     "output_type": "stream",
     "text": [
      "pos_loss: 53.0619 neg_hard_mining_loss: 119.9384\n",
      "n: 37.0 bbs_loss: 478.1860 cats_loss: 173.0003\n",
      "epoch: 89 step: 0 loss: 17.5996 time: 0.5343\n"
     ]
    },
    {
     "data": {
      "application/vnd.jupyter.widget-view+json": {
       "model_id": "66af268288ad447faee40a0d66fa2775",
       "version_major": 2,
       "version_minor": 0
      },
      "text/plain": [
       "HBox(children=(IntProgress(value=0, max=1), HTML(value='')))"
      ]
     },
     "metadata": {},
     "output_type": "display_data"
    },
    {
     "name": "stdout",
     "output_type": "stream",
     "text": [
      "pos_loss: 60.0123 neg_hard_mining_loss: 116.0984\n",
      "n: 37.0 bbs_loss: 475.1598 cats_loss: 176.1107\n",
      "epoch: 90 step: 0 loss: 17.6019 time: 0.5423\n"
     ]
    },
    {
     "data": {
      "application/vnd.jupyter.widget-view+json": {
       "model_id": "b85e9973256f45c98ae8eabfed6d42a3",
       "version_major": 2,
       "version_minor": 0
      },
      "text/plain": [
       "HBox(children=(IntProgress(value=0, max=1), HTML(value='')))"
      ]
     },
     "metadata": {},
     "output_type": "display_data"
    },
    {
     "name": "stdout",
     "output_type": "stream",
     "text": [
      "pos_loss: 62.4546 neg_hard_mining_loss: 114.4877\n",
      "n: 37.0 bbs_loss: 472.1810 cats_loss: 176.9424\n",
      "epoch: 91 step: 0 loss: 17.5439 time: 0.5279\n"
     ]
    },
    {
     "data": {
      "application/vnd.jupyter.widget-view+json": {
       "model_id": "082ae06c4e124fb98b83c342cee82bfc",
       "version_major": 2,
       "version_minor": 0
      },
      "text/plain": [
       "HBox(children=(IntProgress(value=0, max=1), HTML(value='')))"
      ]
     },
     "metadata": {},
     "output_type": "display_data"
    },
    {
     "name": "stdout",
     "output_type": "stream",
     "text": [
      "pos_loss: 58.6495 neg_hard_mining_loss: 118.9610\n",
      "n: 37.0 bbs_loss: 469.0183 cats_loss: 177.6104\n",
      "epoch: 92 step: 0 loss: 17.4765 time: 0.5362\n"
     ]
    },
    {
     "data": {
      "application/vnd.jupyter.widget-view+json": {
       "model_id": "4423aa86a7e84a3e976f26cf0bfd85ee",
       "version_major": 2,
       "version_minor": 0
      },
      "text/plain": [
       "HBox(children=(IntProgress(value=0, max=1), HTML(value='')))"
      ]
     },
     "metadata": {},
     "output_type": "display_data"
    },
    {
     "name": "stdout",
     "output_type": "stream",
     "text": [
      "pos_loss: 55.3196 neg_hard_mining_loss: 118.6569\n",
      "n: 37.0 bbs_loss: 464.3560 cats_loss: 173.9765\n",
      "epoch: 93 step: 0 loss: 17.2522 time: 0.5383\n"
     ]
    },
    {
     "data": {
      "application/vnd.jupyter.widget-view+json": {
       "model_id": "43adc0b35ad34006b41b87fe11ca0610",
       "version_major": 2,
       "version_minor": 0
      },
      "text/plain": [
       "HBox(children=(IntProgress(value=0, max=1), HTML(value='')))"
      ]
     },
     "metadata": {},
     "output_type": "display_data"
    },
    {
     "name": "stdout",
     "output_type": "stream",
     "text": [
      "pos_loss: 57.6108 neg_hard_mining_loss: 105.3018\n",
      "n: 37.0 bbs_loss: 459.4730 cats_loss: 162.9127\n",
      "epoch: 94 step: 0 loss: 16.8212 time: 0.5319\n"
     ]
    },
    {
     "data": {
      "application/vnd.jupyter.widget-view+json": {
       "model_id": "88851de456f747e7a2eab71cfc526fef",
       "version_major": 2,
       "version_minor": 0
      },
      "text/plain": [
       "HBox(children=(IntProgress(value=0, max=1), HTML(value='')))"
      ]
     },
     "metadata": {},
     "output_type": "display_data"
    },
    {
     "name": "stdout",
     "output_type": "stream",
     "text": [
      "pos_loss: 55.9383 neg_hard_mining_loss: 110.9188\n",
      "n: 37.0 bbs_loss: 452.9578 cats_loss: 166.8571\n",
      "epoch: 95 step: 0 loss: 16.7518 time: 0.4943\n"
     ]
    },
    {
     "data": {
      "application/vnd.jupyter.widget-view+json": {
       "model_id": "2c46ac64745d44a1a1271318468ffc90",
       "version_major": 2,
       "version_minor": 0
      },
      "text/plain": [
       "HBox(children=(IntProgress(value=0, max=1), HTML(value='')))"
      ]
     },
     "metadata": {},
     "output_type": "display_data"
    },
    {
     "name": "stdout",
     "output_type": "stream",
     "text": [
      "pos_loss: 55.0801 neg_hard_mining_loss: 109.5754\n",
      "n: 37.0 bbs_loss: 444.3096 cats_loss: 164.6555\n",
      "epoch: 96 step: 0 loss: 16.4585 time: 0.5287\n"
     ]
    },
    {
     "data": {
      "application/vnd.jupyter.widget-view+json": {
       "model_id": "cce62ecf292941218a02a186b4b0453c",
       "version_major": 2,
       "version_minor": 0
      },
      "text/plain": [
       "HBox(children=(IntProgress(value=0, max=1), HTML(value='')))"
      ]
     },
     "metadata": {},
     "output_type": "display_data"
    },
    {
     "name": "stdout",
     "output_type": "stream",
     "text": [
      "pos_loss: 56.9289 neg_hard_mining_loss: 113.1076\n",
      "n: 37.0 bbs_loss: 432.6800 cats_loss: 170.0365\n",
      "epoch: 97 step: 0 loss: 16.2896 time: 0.5379\n"
     ]
    },
    {
     "data": {
      "application/vnd.jupyter.widget-view+json": {
       "model_id": "768bef571d9940ac955b8358edce1d5f",
       "version_major": 2,
       "version_minor": 0
      },
      "text/plain": [
       "HBox(children=(IntProgress(value=0, max=1), HTML(value='')))"
      ]
     },
     "metadata": {},
     "output_type": "display_data"
    },
    {
     "name": "stdout",
     "output_type": "stream",
     "text": [
      "pos_loss: 68.0171 neg_hard_mining_loss: 102.9106\n",
      "n: 37.0 bbs_loss: 424.0582 cats_loss: 170.9277\n",
      "epoch: 98 step: 0 loss: 16.0807 time: 0.5342\n"
     ]
    },
    {
     "data": {
      "application/vnd.jupyter.widget-view+json": {
       "model_id": "1342fdcb967140999abc39f2c7f2c55e",
       "version_major": 2,
       "version_minor": 0
      },
      "text/plain": [
       "HBox(children=(IntProgress(value=0, max=1), HTML(value='')))"
      ]
     },
     "metadata": {},
     "output_type": "display_data"
    },
    {
     "name": "stdout",
     "output_type": "stream",
     "text": [
      "pos_loss: 76.2892 neg_hard_mining_loss: 111.5728\n",
      "n: 37.0 bbs_loss: 420.6519 cats_loss: 187.8621\n",
      "epoch: 99 step: 0 loss: 16.4463 time: 0.5354\n"
     ]
    },
    {
     "data": {
      "application/vnd.jupyter.widget-view+json": {
       "model_id": "d08120b6de8849d28967b6d771dcc8c3",
       "version_major": 2,
       "version_minor": 0
      },
      "text/plain": [
       "HBox(children=(IntProgress(value=0, max=1), HTML(value='')))"
      ]
     },
     "metadata": {},
     "output_type": "display_data"
    },
    {
     "name": "stdout",
     "output_type": "stream",
     "text": [
      "pos_loss: 61.5770 neg_hard_mining_loss: 97.5467\n",
      "n: 37.0 bbs_loss: 419.0986 cats_loss: 159.1237\n",
      "epoch: 100 step: 0 loss: 15.6276 time: 0.5156\n"
     ]
    },
    {
     "data": {
      "application/vnd.jupyter.widget-view+json": {
       "model_id": "b25e663d76494e8f9d3e739dc21c5eb8",
       "version_major": 2,
       "version_minor": 0
      },
      "text/plain": [
       "HBox(children=(IntProgress(value=0, max=1), HTML(value='')))"
      ]
     },
     "metadata": {},
     "output_type": "display_data"
    },
    {
     "name": "stdout",
     "output_type": "stream",
     "text": [
      "pos_loss: 56.7373 neg_hard_mining_loss: 136.2659\n",
      "n: 37.0 bbs_loss: 417.2881 cats_loss: 193.0032\n",
      "epoch: 101 step: 0 loss: 16.4944 time: 0.5244\n"
     ]
    },
    {
     "data": {
      "application/vnd.jupyter.widget-view+json": {
       "model_id": "887ae1cfbd464c29845cf674256da2e6",
       "version_major": 2,
       "version_minor": 0
      },
      "text/plain": [
       "HBox(children=(IntProgress(value=0, max=1), HTML(value='')))"
      ]
     },
     "metadata": {},
     "output_type": "display_data"
    },
    {
     "name": "stdout",
     "output_type": "stream",
     "text": [
      "pos_loss: 59.9413 neg_hard_mining_loss: 108.7207\n",
      "n: 37.0 bbs_loss: 416.0298 cats_loss: 168.6620\n",
      "epoch: 102 step: 0 loss: 15.8025 time: 0.4988\n"
     ]
    },
    {
     "data": {
      "application/vnd.jupyter.widget-view+json": {
       "model_id": "c906090d0ab0432e9bc7a4d544018894",
       "version_major": 2,
       "version_minor": 0
      },
      "text/plain": [
       "HBox(children=(IntProgress(value=0, max=1), HTML(value='')))"
      ]
     },
     "metadata": {},
     "output_type": "display_data"
    },
    {
     "name": "stdout",
     "output_type": "stream",
     "text": [
      "pos_loss: 71.9750 neg_hard_mining_loss: 97.9368\n",
      "n: 37.0 bbs_loss: 412.0844 cats_loss: 169.9117\n",
      "epoch: 103 step: 0 loss: 15.7296 time: 0.5268\n"
     ]
    },
    {
     "data": {
      "application/vnd.jupyter.widget-view+json": {
       "model_id": "52e2036cdab047929075b18d50f413f8",
       "version_major": 2,
       "version_minor": 0
      },
      "text/plain": [
       "HBox(children=(IntProgress(value=0, max=1), HTML(value='')))"
      ]
     },
     "metadata": {},
     "output_type": "display_data"
    },
    {
     "name": "stdout",
     "output_type": "stream",
     "text": [
      "pos_loss: 71.6446 neg_hard_mining_loss: 91.6600\n",
      "n: 37.0 bbs_loss: 406.3940 cats_loss: 163.3046\n",
      "epoch: 104 step: 0 loss: 15.3973 time: 0.5014\n"
     ]
    },
    {
     "data": {
      "application/vnd.jupyter.widget-view+json": {
       "model_id": "53563e53abf545b7998169013ced4df8",
       "version_major": 2,
       "version_minor": 0
      },
      "text/plain": [
       "HBox(children=(IntProgress(value=0, max=1), HTML(value='')))"
      ]
     },
     "metadata": {},
     "output_type": "display_data"
    },
    {
     "name": "stdout",
     "output_type": "stream",
     "text": [
      "pos_loss: 60.4236 neg_hard_mining_loss: 99.3252\n",
      "n: 37.0 bbs_loss: 399.4837 cats_loss: 159.7488\n",
      "epoch: 105 step: 0 loss: 15.1144 time: 0.5413\n"
     ]
    },
    {
     "data": {
      "application/vnd.jupyter.widget-view+json": {
       "model_id": "95e0866f8f8a4a6a89644584c606a33e",
       "version_major": 2,
       "version_minor": 0
      },
      "text/plain": [
       "HBox(children=(IntProgress(value=0, max=1), HTML(value='')))"
      ]
     },
     "metadata": {},
     "output_type": "display_data"
    },
    {
     "name": "stdout",
     "output_type": "stream",
     "text": [
      "pos_loss: 55.3128 neg_hard_mining_loss: 90.2353\n",
      "n: 37.0 bbs_loss: 392.5763 cats_loss: 145.5482\n",
      "epoch: 106 step: 0 loss: 14.5439 time: 0.5132\n"
     ]
    },
    {
     "data": {
      "application/vnd.jupyter.widget-view+json": {
       "model_id": "d21ef57b46a54377b7ba62444404febe",
       "version_major": 2,
       "version_minor": 0
      },
      "text/plain": [
       "HBox(children=(IntProgress(value=0, max=1), HTML(value='')))"
      ]
     },
     "metadata": {},
     "output_type": "display_data"
    },
    {
     "name": "stdout",
     "output_type": "stream",
     "text": [
      "pos_loss: 50.0413 neg_hard_mining_loss: 95.4943\n",
      "n: 37.0 bbs_loss: 385.4285 cats_loss: 145.5356\n",
      "epoch: 107 step: 0 loss: 14.3504 time: 0.5420\n"
     ]
    },
    {
     "data": {
      "application/vnd.jupyter.widget-view+json": {
       "model_id": "37e7e455d3174459b4d94f6f4f989cf8",
       "version_major": 2,
       "version_minor": 0
      },
      "text/plain": [
       "HBox(children=(IntProgress(value=0, max=1), HTML(value='')))"
      ]
     },
     "metadata": {},
     "output_type": "display_data"
    },
    {
     "name": "stdout",
     "output_type": "stream",
     "text": [
      "pos_loss: 43.5135 neg_hard_mining_loss: 101.3189\n",
      "n: 37.0 bbs_loss: 377.5692 cats_loss: 144.8324\n",
      "epoch: 108 step: 0 loss: 14.1190 time: 0.5328\n"
     ]
    },
    {
     "data": {
      "application/vnd.jupyter.widget-view+json": {
       "model_id": "4a2afc814f174c9aa68d6100255607d3",
       "version_major": 2,
       "version_minor": 0
      },
      "text/plain": [
       "HBox(children=(IntProgress(value=0, max=1), HTML(value='')))"
      ]
     },
     "metadata": {},
     "output_type": "display_data"
    },
    {
     "name": "stdout",
     "output_type": "stream",
     "text": [
      "pos_loss: 81.4445 neg_hard_mining_loss: 110.7204\n",
      "n: 37.0 bbs_loss: 365.3255 cats_loss: 192.1649\n",
      "epoch: 109 step: 0 loss: 15.0673 time: 0.5551\n"
     ]
    },
    {
     "data": {
      "application/vnd.jupyter.widget-view+json": {
       "model_id": "294c4990812e417cb1c5ab369c44000d",
       "version_major": 2,
       "version_minor": 0
      },
      "text/plain": [
       "HBox(children=(IntProgress(value=0, max=1), HTML(value='')))"
      ]
     },
     "metadata": {},
     "output_type": "display_data"
    },
    {
     "name": "stdout",
     "output_type": "stream",
     "text": [
      "pos_loss: 86.3141 neg_hard_mining_loss: 83.6418\n",
      "n: 37.0 bbs_loss: 357.5232 cats_loss: 169.9559\n",
      "epoch: 110 step: 0 loss: 14.2562 time: 0.5441\n"
     ]
    },
    {
     "data": {
      "application/vnd.jupyter.widget-view+json": {
       "model_id": "5bd08cb365d24d5288a05844b8caf5e7",
       "version_major": 2,
       "version_minor": 0
      },
      "text/plain": [
       "HBox(children=(IntProgress(value=0, max=1), HTML(value='')))"
      ]
     },
     "metadata": {},
     "output_type": "display_data"
    },
    {
     "name": "stdout",
     "output_type": "stream",
     "text": [
      "pos_loss: 78.6231 neg_hard_mining_loss: 99.3668\n",
      "n: 37.0 bbs_loss: 350.6006 cats_loss: 177.9899\n",
      "epoch: 111 step: 0 loss: 14.2862 time: 0.5165\n"
     ]
    },
    {
     "data": {
      "application/vnd.jupyter.widget-view+json": {
       "model_id": "856a25c12677460aa10418f5113bdeed",
       "version_major": 2,
       "version_minor": 0
      },
      "text/plain": [
       "HBox(children=(IntProgress(value=0, max=1), HTML(value='')))"
      ]
     },
     "metadata": {},
     "output_type": "display_data"
    },
    {
     "name": "stdout",
     "output_type": "stream",
     "text": [
      "pos_loss: 91.5699 neg_hard_mining_loss: 119.7473\n",
      "n: 37.0 bbs_loss: 342.5417 cats_loss: 211.3172\n",
      "epoch: 112 step: 0 loss: 14.9692 time: 0.5274\n"
     ]
    },
    {
     "data": {
      "application/vnd.jupyter.widget-view+json": {
       "model_id": "52ea6927baba4308ad56efc806e93292",
       "version_major": 2,
       "version_minor": 0
      },
      "text/plain": [
       "HBox(children=(IntProgress(value=0, max=1), HTML(value='')))"
      ]
     },
     "metadata": {},
     "output_type": "display_data"
    },
    {
     "name": "stdout",
     "output_type": "stream",
     "text": [
      "pos_loss: 79.0229 neg_hard_mining_loss: 111.6145\n",
      "n: 37.0 bbs_loss: 350.1700 cats_loss: 190.6373\n",
      "epoch: 113 step: 0 loss: 14.6164 time: 0.5358\n"
     ]
    },
    {
     "data": {
      "application/vnd.jupyter.widget-view+json": {
       "model_id": "e467e9e2d72e459a81d75dd6447b1c11",
       "version_major": 2,
       "version_minor": 0
      },
      "text/plain": [
       "HBox(children=(IntProgress(value=0, max=1), HTML(value='')))"
      ]
     },
     "metadata": {},
     "output_type": "display_data"
    },
    {
     "name": "stdout",
     "output_type": "stream",
     "text": [
      "pos_loss: 81.0362 neg_hard_mining_loss: 77.5758\n",
      "n: 37.0 bbs_loss: 351.7845 cats_loss: 158.6120\n",
      "epoch: 114 step: 0 loss: 13.7945 time: 0.5421\n"
     ]
    },
    {
     "data": {
      "application/vnd.jupyter.widget-view+json": {
       "model_id": "67be098514cd4b5aa0c8ba9f239d2304",
       "version_major": 2,
       "version_minor": 0
      },
      "text/plain": [
       "HBox(children=(IntProgress(value=0, max=1), HTML(value='')))"
      ]
     },
     "metadata": {},
     "output_type": "display_data"
    },
    {
     "name": "stdout",
     "output_type": "stream",
     "text": [
      "pos_loss: 62.4369 neg_hard_mining_loss: 104.0052\n",
      "n: 37.0 bbs_loss: 349.3646 cats_loss: 166.4421\n",
      "epoch: 115 step: 0 loss: 13.9407 time: 0.5166\n"
     ]
    },
    {
     "data": {
      "application/vnd.jupyter.widget-view+json": {
       "model_id": "918bfc9af0174b3db363973a4e4770ae",
       "version_major": 2,
       "version_minor": 0
      },
      "text/plain": [
       "HBox(children=(IntProgress(value=0, max=1), HTML(value='')))"
      ]
     },
     "metadata": {},
     "output_type": "display_data"
    },
    {
     "name": "stdout",
     "output_type": "stream",
     "text": [
      "pos_loss: 41.3079 neg_hard_mining_loss: 120.1381\n",
      "n: 37.0 bbs_loss: 350.7381 cats_loss: 161.4460\n",
      "epoch: 116 step: 0 loss: 13.8428 time: 0.5315\n"
     ]
    },
    {
     "data": {
      "application/vnd.jupyter.widget-view+json": {
       "model_id": "d146648f425a4ea6bce9b998f80fda19",
       "version_major": 2,
       "version_minor": 0
      },
      "text/plain": [
       "HBox(children=(IntProgress(value=0, max=1), HTML(value='')))"
      ]
     },
     "metadata": {},
     "output_type": "display_data"
    },
    {
     "name": "stdout",
     "output_type": "stream",
     "text": [
      "pos_loss: 73.7024 neg_hard_mining_loss: 78.0218\n",
      "n: 37.0 bbs_loss: 350.7890 cats_loss: 151.7242\n",
      "epoch: 117 step: 0 loss: 13.5814 time: 0.4964\n"
     ]
    },
    {
     "data": {
      "application/vnd.jupyter.widget-view+json": {
       "model_id": "9b8ca3c61f2f4917b7cfdb82cd0300ec",
       "version_major": 2,
       "version_minor": 0
      },
      "text/plain": [
       "HBox(children=(IntProgress(value=0, max=1), HTML(value='')))"
      ]
     },
     "metadata": {},
     "output_type": "display_data"
    },
    {
     "name": "stdout",
     "output_type": "stream",
     "text": [
      "pos_loss: 84.8053 neg_hard_mining_loss: 83.4752\n",
      "n: 37.0 bbs_loss: 355.0183 cats_loss: 168.2805\n",
      "epoch: 118 step: 0 loss: 14.1432 time: 0.5358\n"
     ]
    },
    {
     "data": {
      "application/vnd.jupyter.widget-view+json": {
       "model_id": "6c58d741672842e5a24e12132fadc5bd",
       "version_major": 2,
       "version_minor": 0
      },
      "text/plain": [
       "HBox(children=(IntProgress(value=0, max=1), HTML(value='')))"
      ]
     },
     "metadata": {},
     "output_type": "display_data"
    },
    {
     "name": "stdout",
     "output_type": "stream",
     "text": [
      "pos_loss: 90.7673 neg_hard_mining_loss: 74.6741\n",
      "n: 37.0 bbs_loss: 350.0582 cats_loss: 165.4415\n",
      "epoch: 119 step: 0 loss: 13.9324 time: 0.5367\n"
     ]
    },
    {
     "data": {
      "application/vnd.jupyter.widget-view+json": {
       "model_id": "802d283bf7664e80b2c0f6b87963bfde",
       "version_major": 2,
       "version_minor": 0
      },
      "text/plain": [
       "HBox(children=(IntProgress(value=0, max=1), HTML(value='')))"
      ]
     },
     "metadata": {},
     "output_type": "display_data"
    },
    {
     "name": "stdout",
     "output_type": "stream",
     "text": [
      "pos_loss: 74.0666 neg_hard_mining_loss: 86.3245\n",
      "n: 37.0 bbs_loss: 354.9002 cats_loss: 160.3911\n",
      "epoch: 120 step: 0 loss: 13.9268 time: 0.5387\n"
     ]
    },
    {
     "data": {
      "application/vnd.jupyter.widget-view+json": {
       "model_id": "e15d11efa4de406785fae3fd404afe08",
       "version_major": 2,
       "version_minor": 0
      },
      "text/plain": [
       "HBox(children=(IntProgress(value=0, max=1), HTML(value='')))"
      ]
     },
     "metadata": {},
     "output_type": "display_data"
    },
    {
     "name": "stdout",
     "output_type": "stream",
     "text": [
      "pos_loss: 62.3831 neg_hard_mining_loss: 74.7861\n",
      "n: 37.0 bbs_loss: 350.1854 cats_loss: 137.1692\n",
      "epoch: 121 step: 0 loss: 13.1717 time: 0.5062\n"
     ]
    },
    {
     "data": {
      "application/vnd.jupyter.widget-view+json": {
       "model_id": "230c92917bf2473fb2d144bfd1fcbdb0",
       "version_major": 2,
       "version_minor": 0
      },
      "text/plain": [
       "HBox(children=(IntProgress(value=0, max=1), HTML(value='')))"
      ]
     },
     "metadata": {},
     "output_type": "display_data"
    },
    {
     "name": "stdout",
     "output_type": "stream",
     "text": [
      "pos_loss: 51.2923 neg_hard_mining_loss: 87.0220\n",
      "n: 37.0 bbs_loss: 352.9406 cats_loss: 138.3143\n",
      "epoch: 122 step: 0 loss: 13.2772 time: 0.5332\n"
     ]
    },
    {
     "data": {
      "application/vnd.jupyter.widget-view+json": {
       "model_id": "939a59b78b104f299a5603b3385683b1",
       "version_major": 2,
       "version_minor": 0
      },
      "text/plain": [
       "HBox(children=(IntProgress(value=0, max=1), HTML(value='')))"
      ]
     },
     "metadata": {},
     "output_type": "display_data"
    },
    {
     "name": "stdout",
     "output_type": "stream",
     "text": [
      "pos_loss: 54.2062 neg_hard_mining_loss: 76.8070\n",
      "n: 37.0 bbs_loss: 346.9135 cats_loss: 131.0132\n",
      "epoch: 123 step: 0 loss: 12.9169 time: 0.5499\n"
     ]
    },
    {
     "data": {
      "application/vnd.jupyter.widget-view+json": {
       "model_id": "d2671d7e4e8f4237920b834d3b0f645e",
       "version_major": 2,
       "version_minor": 0
      },
      "text/plain": [
       "HBox(children=(IntProgress(value=0, max=1), HTML(value='')))"
      ]
     },
     "metadata": {},
     "output_type": "display_data"
    },
    {
     "name": "stdout",
     "output_type": "stream",
     "text": [
      "pos_loss: 55.7991 neg_hard_mining_loss: 64.4816\n",
      "n: 37.0 bbs_loss: 360.6990 cats_loss: 120.2807\n",
      "epoch: 124 step: 0 loss: 12.9995 time: 0.5231\n"
     ]
    },
    {
     "data": {
      "application/vnd.jupyter.widget-view+json": {
       "model_id": "426e1a9a1124407ca312308f3f9b6091",
       "version_major": 2,
       "version_minor": 0
      },
      "text/plain": [
       "HBox(children=(IntProgress(value=0, max=1), HTML(value='')))"
      ]
     },
     "metadata": {},
     "output_type": "display_data"
    },
    {
     "name": "stdout",
     "output_type": "stream",
     "text": [
      "pos_loss: 54.4917 neg_hard_mining_loss: 68.6760\n",
      "n: 37.0 bbs_loss: 357.5601 cats_loss: 123.1677\n",
      "epoch: 125 step: 0 loss: 12.9926 time: 0.5452\n"
     ]
    },
    {
     "data": {
      "application/vnd.jupyter.widget-view+json": {
       "model_id": "3836d3c318784de1a6fc6333403eb02e",
       "version_major": 2,
       "version_minor": 0
      },
      "text/plain": [
       "HBox(children=(IntProgress(value=0, max=1), HTML(value='')))"
      ]
     },
     "metadata": {},
     "output_type": "display_data"
    },
    {
     "name": "stdout",
     "output_type": "stream",
     "text": [
      "pos_loss: 47.4656 neg_hard_mining_loss: 76.3163\n",
      "n: 37.0 bbs_loss: 338.5341 cats_loss: 123.7819\n",
      "epoch: 126 step: 0 loss: 12.4950 time: 0.4987\n"
     ]
    },
    {
     "data": {
      "application/vnd.jupyter.widget-view+json": {
       "model_id": "7b6d3e03cbc84177bca8761016772f3a",
       "version_major": 2,
       "version_minor": 0
      },
      "text/plain": [
       "HBox(children=(IntProgress(value=0, max=1), HTML(value='')))"
      ]
     },
     "metadata": {},
     "output_type": "display_data"
    },
    {
     "name": "stdout",
     "output_type": "stream",
     "text": [
      "pos_loss: 33.5584 neg_hard_mining_loss: 92.7505\n",
      "n: 37.0 bbs_loss: 336.3831 cats_loss: 126.3089\n",
      "epoch: 127 step: 0 loss: 12.5052 time: 0.5107\n"
     ]
    },
    {
     "data": {
      "application/vnd.jupyter.widget-view+json": {
       "model_id": "4fa612bf3a644bfbab3e13416d0fcd90",
       "version_major": 2,
       "version_minor": 0
      },
      "text/plain": [
       "HBox(children=(IntProgress(value=0, max=1), HTML(value='')))"
      ]
     },
     "metadata": {},
     "output_type": "display_data"
    },
    {
     "name": "stdout",
     "output_type": "stream",
     "text": [
      "pos_loss: 39.2036 neg_hard_mining_loss: 65.8637\n",
      "n: 37.0 bbs_loss: 352.6607 cats_loss: 105.0673\n",
      "epoch: 128 step: 0 loss: 12.3710 time: 0.5228\n"
     ]
    },
    {
     "data": {
      "application/vnd.jupyter.widget-view+json": {
       "model_id": "a42e9aa149814af0b23d89e334bd23ee",
       "version_major": 2,
       "version_minor": 0
      },
      "text/plain": [
       "HBox(children=(IntProgress(value=0, max=1), HTML(value='')))"
      ]
     },
     "metadata": {},
     "output_type": "display_data"
    },
    {
     "name": "stdout",
     "output_type": "stream",
     "text": [
      "pos_loss: 48.9199 neg_hard_mining_loss: 59.9615\n",
      "n: 37.0 bbs_loss: 347.2104 cats_loss: 108.8814\n",
      "epoch: 129 step: 0 loss: 12.3268 time: 0.5312\n"
     ]
    },
    {
     "data": {
      "application/vnd.jupyter.widget-view+json": {
       "model_id": "dc497e8b2f1545989916b2abc1854a00",
       "version_major": 2,
       "version_minor": 0
      },
      "text/plain": [
       "HBox(children=(IntProgress(value=0, max=1), HTML(value='')))"
      ]
     },
     "metadata": {},
     "output_type": "display_data"
    },
    {
     "name": "stdout",
     "output_type": "stream",
     "text": [
      "pos_loss: 49.1589 neg_hard_mining_loss: 67.1499\n",
      "n: 37.0 bbs_loss: 339.1736 cats_loss: 116.3088\n",
      "epoch: 130 step: 0 loss: 12.3103 time: 0.4949\n"
     ]
    },
    {
     "data": {
      "application/vnd.jupyter.widget-view+json": {
       "model_id": "bf11bc36eb8240579102adc95f4af0fe",
       "version_major": 2,
       "version_minor": 0
      },
      "text/plain": [
       "HBox(children=(IntProgress(value=0, max=1), HTML(value='')))"
      ]
     },
     "metadata": {},
     "output_type": "display_data"
    },
    {
     "name": "stdout",
     "output_type": "stream",
     "text": [
      "pos_loss: 34.6766 neg_hard_mining_loss: 73.1564\n",
      "n: 37.0 bbs_loss: 336.7095 cats_loss: 107.8330\n",
      "epoch: 131 step: 0 loss: 12.0147 time: 0.5227\n"
     ]
    },
    {
     "data": {
      "application/vnd.jupyter.widget-view+json": {
       "model_id": "5a8591851db0433a9f3bc83d2492ced0",
       "version_major": 2,
       "version_minor": 0
      },
      "text/plain": [
       "HBox(children=(IntProgress(value=0, max=1), HTML(value='')))"
      ]
     },
     "metadata": {},
     "output_type": "display_data"
    },
    {
     "name": "stdout",
     "output_type": "stream",
     "text": [
      "pos_loss: 34.8760 neg_hard_mining_loss: 83.6466\n",
      "n: 37.0 bbs_loss: 334.2652 cats_loss: 118.5226\n",
      "epoch: 132 step: 0 loss: 12.2375 time: 0.5250\n"
     ]
    },
    {
     "data": {
      "application/vnd.jupyter.widget-view+json": {
       "model_id": "b1fda9f8465747ad9ccbde7c53b39347",
       "version_major": 2,
       "version_minor": 0
      },
      "text/plain": [
       "HBox(children=(IntProgress(value=0, max=1), HTML(value='')))"
      ]
     },
     "metadata": {},
     "output_type": "display_data"
    },
    {
     "name": "stdout",
     "output_type": "stream",
     "text": [
      "pos_loss: 45.8931 neg_hard_mining_loss: 60.6999\n",
      "n: 37.0 bbs_loss: 337.2574 cats_loss: 106.5930\n",
      "epoch: 133 step: 0 loss: 11.9960 time: 0.5119\n"
     ]
    },
    {
     "data": {
      "application/vnd.jupyter.widget-view+json": {
       "model_id": "abc897e0ad354b87a614698ece1d2532",
       "version_major": 2,
       "version_minor": 0
      },
      "text/plain": [
       "HBox(children=(IntProgress(value=0, max=1), HTML(value='')))"
      ]
     },
     "metadata": {},
     "output_type": "display_data"
    },
    {
     "name": "stdout",
     "output_type": "stream",
     "text": [
      "pos_loss: 50.2138 neg_hard_mining_loss: 61.1945\n",
      "n: 37.0 bbs_loss: 337.4385 cats_loss: 111.4082\n",
      "epoch: 134 step: 0 loss: 12.1310 time: 0.5142\n"
     ]
    },
    {
     "data": {
      "application/vnd.jupyter.widget-view+json": {
       "model_id": "8c61e92ae6e44538a969e5a469185a8d",
       "version_major": 2,
       "version_minor": 0
      },
      "text/plain": [
       "HBox(children=(IntProgress(value=0, max=1), HTML(value='')))"
      ]
     },
     "metadata": {},
     "output_type": "display_data"
    },
    {
     "name": "stdout",
     "output_type": "stream",
     "text": [
      "pos_loss: 50.4401 neg_hard_mining_loss: 57.9282\n",
      "n: 37.0 bbs_loss: 332.9373 cats_loss: 108.3683\n",
      "epoch: 135 step: 0 loss: 11.9272 time: 0.5253\n"
     ]
    },
    {
     "data": {
      "application/vnd.jupyter.widget-view+json": {
       "model_id": "57e7e6ff751f4de98b872cffdc9adf65",
       "version_major": 2,
       "version_minor": 0
      },
      "text/plain": [
       "HBox(children=(IntProgress(value=0, max=1), HTML(value='')))"
      ]
     },
     "metadata": {},
     "output_type": "display_data"
    },
    {
     "name": "stdout",
     "output_type": "stream",
     "text": [
      "pos_loss: 46.0777 neg_hard_mining_loss: 61.2434\n",
      "n: 37.0 bbs_loss: 336.0135 cats_loss: 107.3211\n",
      "epoch: 136 step: 0 loss: 11.9820 time: 0.5114\n"
     ]
    },
    {
     "data": {
      "application/vnd.jupyter.widget-view+json": {
       "model_id": "36526ac7e72b42709a1cc1df23a01dc1",
       "version_major": 2,
       "version_minor": 0
      },
      "text/plain": [
       "HBox(children=(IntProgress(value=0, max=1), HTML(value='')))"
      ]
     },
     "metadata": {},
     "output_type": "display_data"
    },
    {
     "name": "stdout",
     "output_type": "stream",
     "text": [
      "pos_loss: 32.3740 neg_hard_mining_loss: 73.1529\n",
      "n: 37.0 bbs_loss: 325.8261 cats_loss: 105.5268\n",
      "epoch: 137 step: 0 loss: 11.6582 time: 0.4936\n"
     ]
    },
    {
     "data": {
      "application/vnd.jupyter.widget-view+json": {
       "model_id": "a00a8a2fe73f48d681858d023ffe0b57",
       "version_major": 2,
       "version_minor": 0
      },
      "text/plain": [
       "HBox(children=(IntProgress(value=0, max=1), HTML(value='')))"
      ]
     },
     "metadata": {},
     "output_type": "display_data"
    },
    {
     "name": "stdout",
     "output_type": "stream",
     "text": [
      "pos_loss: 35.9579 neg_hard_mining_loss: 60.6466\n",
      "n: 37.0 bbs_loss: 324.5250 cats_loss: 96.6045\n",
      "epoch: 138 step: 0 loss: 11.3819 time: 0.4961\n"
     ]
    },
    {
     "data": {
      "application/vnd.jupyter.widget-view+json": {
       "model_id": "5eee5ec3ee204b86b73022dd9cc46d79",
       "version_major": 2,
       "version_minor": 0
      },
      "text/plain": [
       "HBox(children=(IntProgress(value=0, max=1), HTML(value='')))"
      ]
     },
     "metadata": {},
     "output_type": "display_data"
    },
    {
     "name": "stdout",
     "output_type": "stream",
     "text": [
      "pos_loss: 48.0655 neg_hard_mining_loss: 61.7860\n",
      "n: 37.0 bbs_loss: 331.8396 cats_loss: 109.8515\n",
      "epoch: 139 step: 0 loss: 11.9376 time: 0.4887\n"
     ]
    },
    {
     "data": {
      "application/vnd.jupyter.widget-view+json": {
       "model_id": "199c0c1b3be84c2baa2ab65cc40548dd",
       "version_major": 2,
       "version_minor": 0
      },
      "text/plain": [
       "HBox(children=(IntProgress(value=0, max=1), HTML(value='')))"
      ]
     },
     "metadata": {},
     "output_type": "display_data"
    },
    {
     "name": "stdout",
     "output_type": "stream",
     "text": [
      "pos_loss: 37.8385 neg_hard_mining_loss: 60.5734\n",
      "n: 37.0 bbs_loss: 327.1220 cats_loss: 98.4118\n",
      "epoch: 140 step: 0 loss: 11.5009 time: 0.5176\n"
     ]
    },
    {
     "data": {
      "application/vnd.jupyter.widget-view+json": {
       "model_id": "f772e1eb646a4a75ae4062dc8e0ca659",
       "version_major": 2,
       "version_minor": 0
      },
      "text/plain": [
       "HBox(children=(IntProgress(value=0, max=1), HTML(value='')))"
      ]
     },
     "metadata": {},
     "output_type": "display_data"
    },
    {
     "name": "stdout",
     "output_type": "stream",
     "text": [
      "pos_loss: 31.2922 neg_hard_mining_loss: 59.5864\n",
      "n: 37.0 bbs_loss: 318.7335 cats_loss: 90.8786\n",
      "epoch: 141 step: 0 loss: 11.0706 time: 0.5381\n"
     ]
    },
    {
     "data": {
      "application/vnd.jupyter.widget-view+json": {
       "model_id": "45b2eed1f6604b82b678934e48f65f26",
       "version_major": 2,
       "version_minor": 0
      },
      "text/plain": [
       "HBox(children=(IntProgress(value=0, max=1), HTML(value='')))"
      ]
     },
     "metadata": {},
     "output_type": "display_data"
    },
    {
     "name": "stdout",
     "output_type": "stream",
     "text": [
      "pos_loss: 31.5988 neg_hard_mining_loss: 62.3024\n",
      "n: 37.0 bbs_loss: 321.1790 cats_loss: 93.9013\n",
      "epoch: 142 step: 0 loss: 11.2184 time: 0.5233\n"
     ]
    },
    {
     "data": {
      "application/vnd.jupyter.widget-view+json": {
       "model_id": "69a017f5e3e14c5eb96148a47464a665",
       "version_major": 2,
       "version_minor": 0
      },
      "text/plain": [
       "HBox(children=(IntProgress(value=0, max=1), HTML(value='')))"
      ]
     },
     "metadata": {},
     "output_type": "display_data"
    },
    {
     "name": "stdout",
     "output_type": "stream",
     "text": [
      "pos_loss: 39.4562 neg_hard_mining_loss: 56.8977\n",
      "n: 37.0 bbs_loss: 329.0391 cats_loss: 96.3539\n",
      "epoch: 143 step: 0 loss: 11.4971 time: 0.5139\n"
     ]
    },
    {
     "data": {
      "application/vnd.jupyter.widget-view+json": {
       "model_id": "ce181538d22041d89be177bbd502a55a",
       "version_major": 2,
       "version_minor": 0
      },
      "text/plain": [
       "HBox(children=(IntProgress(value=0, max=1), HTML(value='')))"
      ]
     },
     "metadata": {},
     "output_type": "display_data"
    },
    {
     "name": "stdout",
     "output_type": "stream",
     "text": [
      "pos_loss: 32.6508 neg_hard_mining_loss: 53.0852\n",
      "n: 37.0 bbs_loss: 316.4632 cats_loss: 85.7360\n",
      "epoch: 144 step: 0 loss: 10.8703 time: 0.5467\n"
     ]
    },
    {
     "data": {
      "application/vnd.jupyter.widget-view+json": {
       "model_id": "ef0578c9dfe745a7a5ddd41b99364548",
       "version_major": 2,
       "version_minor": 0
      },
      "text/plain": [
       "HBox(children=(IntProgress(value=0, max=1), HTML(value='')))"
      ]
     },
     "metadata": {},
     "output_type": "display_data"
    },
    {
     "name": "stdout",
     "output_type": "stream",
     "text": [
      "pos_loss: 32.5568 neg_hard_mining_loss: 63.6423\n",
      "n: 37.0 bbs_loss: 312.6118 cats_loss: 96.1990\n",
      "epoch: 145 step: 0 loss: 11.0489 time: 0.5359\n"
     ]
    },
    {
     "data": {
      "application/vnd.jupyter.widget-view+json": {
       "model_id": "96a7be8858364e4ea2d696eb49acf1f2",
       "version_major": 2,
       "version_minor": 0
      },
      "text/plain": [
       "HBox(children=(IntProgress(value=0, max=1), HTML(value='')))"
      ]
     },
     "metadata": {},
     "output_type": "display_data"
    },
    {
     "name": "stdout",
     "output_type": "stream",
     "text": [
      "pos_loss: 33.2204 neg_hard_mining_loss: 52.5698\n",
      "n: 37.0 bbs_loss: 330.2404 cats_loss: 85.7903\n",
      "epoch: 146 step: 0 loss: 11.2441 time: 0.5246\n"
     ]
    },
    {
     "data": {
      "application/vnd.jupyter.widget-view+json": {
       "model_id": "45649f9673a34b448d834b6b0f567384",
       "version_major": 2,
       "version_minor": 0
      },
      "text/plain": [
       "HBox(children=(IntProgress(value=0, max=1), HTML(value='')))"
      ]
     },
     "metadata": {},
     "output_type": "display_data"
    },
    {
     "name": "stdout",
     "output_type": "stream",
     "text": [
      "pos_loss: 34.2706 neg_hard_mining_loss: 47.3705\n",
      "n: 37.0 bbs_loss: 308.8030 cats_loss: 81.6411\n",
      "epoch: 147 step: 0 loss: 10.5525 time: 0.5493\n"
     ]
    },
    {
     "data": {
      "application/vnd.jupyter.widget-view+json": {
       "model_id": "b6ca379ca3c4458298f4451d857a7926",
       "version_major": 2,
       "version_minor": 0
      },
      "text/plain": [
       "HBox(children=(IntProgress(value=0, max=1), HTML(value='')))"
      ]
     },
     "metadata": {},
     "output_type": "display_data"
    },
    {
     "name": "stdout",
     "output_type": "stream",
     "text": [
      "pos_loss: 23.5936 neg_hard_mining_loss: 55.8501\n",
      "n: 37.0 bbs_loss: 351.7073 cats_loss: 79.4438\n",
      "epoch: 148 step: 0 loss: 11.6527 time: 0.5152\n"
     ]
    },
    {
     "data": {
      "application/vnd.jupyter.widget-view+json": {
       "model_id": "0476e321faa648fdb2f1b0a3b3ffa95a",
       "version_major": 2,
       "version_minor": 0
      },
      "text/plain": [
       "HBox(children=(IntProgress(value=0, max=1), HTML(value='')))"
      ]
     },
     "metadata": {},
     "output_type": "display_data"
    },
    {
     "name": "stdout",
     "output_type": "stream",
     "text": [
      "pos_loss: 17.3041 neg_hard_mining_loss: 65.2217\n",
      "n: 37.0 bbs_loss: 313.5406 cats_loss: 82.5258\n",
      "epoch: 149 step: 0 loss: 10.7045 time: 0.5303\n"
     ]
    },
    {
     "data": {
      "application/vnd.jupyter.widget-view+json": {
       "model_id": "5a349ee2b10e48638d7cc7da5c31d87e",
       "version_major": 2,
       "version_minor": 0
      },
      "text/plain": [
       "HBox(children=(IntProgress(value=0, max=1), HTML(value='')))"
      ]
     },
     "metadata": {},
     "output_type": "display_data"
    },
    {
     "name": "stdout",
     "output_type": "stream",
     "text": [
      "pos_loss: 23.0436 neg_hard_mining_loss: 60.2010\n",
      "n: 37.0 bbs_loss: 361.3907 cats_loss: 83.2445\n",
      "epoch: 150 step: 0 loss: 12.0172 time: 0.5457\n"
     ]
    },
    {
     "data": {
      "application/vnd.jupyter.widget-view+json": {
       "model_id": "317a774ab8f5465498779e4759b49770",
       "version_major": 2,
       "version_minor": 0
      },
      "text/plain": [
       "HBox(children=(IntProgress(value=0, max=1), HTML(value='')))"
      ]
     },
     "metadata": {},
     "output_type": "display_data"
    },
    {
     "name": "stdout",
     "output_type": "stream",
     "text": [
      "pos_loss: 25.2179 neg_hard_mining_loss: 49.9940\n",
      "n: 37.0 bbs_loss: 377.1074 cats_loss: 75.2119\n",
      "epoch: 151 step: 0 loss: 12.2248 time: 0.5356\n"
     ]
    },
    {
     "data": {
      "application/vnd.jupyter.widget-view+json": {
       "model_id": "db7a6da3c5e249db87020f58791927d0",
       "version_major": 2,
       "version_minor": 0
      },
      "text/plain": [
       "HBox(children=(IntProgress(value=0, max=1), HTML(value='')))"
      ]
     },
     "metadata": {},
     "output_type": "display_data"
    },
    {
     "name": "stdout",
     "output_type": "stream",
     "text": [
      "pos_loss: 22.9651 neg_hard_mining_loss: 45.2457\n",
      "n: 37.0 bbs_loss: 341.3795 cats_loss: 68.2109\n",
      "epoch: 152 step: 0 loss: 11.0700 time: 0.5114\n"
     ]
    },
    {
     "data": {
      "application/vnd.jupyter.widget-view+json": {
       "model_id": "8b615140b9e442b9bb6507ba59fdd02a",
       "version_major": 2,
       "version_minor": 0
      },
      "text/plain": [
       "HBox(children=(IntProgress(value=0, max=1), HTML(value='')))"
      ]
     },
     "metadata": {},
     "output_type": "display_data"
    },
    {
     "name": "stdout",
     "output_type": "stream",
     "text": [
      "pos_loss: 28.9361 neg_hard_mining_loss: 43.8314\n",
      "n: 37.0 bbs_loss: 301.8700 cats_loss: 72.7675\n",
      "epoch: 153 step: 0 loss: 10.1253 time: 0.5594\n"
     ]
    },
    {
     "data": {
      "application/vnd.jupyter.widget-view+json": {
       "model_id": "627127bfea2348fe98d3977b6f271619",
       "version_major": 2,
       "version_minor": 0
      },
      "text/plain": [
       "HBox(children=(IntProgress(value=0, max=1), HTML(value='')))"
      ]
     },
     "metadata": {},
     "output_type": "display_data"
    },
    {
     "name": "stdout",
     "output_type": "stream",
     "text": [
      "pos_loss: 19.1309 neg_hard_mining_loss: 43.2035\n",
      "n: 37.0 bbs_loss: 301.9338 cats_loss: 62.3344\n",
      "epoch: 154 step: 0 loss: 9.8451 time: 0.5259\n"
     ]
    },
    {
     "data": {
      "application/vnd.jupyter.widget-view+json": {
       "model_id": "0d36ae84101140458ea2f6b8ff7ef5cc",
       "version_major": 2,
       "version_minor": 0
      },
      "text/plain": [
       "HBox(children=(IntProgress(value=0, max=1), HTML(value='')))"
      ]
     },
     "metadata": {},
     "output_type": "display_data"
    },
    {
     "name": "stdout",
     "output_type": "stream",
     "text": [
      "pos_loss: 8.5789 neg_hard_mining_loss: 60.1461\n",
      "n: 37.0 bbs_loss: 335.5529 cats_loss: 68.7250\n",
      "epoch: 155 step: 0 loss: 10.9264 time: 0.5176\n"
     ]
    },
    {
     "data": {
      "application/vnd.jupyter.widget-view+json": {
       "model_id": "9a80a82e03674a2b978d24b1ae4e0c9a",
       "version_major": 2,
       "version_minor": 0
      },
      "text/plain": [
       "HBox(children=(IntProgress(value=0, max=1), HTML(value='')))"
      ]
     },
     "metadata": {},
     "output_type": "display_data"
    },
    {
     "name": "stdout",
     "output_type": "stream",
     "text": [
      "pos_loss: 10.0851 neg_hard_mining_loss: 49.9571\n",
      "n: 37.0 bbs_loss: 359.9706 cats_loss: 60.0422\n",
      "epoch: 156 step: 0 loss: 11.3517 time: 0.5217\n"
     ]
    },
    {
     "data": {
      "application/vnd.jupyter.widget-view+json": {
       "model_id": "45ca920e787e4b4c85800c14376f5413",
       "version_major": 2,
       "version_minor": 0
      },
      "text/plain": [
       "HBox(children=(IntProgress(value=0, max=1), HTML(value='')))"
      ]
     },
     "metadata": {},
     "output_type": "display_data"
    },
    {
     "name": "stdout",
     "output_type": "stream",
     "text": [
      "pos_loss: 13.0919 neg_hard_mining_loss: 46.7913\n",
      "n: 37.0 bbs_loss: 340.4503 cats_loss: 59.8832\n",
      "epoch: 157 step: 0 loss: 10.8198 time: 0.5223\n"
     ]
    },
    {
     "data": {
      "application/vnd.jupyter.widget-view+json": {
       "model_id": "b6872efe17c64679985be25f063437c7",
       "version_major": 2,
       "version_minor": 0
      },
      "text/plain": [
       "HBox(children=(IntProgress(value=0, max=1), HTML(value='')))"
      ]
     },
     "metadata": {},
     "output_type": "display_data"
    },
    {
     "name": "stdout",
     "output_type": "stream",
     "text": [
      "pos_loss: 17.8166 neg_hard_mining_loss: 44.5176\n",
      "n: 37.0 bbs_loss: 303.4463 cats_loss: 62.3341\n",
      "epoch: 158 step: 0 loss: 9.8860 time: 0.5191\n"
     ]
    },
    {
     "data": {
      "application/vnd.jupyter.widget-view+json": {
       "model_id": "a86e57b1da2543748ec76ebc1a55a1b2",
       "version_major": 2,
       "version_minor": 0
      },
      "text/plain": [
       "HBox(children=(IntProgress(value=0, max=1), HTML(value='')))"
      ]
     },
     "metadata": {},
     "output_type": "display_data"
    },
    {
     "name": "stdout",
     "output_type": "stream",
     "text": [
      "pos_loss: 16.8857 neg_hard_mining_loss: 40.9707\n",
      "n: 37.0 bbs_loss: 313.1610 cats_loss: 57.8565\n",
      "epoch: 159 step: 0 loss: 10.0275 time: 0.4916\n"
     ]
    },
    {
     "data": {
      "application/vnd.jupyter.widget-view+json": {
       "model_id": "579a1586746a45eaa3747788b112423e",
       "version_major": 2,
       "version_minor": 0
      },
      "text/plain": [
       "HBox(children=(IntProgress(value=0, max=1), HTML(value='')))"
      ]
     },
     "metadata": {},
     "output_type": "display_data"
    },
    {
     "name": "stdout",
     "output_type": "stream",
     "text": [
      "pos_loss: 8.7037 neg_hard_mining_loss: 41.5414\n",
      "n: 37.0 bbs_loss: 283.4590 cats_loss: 50.2451\n",
      "epoch: 160 step: 0 loss: 9.0190 time: 0.5359\n"
     ]
    },
    {
     "data": {
      "application/vnd.jupyter.widget-view+json": {
       "model_id": "c4af9570a0b34a38be1e9af92e6ebb1d",
       "version_major": 2,
       "version_minor": 0
      },
      "text/plain": [
       "HBox(children=(IntProgress(value=0, max=1), HTML(value='')))"
      ]
     },
     "metadata": {},
     "output_type": "display_data"
    },
    {
     "name": "stdout",
     "output_type": "stream",
     "text": [
      "pos_loss: 10.1611 neg_hard_mining_loss: 53.8979\n",
      "n: 37.0 bbs_loss: 286.0976 cats_loss: 64.0590\n",
      "epoch: 161 step: 0 loss: 9.4637 time: 0.5445\n"
     ]
    },
    {
     "data": {
      "application/vnd.jupyter.widget-view+json": {
       "model_id": "04aa7c18fa304c2dbcff3a18abb6e3ea",
       "version_major": 2,
       "version_minor": 0
      },
      "text/plain": [
       "HBox(children=(IntProgress(value=0, max=1), HTML(value='')))"
      ]
     },
     "metadata": {},
     "output_type": "display_data"
    },
    {
     "name": "stdout",
     "output_type": "stream",
     "text": [
      "pos_loss: 12.6725 neg_hard_mining_loss: 40.3594\n",
      "n: 37.0 bbs_loss: 250.9816 cats_loss: 53.0319\n",
      "epoch: 162 step: 0 loss: 8.2166 time: 0.5545\n"
     ]
    },
    {
     "data": {
      "application/vnd.jupyter.widget-view+json": {
       "model_id": "ec2431021a014c95b4edd308c3385996",
       "version_major": 2,
       "version_minor": 0
      },
      "text/plain": [
       "HBox(children=(IntProgress(value=0, max=1), HTML(value='')))"
      ]
     },
     "metadata": {},
     "output_type": "display_data"
    },
    {
     "name": "stdout",
     "output_type": "stream",
     "text": [
      "pos_loss: 16.7383 neg_hard_mining_loss: 36.5608\n",
      "n: 37.0 bbs_loss: 302.3095 cats_loss: 53.2991\n",
      "epoch: 163 step: 0 loss: 9.6110 time: 0.5657\n"
     ]
    },
    {
     "data": {
      "application/vnd.jupyter.widget-view+json": {
       "model_id": "e8b5e3ad805a4429b352b079fda60d90",
       "version_major": 2,
       "version_minor": 0
      },
      "text/plain": [
       "HBox(children=(IntProgress(value=0, max=1), HTML(value='')))"
      ]
     },
     "metadata": {},
     "output_type": "display_data"
    },
    {
     "name": "stdout",
     "output_type": "stream",
     "text": [
      "pos_loss: 10.0331 neg_hard_mining_loss: 36.7226\n",
      "n: 37.0 bbs_loss: 235.6871 cats_loss: 46.7557\n",
      "epoch: 164 step: 0 loss: 7.6336 time: 0.5527\n"
     ]
    },
    {
     "data": {
      "application/vnd.jupyter.widget-view+json": {
       "model_id": "61da307781274b2fb7e75f5235854286",
       "version_major": 2,
       "version_minor": 0
      },
      "text/plain": [
       "HBox(children=(IntProgress(value=0, max=1), HTML(value='')))"
      ]
     },
     "metadata": {},
     "output_type": "display_data"
    },
    {
     "name": "stdout",
     "output_type": "stream",
     "text": [
      "pos_loss: 10.7044 neg_hard_mining_loss: 50.6293\n",
      "n: 37.0 bbs_loss: 325.8904 cats_loss: 61.3337\n",
      "epoch: 165 step: 0 loss: 10.4655 time: 0.5488\n"
     ]
    },
    {
     "data": {
      "application/vnd.jupyter.widget-view+json": {
       "model_id": "aac7c654ae8745549fb9b6e8b4f4af6e",
       "version_major": 2,
       "version_minor": 0
      },
      "text/plain": [
       "HBox(children=(IntProgress(value=0, max=1), HTML(value='')))"
      ]
     },
     "metadata": {},
     "output_type": "display_data"
    },
    {
     "name": "stdout",
     "output_type": "stream",
     "text": [
      "pos_loss: 8.3497 neg_hard_mining_loss: 44.3321\n",
      "n: 37.0 bbs_loss: 317.1744 cats_loss: 52.6818\n",
      "epoch: 166 step: 0 loss: 9.9961 time: 0.5435\n"
     ]
    },
    {
     "data": {
      "application/vnd.jupyter.widget-view+json": {
       "model_id": "49d44763140344c795d830b54ce55357",
       "version_major": 2,
       "version_minor": 0
      },
      "text/plain": [
       "HBox(children=(IntProgress(value=0, max=1), HTML(value='')))"
      ]
     },
     "metadata": {},
     "output_type": "display_data"
    },
    {
     "name": "stdout",
     "output_type": "stream",
     "text": [
      "pos_loss: 4.4661 neg_hard_mining_loss: 48.0003\n",
      "n: 37.0 bbs_loss: 207.2785 cats_loss: 52.4664\n",
      "epoch: 167 step: 0 loss: 7.0201 time: 0.5423\n"
     ]
    },
    {
     "data": {
      "application/vnd.jupyter.widget-view+json": {
       "model_id": "7352b4969f0a404f9e8aecb411796e48",
       "version_major": 2,
       "version_minor": 0
      },
      "text/plain": [
       "HBox(children=(IntProgress(value=0, max=1), HTML(value='')))"
      ]
     },
     "metadata": {},
     "output_type": "display_data"
    },
    {
     "name": "stdout",
     "output_type": "stream",
     "text": [
      "pos_loss: 3.5830 neg_hard_mining_loss: 41.0708\n",
      "n: 37.0 bbs_loss: 397.0239 cats_loss: 44.6538\n",
      "epoch: 168 step: 0 loss: 11.9372 time: 0.5338\n"
     ]
    },
    {
     "data": {
      "application/vnd.jupyter.widget-view+json": {
       "model_id": "9cd99e642e2b4de8a6407ed45db39a45",
       "version_major": 2,
       "version_minor": 0
      },
      "text/plain": [
       "HBox(children=(IntProgress(value=0, max=1), HTML(value='')))"
      ]
     },
     "metadata": {},
     "output_type": "display_data"
    },
    {
     "name": "stdout",
     "output_type": "stream",
     "text": [
      "pos_loss: 7.0541 neg_hard_mining_loss: 34.5947\n",
      "n: 37.0 bbs_loss: 191.2243 cats_loss: 41.6488\n",
      "epoch: 169 step: 0 loss: 6.2939 time: 0.5495\n"
     ]
    },
    {
     "data": {
      "application/vnd.jupyter.widget-view+json": {
       "model_id": "90dc33f0071046eead3e55651ff14301",
       "version_major": 2,
       "version_minor": 0
      },
      "text/plain": [
       "HBox(children=(IntProgress(value=0, max=1), HTML(value='')))"
      ]
     },
     "metadata": {},
     "output_type": "display_data"
    },
    {
     "name": "stdout",
     "output_type": "stream",
     "text": [
      "pos_loss: 15.3055 neg_hard_mining_loss: 42.8012\n",
      "n: 37.0 bbs_loss: 341.9625 cats_loss: 58.1067\n",
      "epoch: 170 step: 0 loss: 10.8127 time: 0.5411\n"
     ]
    },
    {
     "data": {
      "application/vnd.jupyter.widget-view+json": {
       "model_id": "3c60dbed3c8c40f58fe9008e9676d161",
       "version_major": 2,
       "version_minor": 0
      },
      "text/plain": [
       "HBox(children=(IntProgress(value=0, max=1), HTML(value='')))"
      ]
     },
     "metadata": {},
     "output_type": "display_data"
    },
    {
     "name": "stdout",
     "output_type": "stream",
     "text": [
      "pos_loss: 15.9170 neg_hard_mining_loss: 37.5553\n",
      "n: 37.0 bbs_loss: 381.0338 cats_loss: 53.4723\n",
      "epoch: 171 step: 0 loss: 11.7434 time: 0.5440\n"
     ]
    },
    {
     "data": {
      "application/vnd.jupyter.widget-view+json": {
       "model_id": "62233dff903f4d40a2074f052bf224c4",
       "version_major": 2,
       "version_minor": 0
      },
      "text/plain": [
       "HBox(children=(IntProgress(value=0, max=1), HTML(value='')))"
      ]
     },
     "metadata": {},
     "output_type": "display_data"
    },
    {
     "name": "stdout",
     "output_type": "stream",
     "text": [
      "pos_loss: 8.3496 neg_hard_mining_loss: 34.2766\n",
      "n: 37.0 bbs_loss: 350.0061 cats_loss: 42.6262\n",
      "epoch: 172 step: 0 loss: 10.6117 time: 0.5296\n"
     ]
    },
    {
     "data": {
      "application/vnd.jupyter.widget-view+json": {
       "model_id": "25d3bbe000ac43bda55a2194ca264e48",
       "version_major": 2,
       "version_minor": 0
      },
      "text/plain": [
       "HBox(children=(IntProgress(value=0, max=1), HTML(value='')))"
      ]
     },
     "metadata": {},
     "output_type": "display_data"
    },
    {
     "name": "stdout",
     "output_type": "stream",
     "text": [
      "pos_loss: 6.9159 neg_hard_mining_loss: 45.9498\n",
      "n: 37.0 bbs_loss: 261.8145 cats_loss: 52.8656\n",
      "epoch: 173 step: 0 loss: 8.5049 time: 0.5221\n"
     ]
    },
    {
     "data": {
      "application/vnd.jupyter.widget-view+json": {
       "model_id": "1344a56c57a7466185bc9d981d851a7c",
       "version_major": 2,
       "version_minor": 0
      },
      "text/plain": [
       "HBox(children=(IntProgress(value=0, max=1), HTML(value='')))"
      ]
     },
     "metadata": {},
     "output_type": "display_data"
    },
    {
     "name": "stdout",
     "output_type": "stream",
     "text": [
      "pos_loss: 11.8520 neg_hard_mining_loss: 30.3379\n",
      "n: 37.0 bbs_loss: 322.6346 cats_loss: 42.1899\n",
      "epoch: 174 step: 0 loss: 9.8601 time: 0.5378\n"
     ]
    },
    {
     "data": {
      "application/vnd.jupyter.widget-view+json": {
       "model_id": "cd19eb2ca5ef4a4780e8db8a4b9cd7be",
       "version_major": 2,
       "version_minor": 0
      },
      "text/plain": [
       "HBox(children=(IntProgress(value=0, max=1), HTML(value='')))"
      ]
     },
     "metadata": {},
     "output_type": "display_data"
    },
    {
     "name": "stdout",
     "output_type": "stream",
     "text": [
      "pos_loss: 8.2638 neg_hard_mining_loss: 32.7786\n",
      "n: 37.0 bbs_loss: 280.9211 cats_loss: 41.0424\n",
      "epoch: 175 step: 0 loss: 8.7017 time: 0.5657\n"
     ]
    },
    {
     "data": {
      "application/vnd.jupyter.widget-view+json": {
       "model_id": "a617b71f280642f391c77ed26b37925e",
       "version_major": 2,
       "version_minor": 0
      },
      "text/plain": [
       "HBox(children=(IntProgress(value=0, max=1), HTML(value='')))"
      ]
     },
     "metadata": {},
     "output_type": "display_data"
    },
    {
     "name": "stdout",
     "output_type": "stream",
     "text": [
      "pos_loss: 2.3800 neg_hard_mining_loss: 30.5326\n",
      "n: 37.0 bbs_loss: 216.5290 cats_loss: 32.9126\n",
      "epoch: 176 step: 0 loss: 6.7417 time: 0.5705\n"
     ]
    },
    {
     "data": {
      "application/vnd.jupyter.widget-view+json": {
       "model_id": "817ddb941dd24e7cb60ec96c5d95a789",
       "version_major": 2,
       "version_minor": 0
      },
      "text/plain": [
       "HBox(children=(IntProgress(value=0, max=1), HTML(value='')))"
      ]
     },
     "metadata": {},
     "output_type": "display_data"
    },
    {
     "name": "stdout",
     "output_type": "stream",
     "text": [
      "pos_loss: 1.7650 neg_hard_mining_loss: 33.1023\n",
      "n: 37.0 bbs_loss: 226.5135 cats_loss: 34.8673\n",
      "epoch: 177 step: 0 loss: 7.0643 time: 0.5564\n"
     ]
    },
    {
     "data": {
      "application/vnd.jupyter.widget-view+json": {
       "model_id": "297df86e971646c18b7b0556ea1e6ffd",
       "version_major": 2,
       "version_minor": 0
      },
      "text/plain": [
       "HBox(children=(IntProgress(value=0, max=1), HTML(value='')))"
      ]
     },
     "metadata": {},
     "output_type": "display_data"
    },
    {
     "name": "stdout",
     "output_type": "stream",
     "text": [
      "pos_loss: 0.4387 neg_hard_mining_loss: 40.0756\n",
      "n: 37.0 bbs_loss: 199.8525 cats_loss: 40.5143\n",
      "epoch: 178 step: 0 loss: 6.4964 time: 0.5307\n"
     ]
    },
    {
     "data": {
      "application/vnd.jupyter.widget-view+json": {
       "model_id": "44cfbbb9e3144e9bad91380380c36c18",
       "version_major": 2,
       "version_minor": 0
      },
      "text/plain": [
       "HBox(children=(IntProgress(value=0, max=1), HTML(value='')))"
      ]
     },
     "metadata": {},
     "output_type": "display_data"
    },
    {
     "name": "stdout",
     "output_type": "stream",
     "text": [
      "pos_loss: 0.5700 neg_hard_mining_loss: 35.1297\n",
      "n: 37.0 bbs_loss: 216.2023 cats_loss: 35.6997\n",
      "epoch: 179 step: 0 loss: 6.8082 time: 0.5325\n"
     ]
    },
    {
     "data": {
      "application/vnd.jupyter.widget-view+json": {
       "model_id": "e2b093e99fd24acdb874f01f337d6c22",
       "version_major": 2,
       "version_minor": 0
      },
      "text/plain": [
       "HBox(children=(IntProgress(value=0, max=1), HTML(value='')))"
      ]
     },
     "metadata": {},
     "output_type": "display_data"
    },
    {
     "name": "stdout",
     "output_type": "stream",
     "text": [
      "pos_loss: 3.6867 neg_hard_mining_loss: 28.8365\n",
      "n: 37.0 bbs_loss: 193.9369 cats_loss: 32.5232\n",
      "epoch: 180 step: 0 loss: 6.1205 time: 0.5390\n"
     ]
    },
    {
     "data": {
      "application/vnd.jupyter.widget-view+json": {
       "model_id": "842632404ff64936a91dc75fba184c28",
       "version_major": 2,
       "version_minor": 0
      },
      "text/plain": [
       "HBox(children=(IntProgress(value=0, max=1), HTML(value='')))"
      ]
     },
     "metadata": {},
     "output_type": "display_data"
    },
    {
     "name": "stdout",
     "output_type": "stream",
     "text": [
      "pos_loss: 2.2074 neg_hard_mining_loss: 27.8945\n",
      "n: 37.0 bbs_loss: 180.4651 cats_loss: 30.1019\n",
      "epoch: 181 step: 0 loss: 5.6910 time: 0.5456\n"
     ]
    },
    {
     "data": {
      "application/vnd.jupyter.widget-view+json": {
       "model_id": "fd98066ad7944d378cf49370195d21a0",
       "version_major": 2,
       "version_minor": 0
      },
      "text/plain": [
       "HBox(children=(IntProgress(value=0, max=1), HTML(value='')))"
      ]
     },
     "metadata": {},
     "output_type": "display_data"
    },
    {
     "name": "stdout",
     "output_type": "stream",
     "text": [
      "pos_loss: 1.9420 neg_hard_mining_loss: 27.4130\n",
      "n: 37.0 bbs_loss: 161.7395 cats_loss: 29.3550\n",
      "epoch: 182 step: 0 loss: 5.1647 time: 0.5313\n"
     ]
    },
    {
     "data": {
      "application/vnd.jupyter.widget-view+json": {
       "model_id": "eeb07540a04343beb538c1f387c40034",
       "version_major": 2,
       "version_minor": 0
      },
      "text/plain": [
       "HBox(children=(IntProgress(value=0, max=1), HTML(value='')))"
      ]
     },
     "metadata": {},
     "output_type": "display_data"
    },
    {
     "name": "stdout",
     "output_type": "stream",
     "text": [
      "pos_loss: 2.3111 neg_hard_mining_loss: 26.8693\n",
      "n: 37.0 bbs_loss: 159.3881 cats_loss: 29.1804\n",
      "epoch: 183 step: 0 loss: 5.0964 time: 0.5466\n"
     ]
    },
    {
     "data": {
      "application/vnd.jupyter.widget-view+json": {
       "model_id": "844d4c175f0c4df59d452047c9d4d8fd",
       "version_major": 2,
       "version_minor": 0
      },
      "text/plain": [
       "HBox(children=(IntProgress(value=0, max=1), HTML(value='')))"
      ]
     },
     "metadata": {},
     "output_type": "display_data"
    },
    {
     "name": "stdout",
     "output_type": "stream",
     "text": [
      "pos_loss: 1.5025 neg_hard_mining_loss: 26.3983\n",
      "n: 37.0 bbs_loss: 180.4389 cats_loss: 27.9008\n",
      "epoch: 184 step: 0 loss: 5.6308 time: 0.5127\n"
     ]
    },
    {
     "data": {
      "application/vnd.jupyter.widget-view+json": {
       "model_id": "758248b9db81421ba57f074848965728",
       "version_major": 2,
       "version_minor": 0
      },
      "text/plain": [
       "HBox(children=(IntProgress(value=0, max=1), HTML(value='')))"
      ]
     },
     "metadata": {},
     "output_type": "display_data"
    },
    {
     "name": "stdout",
     "output_type": "stream",
     "text": [
      "pos_loss: 0.9448 neg_hard_mining_loss: 26.0576\n",
      "n: 37.0 bbs_loss: 197.4756 cats_loss: 27.0024\n",
      "epoch: 185 step: 0 loss: 6.0670 time: 0.5184\n"
     ]
    },
    {
     "data": {
      "application/vnd.jupyter.widget-view+json": {
       "model_id": "9f497bbbecb64d24b1eb16f93163a13e",
       "version_major": 2,
       "version_minor": 0
      },
      "text/plain": [
       "HBox(children=(IntProgress(value=0, max=1), HTML(value='')))"
      ]
     },
     "metadata": {},
     "output_type": "display_data"
    },
    {
     "name": "stdout",
     "output_type": "stream",
     "text": [
      "pos_loss: 0.4223 neg_hard_mining_loss: 26.8868\n",
      "n: 37.0 bbs_loss: 199.3902 cats_loss: 27.3091\n",
      "epoch: 186 step: 0 loss: 6.1270 time: 0.5124\n"
     ]
    },
    {
     "data": {
      "application/vnd.jupyter.widget-view+json": {
       "model_id": "d42bdfad7be84c29a2e6914267192c5d",
       "version_major": 2,
       "version_minor": 0
      },
      "text/plain": [
       "HBox(children=(IntProgress(value=0, max=1), HTML(value='')))"
      ]
     },
     "metadata": {},
     "output_type": "display_data"
    },
    {
     "name": "stdout",
     "output_type": "stream",
     "text": [
      "pos_loss: 0.0718 neg_hard_mining_loss: 25.9141\n",
      "n: 37.0 bbs_loss: 175.2095 cats_loss: 25.9859\n",
      "epoch: 187 step: 0 loss: 5.4377 time: 0.5458\n"
     ]
    },
    {
     "data": {
      "application/vnd.jupyter.widget-view+json": {
       "model_id": "03e320796d2b448e9538c65fa2234882",
       "version_major": 2,
       "version_minor": 0
      },
      "text/plain": [
       "HBox(children=(IntProgress(value=0, max=1), HTML(value='')))"
      ]
     },
     "metadata": {},
     "output_type": "display_data"
    },
    {
     "name": "stdout",
     "output_type": "stream",
     "text": [
      "pos_loss: 0.0404 neg_hard_mining_loss: 26.6953\n",
      "n: 37.0 bbs_loss: 192.0237 cats_loss: 26.7358\n",
      "epoch: 188 step: 0 loss: 5.9124 time: 0.5457\n"
     ]
    },
    {
     "data": {
      "application/vnd.jupyter.widget-view+json": {
       "model_id": "77b9fb56f78940278dea997715de6833",
       "version_major": 2,
       "version_minor": 0
      },
      "text/plain": [
       "HBox(children=(IntProgress(value=0, max=1), HTML(value='')))"
      ]
     },
     "metadata": {},
     "output_type": "display_data"
    },
    {
     "name": "stdout",
     "output_type": "stream",
     "text": [
      "pos_loss: 0.3570 neg_hard_mining_loss: 28.2383\n",
      "n: 37.0 bbs_loss: 185.4557 cats_loss: 28.5954\n",
      "epoch: 189 step: 0 loss: 5.7852 time: 0.5011\n"
     ]
    },
    {
     "data": {
      "application/vnd.jupyter.widget-view+json": {
       "model_id": "66f69d9288104164ae00511d446fb961",
       "version_major": 2,
       "version_minor": 0
      },
      "text/plain": [
       "HBox(children=(IntProgress(value=0, max=1), HTML(value='')))"
      ]
     },
     "metadata": {},
     "output_type": "display_data"
    },
    {
     "name": "stdout",
     "output_type": "stream",
     "text": [
      "pos_loss: 0.7194 neg_hard_mining_loss: 26.2386\n",
      "n: 37.0 bbs_loss: 196.5143 cats_loss: 26.9579\n",
      "epoch: 190 step: 0 loss: 6.0398 time: 0.5408\n"
     ]
    },
    {
     "data": {
      "application/vnd.jupyter.widget-view+json": {
       "model_id": "552e20a5aba945069adf1a645821c8f1",
       "version_major": 2,
       "version_minor": 0
      },
      "text/plain": [
       "HBox(children=(IntProgress(value=0, max=1), HTML(value='')))"
      ]
     },
     "metadata": {},
     "output_type": "display_data"
    },
    {
     "name": "stdout",
     "output_type": "stream",
     "text": [
      "pos_loss: 0.6360 neg_hard_mining_loss: 24.1112\n",
      "n: 37.0 bbs_loss: 124.5673 cats_loss: 24.7471\n",
      "epoch: 191 step: 0 loss: 4.0355 time: 0.5330\n"
     ]
    },
    {
     "data": {
      "application/vnd.jupyter.widget-view+json": {
       "model_id": "3ed7b334f02449048be154c72adcea0d",
       "version_major": 2,
       "version_minor": 0
      },
      "text/plain": [
       "HBox(children=(IntProgress(value=0, max=1), HTML(value='')))"
      ]
     },
     "metadata": {},
     "output_type": "display_data"
    },
    {
     "name": "stdout",
     "output_type": "stream",
     "text": [
      "pos_loss: 1.3417 neg_hard_mining_loss: 23.8038\n",
      "n: 37.0 bbs_loss: 118.3072 cats_loss: 25.1455\n",
      "epoch: 192 step: 0 loss: 3.8771 time: 0.5349\n"
     ]
    },
    {
     "data": {
      "application/vnd.jupyter.widget-view+json": {
       "model_id": "a4d42cba077e4a77aea31ce24ac881c1",
       "version_major": 2,
       "version_minor": 0
      },
      "text/plain": [
       "HBox(children=(IntProgress(value=0, max=1), HTML(value='')))"
      ]
     },
     "metadata": {},
     "output_type": "display_data"
    },
    {
     "name": "stdout",
     "output_type": "stream",
     "text": [
      "pos_loss: 2.2587 neg_hard_mining_loss: 23.5364\n",
      "n: 37.0 bbs_loss: 165.2884 cats_loss: 25.7950\n",
      "epoch: 193 step: 0 loss: 5.1644 time: 0.5249\n"
     ]
    },
    {
     "data": {
      "application/vnd.jupyter.widget-view+json": {
       "model_id": "aa1e4a5161eb493384bd9f372e584845",
       "version_major": 2,
       "version_minor": 0
      },
      "text/plain": [
       "HBox(children=(IntProgress(value=0, max=1), HTML(value='')))"
      ]
     },
     "metadata": {},
     "output_type": "display_data"
    },
    {
     "name": "stdout",
     "output_type": "stream",
     "text": [
      "pos_loss: 1.5436 neg_hard_mining_loss: 23.2877\n",
      "n: 37.0 bbs_loss: 117.8363 cats_loss: 24.8314\n",
      "epoch: 194 step: 0 loss: 3.8559 time: 0.5256\n"
     ]
    },
    {
     "data": {
      "application/vnd.jupyter.widget-view+json": {
       "model_id": "f4963ff7a3b84b72bc517c841d2ecb80",
       "version_major": 2,
       "version_minor": 0
      },
      "text/plain": [
       "HBox(children=(IntProgress(value=0, max=1), HTML(value='')))"
      ]
     },
     "metadata": {},
     "output_type": "display_data"
    },
    {
     "name": "stdout",
     "output_type": "stream",
     "text": [
      "pos_loss: 0.5796 neg_hard_mining_loss: 23.1267\n",
      "n: 37.0 bbs_loss: 233.9513 cats_loss: 23.7063\n",
      "epoch: 195 step: 0 loss: 6.9637 time: 0.5373\n"
     ]
    },
    {
     "data": {
      "application/vnd.jupyter.widget-view+json": {
       "model_id": "9f556b3121be49f9b6aba204b56a6fe1",
       "version_major": 2,
       "version_minor": 0
      },
      "text/plain": [
       "HBox(children=(IntProgress(value=0, max=1), HTML(value='')))"
      ]
     },
     "metadata": {},
     "output_type": "display_data"
    },
    {
     "name": "stdout",
     "output_type": "stream",
     "text": [
      "pos_loss: 0.5060 neg_hard_mining_loss: 22.6618\n",
      "n: 37.0 bbs_loss: 121.8527 cats_loss: 23.1678\n",
      "epoch: 196 step: 0 loss: 3.9195 time: 0.5187\n"
     ]
    },
    {
     "data": {
      "application/vnd.jupyter.widget-view+json": {
       "model_id": "3be8eb37eb684aa3ace43d3628a93d23",
       "version_major": 2,
       "version_minor": 0
      },
      "text/plain": [
       "HBox(children=(IntProgress(value=0, max=1), HTML(value='')))"
      ]
     },
     "metadata": {},
     "output_type": "display_data"
    },
    {
     "name": "stdout",
     "output_type": "stream",
     "text": [
      "pos_loss: 0.9236 neg_hard_mining_loss: 22.3600\n",
      "n: 37.0 bbs_loss: 159.9720 cats_loss: 23.2836\n",
      "epoch: 197 step: 0 loss: 4.9529 time: 0.5264\n"
     ]
    },
    {
     "data": {
      "application/vnd.jupyter.widget-view+json": {
       "model_id": "e116fcd87b73425cb9be15ce122b924b",
       "version_major": 2,
       "version_minor": 0
      },
      "text/plain": [
       "HBox(children=(IntProgress(value=0, max=1), HTML(value='')))"
      ]
     },
     "metadata": {},
     "output_type": "display_data"
    },
    {
     "name": "stdout",
     "output_type": "stream",
     "text": [
      "pos_loss: 0.1870 neg_hard_mining_loss: 22.1089\n",
      "n: 37.0 bbs_loss: 103.3328 cats_loss: 22.2959\n",
      "epoch: 198 step: 0 loss: 3.3954 time: 0.5226\n"
     ]
    },
    {
     "data": {
      "application/vnd.jupyter.widget-view+json": {
       "model_id": "1ee84b6729b84ae78f93af2ef850221a",
       "version_major": 2,
       "version_minor": 0
      },
      "text/plain": [
       "HBox(children=(IntProgress(value=0, max=1), HTML(value='')))"
      ]
     },
     "metadata": {},
     "output_type": "display_data"
    },
    {
     "name": "stdout",
     "output_type": "stream",
     "text": [
      "pos_loss: 0.0519 neg_hard_mining_loss: 21.8229\n",
      "n: 37.0 bbs_loss: 165.1663 cats_loss: 21.8748\n",
      "epoch: 199 step: 0 loss: 5.0552 time: 0.5428\n"
     ]
    }
   ],
   "source": [
    "EPOCHS = 200\n",
    "\n",
    "for epoch in range(EPOCHS):\n",
    "    steps = math.ceil(len(train_dataset) / BATCH)\n",
    "    for step in tqdm_notebook(range(steps)):\n",
    "        image_ids, ims, gt_bbs, gt_cats = next(iter(dataloader))\n",
    "\n",
    "        # put data on device\n",
    "        ims, gt_bbs, gt_cats = PascalDataset.to_device(ims, gt_bbs, gt_cats)\n",
    "\n",
    "        # zero out gradients\n",
    "        optimizer.zero_grad()\n",
    "\n",
    "        # forward pass\n",
    "        preds = model(ims)\n",
    "        loss, loc_loss, conf_loss = criterion(preds, (gt_bbs, gt_cats))\n",
    "\n",
    "        # backward pass\n",
    "        loss.backward()\n",
    "        optimizer.step()\n",
    "\n",
    "        # stats\n",
    "        if step % 5 == 0:\n",
    "            print('epoch: {} step: {} loss: {:.4f} time: {:.4f}'.format(\n",
    "                epoch, step, loss.item(), time.time() - current_time))\n",
    "            current_time = time.time()\n",
    "            losses['total'].append(loss.item())\n",
    "            losses['loc'].append(loc_loss.item())\n",
    "            losses['conf'].append(conf_loss.item())"
   ]
  },
  {
   "cell_type": "code",
   "execution_count": 49,
   "metadata": {},
   "outputs": [
    {
     "data": {
      "text/plain": [
       "[<matplotlib.lines.Line2D at 0x7f3a60641be0>]"
      ]
     },
     "execution_count": 49,
     "metadata": {},
     "output_type": "execute_result"
    },
    {
     "data": {
      "image/png": "[encoded data removed]",
      "text/plain": [
       "<Figure size 432x288 with 1 Axes>"
      ]
     },
     "metadata": {},
     "output_type": "display_data"
    }
   ],
   "source": [
    "plt.plot(losses['total'])"
   ]
  },
  {
   "cell_type": "code",
   "execution_count": 50,
   "metadata": {},
   "outputs": [
    {
     "data": {
      "text/plain": [
       "[<matplotlib.lines.Line2D at 0x7f3a605fddd8>]"
      ]
     },
     "execution_count": 50,
     "metadata": {},
     "output_type": "execute_result"
    },
    {
     "data": {
      "image/png": "[encoded data removed]",
      "text/plain": [
       "<Figure size 432x288 with 1 Axes>"
      ]
     },
     "metadata": {},
     "output_type": "display_data"
    }
   ],
   "source": [
    "plt.plot(losses['loc'])"
   ]
  },
  {
   "cell_type": "code",
   "execution_count": 51,
   "metadata": {},
   "outputs": [
    {
     "data": {
      "text/plain": [
       "[<matplotlib.lines.Line2D at 0x7f3a605cf048>]"
      ]
     },
     "execution_count": 51,
     "metadata": {},
     "output_type": "execute_result"
    },
    {
     "data": {
      "image/png": "[encoded data removed]",
      "text/plain": [
       "<Figure size 432x288 with 1 Axes>"
      ]
     },
     "metadata": {},
     "output_type": "display_data"
    }
   ],
   "source": [
    "plt.plot(losses['conf'])"
   ]
  },
  {
   "cell_type": "code",
   "execution_count": 57,
   "metadata": {},
   "outputs": [],
   "source": [
    "bbs_preds, cats_preds = preds"
   ]
  },
  {
   "cell_type": "code",
   "execution_count": 58,
   "metadata": {},
   "outputs": [
    {
     "data": {
      "text/plain": [
       "tensor([[100.0000, 100.0000, 200.0000, 200.0000],\n",
       "        [ 50.0000, 100.0000, 250.0000, 200.0000],\n",
       "        [100.0000, 100.0000, 300.0000, 200.0000],\n",
       "        [ 97.2954, 100.0000, 202.7046, 200.0000]], device='cuda:0')"
      ]
     },
     "execution_count": 58,
     "metadata": {},
     "output_type": "execute_result"
    }
   ],
   "source": [
    "from ssdmultibox.plotting import *\n",
    "\n",
    "idx = 0\n",
    "targets = get_anchor_bbs_targets(bbs_preds, gt_cats, idx)\n",
    "targets"
   ]
  },
  {
   "cell_type": "code",
   "execution_count": 59,
   "metadata": {},
   "outputs": [
    {
     "data": {
      "image/png": "[encoded data removed]",
      "text/plain": [
       "<Figure size 432x288 with 1 Axes>"
      ]
     },
     "metadata": {},
     "output_type": "display_data"
    }
   ],
   "source": [
    "import cv2\n",
    "import numpy as np\n",
    "import torch\n",
    "\n",
    "import matplotlib.pyplot as plt\n",
    "from matplotlib import patches, patheffects\n",
    "from ssdmultibox.datasets import SIZE, Bboxer, device\n",
    "from ssdmultibox.utils import open_image\n",
    "\n",
    "\n",
    "def plot_single_predictions(dataset, idx, targets):\n",
    "    \"\"\"\n",
    "    Plots the gt bb(s) and predicted bbs\n",
    "\n",
    "    Args:\n",
    "        dataset (torch.utils.data.Dataset)\n",
    "        idx (int): index of dataset item to show\n",
    "        targets (2d array):\n",
    "            fastai formatted bbs to plot\n",
    "    \"\"\"\n",
    "    image_id, im, gt_bbs, gt_cats = dataset[idx]\n",
    "    ann = dataset.get_annotations()[image_id]\n",
    "    im = open_image(ann['image_path'])\n",
    "    resized_im = cv2.resize(im, (SIZE, SIZE))\n",
    "    ax = show_img(resized_im)\n",
    "\n",
    "    for gt_bb in (Bboxer.scaled_pascal_bbs(np.array(ann['bbs']), im) * SIZE):\n",
    "        draw_rect(ax, gt_bb, edgecolor='yellow')\n",
    "\n",
    "    for i, bb in enumerate(targets):\n",
    "        gt_overlap_bb = Bboxer.fastai_bb_to_pascal_bb(bb)\n",
    "        draw_rect(ax, gt_overlap_bb, edgecolor='red')\n",
    "        draw_text(ax, gt_overlap_bb[:2], i, sz=8)\n",
    "\n",
    "plot_single_predictions(dataset, idx, targets)"
   ]
  },
  {
   "cell_type": "code",
   "execution_count": 60,
   "metadata": {},
   "outputs": [
    {
     "data": {
      "image/png": "[encoded data removed]",
      "text/plain": [
       "<Figure size 432x288 with 1 Axes>"
      ]
     },
     "metadata": {},
     "output_type": "display_data"
    }
   ],
   "source": [
    "def plot_anchor_bbs_targets_from_preds(dataset, image_ids, idx, bbs_preds, gt_cats):\n",
    "    image_id = image_ids[idx].item()\n",
    "    dataset_idx = dataset.get_image_id_idx_map()[image_id]\n",
    "    plot_single_predictions(\n",
    "        dataset, dataset_idx,\n",
    "        targets=get_anchor_bbs_targets(bbs_preds, gt_cats, idx))\n",
    "\n",
    "plot_anchor_bbs_targets_from_preds(dataset, image_ids, idx, bbs_preds, gt_cats)"
   ]
  },
  {
   "cell_type": "code",
   "execution_count": 61,
   "metadata": {},
   "outputs": [
    {
     "data": {
      "image/png": "[encoded data removed]",
      "text/plain": [
       "<Figure size 432x288 with 1 Axes>"
      ]
     },
     "metadata": {},
     "output_type": "display_data"
    }
   ],
   "source": [
    "from ssdmultibox.predict import Predict\n",
    "\n",
    "def plot_nms_preds(dataset, image_ids, idx, preds, limit=5):\n",
    "    image_id = image_ids[idx].item()\n",
    "    dataset_idx = dataset.get_image_id_idx_map()[image_id]\n",
    "    boxes, scores, ids = Predict.predict_all(preds, index=idx)\n",
    "    plot_single_predictions(train_dataset, dataset_idx, boxes[:limit])\n",
    "    \n",
    "plot_nms_preds(train_dataset, image_ids, idx, preds, limit=5)"
   ]
  },
  {
   "cell_type": "code",
   "execution_count": 62,
   "metadata": {},
   "outputs": [
    {
     "data": {
      "text/plain": [
       "tensor(-1281.4911, device='cuda:0', grad_fn=<SumBackward0>)"
      ]
     },
     "execution_count": 62,
     "metadata": {},
     "output_type": "execute_result"
    }
   ],
   "source": [
    "bbs_preds[0].sum()"
   ]
  },
  {
   "cell_type": "code",
   "execution_count": 55,
   "metadata": {},
   "outputs": [
    {
     "data": {
      "image/png": "[encoded data removed]",
      "text/plain": [
       "<Figure size 432x288 with 1 Axes>"
      ]
     },
     "metadata": {},
     "output_type": "display_data"
    }
   ],
   "source": [
    "import torch\n",
    "\n",
    "from ssdmultibox.datasets import BATCH, NUM_CLASSES, device, Bboxer, SIZE\n",
    "\n",
    "CONF_THRESH = 0.1\n",
    "\n",
    "def single_predict(cls_id, preds, index=0, conf_thresh=CONF_THRESH):\n",
    "    \"\"\"\n",
    "    Full predictions for a single class\n",
    "\n",
    "    Args:\n",
    "        cls_id (int): category_id\n",
    "        preds: mini-batch preds from model\n",
    "        index (int): index of batch item to choose\n",
    "        conf_thresh (float):\n",
    "            percent confidence threshold to filter detections by\n",
    "    Returns:\n",
    "        tuple(bbs, scores) or None\n",
    "    \"\"\"\n",
    "\n",
    "    # this adds the AnchorBox offsets to the preds\n",
    "    bbs_preds, cats_preds = preds\n",
    "    # class 20, background is ignored\n",
    "    cats_preds = cats_preds[:,:,:-1]\n",
    "    stacked_anchor_boxes = torch.tensor(\n",
    "        Bboxer.get_stacked_anchor_boxes(), dtype=bbs_preds.dtype).to(device)*SIZE\n",
    "    bbs_preds_w_offsets = stacked_anchor_boxes  + bbs_preds\n",
    "    preds = (bbs_preds_w_offsets, cats_preds)\n",
    "\n",
    "    bbs, cats = preds\n",
    "    item_bbs, item_cats = bbs[index], cats[index]\n",
    "    return Predict.single_nms(cls_id, item_bbs, item_cats, conf_thresh)\n",
    "\n",
    "Predict.single_predict = single_predict\n",
    "\n",
    "plot_nms_preds(train_dataset, image_ids, idx, preds, limit=5)"
   ]
  },
  {
   "cell_type": "code",
   "execution_count": 63,
   "metadata": {
    "scrolled": true
   },
   "outputs": [
    {
     "name": "stdout",
     "output_type": "stream",
     "text": [
      "> <ipython-input-63-86541eac1b39>(21)forward()\n",
      "-> return F.smooth_l1_loss(inputs, targets, reduction='sum')\n",
      "(Pdb) inputs[:4]\n",
      "tensor([[ 76.8392,  90.3532, 211.0602, 213.9441],\n",
      "        [ 87.0089,  91.9875, 238.2401, 212.8869],\n",
      "        [ 81.4142,  91.4637, 236.2261, 211.5732],\n",
      "        [ 82.5054,  91.2759, 211.8275, 213.4746]],\n",
      "       device='cuda:0', grad_fn=<SliceBackward>)\n",
      "(Pdb) targets[:4]\n",
      "tensor([[ 86.4865,  93.0000, 242.2432, 209.6000],\n",
      "        [ 86.4865,  93.0000, 242.2432, 209.6000],\n",
      "        [ 86.4865,  93.0000, 242.2432, 209.6000],\n",
      "        [ 86.4865,  93.0000, 242.2432, 209.6000]], device='cuda:0')\n",
      "(Pdb) c\n"
     ]
    },
    {
     "data": {
      "text/plain": [
       "tensor(825.8316, device='cuda:0', grad_fn=<SmoothL1LossBackward>)"
      ]
     },
     "execution_count": 63,
     "metadata": {},
     "output_type": "execute_result"
    }
   ],
   "source": [
    "import torch\n",
    "import torch.nn.functional as F\n",
    "from torch import nn\n",
    "from ssdmultibox.datasets import NUM_CLASSES, SIZE, device, Bboxer\n",
    "from ssdmultibox.config import cfg\n",
    "\n",
    "class BbsL1Loss(nn.Module):\n",
    "    def __init__(self):\n",
    "        super().__init__()\n",
    "        self.stacked_anchor_boxes = torch.tensor(\n",
    "            Bboxer.get_stacked_anchor_boxes(), dtype=torch.float32).to(device)*SIZE\n",
    "\n",
    "    def forward(self, inputs, targets):\n",
    "        preds = inputs\n",
    "        gt_bbs, gt_cats = targets\n",
    "        preds_w_offsets =  self.stacked_anchor_boxes + preds\n",
    "        gt_idxs = gt_cats != 20\n",
    "        inputs = torch.clamp(preds_w_offsets[gt_idxs], min=0, max=SIZE)\n",
    "        targets = gt_bbs[gt_idxs].type(inputs.dtype)\n",
    "        pdb.set_trace()\n",
    "        return F.smooth_l1_loss(inputs, targets, reduction='sum')\n",
    "    \n",
    "bbs_loss = BbsL1Loss()\n",
    "bbs_loss(bbs_preds, (gt_bbs, gt_cats))"
   ]
  },
  {
   "cell_type": "code",
   "execution_count": 42,
   "metadata": {},
   "outputs": [
    {
     "name": "stdout",
     "output_type": "stream",
     "text": [
      "> \u001b[0;32m<ipython-input-40-439ab79c9337>\u001b[0m(22)\u001b[0;36msingle_predict\u001b[0;34m()\u001b[0m\n",
      "\u001b[0;32m     20 \u001b[0;31m\u001b[0;34m\u001b[0m\u001b[0m\n",
      "\u001b[0m\u001b[0;32m     21 \u001b[0;31m    \u001b[0;31m# this adds the AnchorBox offsets to the preds\u001b[0m\u001b[0;34m\u001b[0m\u001b[0;34m\u001b[0m\u001b[0m\n",
      "\u001b[0m\u001b[0;32m---> 22 \u001b[0;31m    \u001b[0mbbs_preds\u001b[0m\u001b[0;34m,\u001b[0m \u001b[0mcats_preds\u001b[0m \u001b[0;34m=\u001b[0m \u001b[0mpreds\u001b[0m\u001b[0;34m\u001b[0m\u001b[0m\n",
      "\u001b[0m\u001b[0;32m     23 \u001b[0;31m    \u001b[0;31m# class 20, background is ignored\u001b[0m\u001b[0;34m\u001b[0m\u001b[0;34m\u001b[0m\u001b[0m\n",
      "\u001b[0m\u001b[0;32m     24 \u001b[0;31m    \u001b[0mcats_preds\u001b[0m \u001b[0;34m=\u001b[0m \u001b[0mcats_preds\u001b[0m\u001b[0;34m[\u001b[0m\u001b[0;34m:\u001b[0m\u001b[0;34m,\u001b[0m\u001b[0;34m:\u001b[0m\u001b[0;34m,\u001b[0m\u001b[0;34m:\u001b[0m\u001b[0;34m-\u001b[0m\u001b[0;36m1\u001b[0m\u001b[0;34m]\u001b[0m\u001b[0;34m\u001b[0m\u001b[0m\n",
      "\u001b[0m\n",
      "ipdb> type(preds)\n",
      "<class 'int'>\n",
      "ipdb> preds\n",
      "0\n",
      "ipdb> c\n"
     ]
    }
   ],
   "source": []
  },
  {
   "cell_type": "code",
   "execution_count": 27,
   "metadata": {},
   "outputs": [
    {
     "data": {
      "text/plain": [
       "tensor([12, 17, 23, 26])"
      ]
     },
     "execution_count": 27,
     "metadata": {},
     "output_type": "execute_result"
    }
   ],
   "source": [
    "image_ids"
   ]
  },
  {
   "cell_type": "code",
   "execution_count": null,
   "metadata": {},
   "outputs": [],
   "source": []
  }
 ],
 "metadata": {
  "kernelspec": {
   "display_name": "Python 3",
   "language": "python",
   "name": "python3"
  },
  "language_info": {
   "codemirror_mode": {
    "name": "ipython",
    "version": 3
   },
   "file_extension": ".py",
   "mimetype": "text/x-python",
   "name": "python",
   "nbconvert_exporter": "python",
   "pygments_lexer": "ipython3",
   "version": "3.6.5"
  }
 },
 "nbformat": 4,
 "nbformat_minor": 2
}
