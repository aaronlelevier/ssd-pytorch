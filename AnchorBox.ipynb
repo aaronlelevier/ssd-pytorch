{
 "cells": [
  {
   "cell_type": "code",
   "execution_count": 1,
   "metadata": {},
   "outputs": [],
   "source": [
    "import sys\n",
    "import os\n",
    "\n",
    "if os.path.expanduser('~') == '/Users/aaron':\n",
    "    sys.path.append(\"/Users/aaron/Documents/github/ssdmultibox/venv/lib/python3.6/site-packages/\")\n",
    "\n",
    "import pdb\n",
    "from ssdmultibox.datasets import *\n",
    "\n",
    "np.set_printoptions(precision=15)"
   ]
  },
  {
   "cell_type": "code",
   "execution_count": 2,
   "metadata": {},
   "outputs": [],
   "source": [
    "# try w/ DataLoader"
   ]
  },
  {
   "cell_type": "code",
   "execution_count": 3,
   "metadata": {},
   "outputs": [],
   "source": [
    "dataset = TrainPascalFlatDataset()"
   ]
  },
  {
   "cell_type": "code",
   "execution_count": 4,
   "metadata": {
    "scrolled": false
   },
   "outputs": [
    {
     "name": "stdout",
     "output_type": "stream",
     "text": [
      "17 (3, 300, 300) (11640, 4) (11640,)\n"
     ]
    }
   ],
   "source": [
    "data = dataset[1]"
   ]
  },
  {
   "cell_type": "code",
   "execution_count": 7,
   "metadata": {},
   "outputs": [],
   "source": [
    "dataloader = torch.utils.data.DataLoader(dataset, batch_size=4, num_workers=0)"
   ]
  },
  {
   "cell_type": "code",
   "execution_count": 8,
   "metadata": {},
   "outputs": [
    {
     "name": "stdout",
     "output_type": "stream",
     "text": [
      "12 (3, 300, 300) (11640, 4) (11640,)\n",
      "17 (3, 300, 300) (11640, 4) (11640,)\n",
      "23 (3, 300, 300) (11640, 4) (11640,)\n",
      "26 (3, 300, 300) (11640, 4) (11640,)\n"
     ]
    }
   ],
   "source": [
    "item = next(iter(dataloader))"
   ]
  },
  {
   "cell_type": "code",
   "execution_count": 9,
   "metadata": {},
   "outputs": [
    {
     "data": {
      "text/plain": [
       "4"
      ]
     },
     "execution_count": 9,
     "metadata": {},
     "output_type": "execute_result"
    }
   ],
   "source": [
    "len(item)"
   ]
  },
  {
   "cell_type": "code",
   "execution_count": 12,
   "metadata": {},
   "outputs": [],
   "source": [
    "image_ids, ims, bbs, cats = item"
   ]
  },
  {
   "cell_type": "code",
   "execution_count": 13,
   "metadata": {},
   "outputs": [
    {
     "data": {
      "text/plain": [
       "tensor([12, 17, 23, 26])"
      ]
     },
     "execution_count": 13,
     "metadata": {},
     "output_type": "execute_result"
    }
   ],
   "source": [
    "image_ids"
   ]
  },
  {
   "cell_type": "code",
   "execution_count": 14,
   "metadata": {},
   "outputs": [
    {
     "data": {
      "text/plain": [
       "torch.Size([4, 3, 300, 300])"
      ]
     },
     "execution_count": 14,
     "metadata": {},
     "output_type": "execute_result"
    }
   ],
   "source": [
    "ims.shape"
   ]
  },
  {
   "cell_type": "code",
   "execution_count": 15,
   "metadata": {},
   "outputs": [
    {
     "data": {
      "text/plain": [
       "torch.Size([4, 11640, 4])"
      ]
     },
     "execution_count": 15,
     "metadata": {},
     "output_type": "execute_result"
    }
   ],
   "source": [
    "bbs.shape"
   ]
  },
  {
   "cell_type": "code",
   "execution_count": 16,
   "metadata": {},
   "outputs": [
    {
     "data": {
      "text/plain": [
       "torch.Size([4, 11640])"
      ]
     },
     "execution_count": 16,
     "metadata": {},
     "output_type": "execute_result"
    }
   ],
   "source": [
    "cats.shape"
   ]
  },
  {
   "cell_type": "code",
   "execution_count": null,
   "metadata": {},
   "outputs": [],
   "source": []
  },
  {
   "cell_type": "code",
   "execution_count": null,
   "metadata": {},
   "outputs": [],
   "source": []
  },
  {
   "cell_type": "code",
   "execution_count": null,
   "metadata": {},
   "outputs": [],
   "source": []
  },
  {
   "cell_type": "code",
   "execution_count": 3,
   "metadata": {},
   "outputs": [
    {
     "data": {
      "text/plain": [
       "(17, (3, 300, 300))"
      ]
     },
     "execution_count": 3,
     "metadata": {},
     "output_type": "execute_result"
    }
   ],
   "source": [
    "image_id, chw_im, gt_bbs, gt_cats = dataset[1]\n",
    "image_id, chw_im.shape"
   ]
  },
  {
   "cell_type": "code",
   "execution_count": 4,
   "metadata": {},
   "outputs": [
    {
     "data": {
      "text/plain": [
       "(300, 300, 3)"
      ]
     },
     "execution_count": 4,
     "metadata": {},
     "output_type": "execute_result"
    }
   ],
   "source": [
    "im = np.reshape(chw_im, (SIZE, SIZE, 3))\n",
    "im.shape"
   ]
  },
  {
   "cell_type": "code",
   "execution_count": 5,
   "metadata": {},
   "outputs": [
    {
     "data": {
      "text/plain": [
       "{'image_path': '/Users/alelevier/data/JPEGImages/000017.jpg',\n",
       " 'bbs': [[184, 61, 95, 138], [89, 77, 314, 259]],\n",
       " 'cats': [14, 12]}"
      ]
     },
     "execution_count": 5,
     "metadata": {},
     "output_type": "execute_result"
    }
   ],
   "source": [
    "ann = dataset.get_annotations()[image_id]\n",
    "ann"
   ]
  },
  {
   "cell_type": "code",
   "execution_count": 6,
   "metadata": {},
   "outputs": [],
   "source": [
    "# get_stacked_gt_overlap_and_idx"
   ]
  },
  {
   "cell_type": "code",
   "execution_count": 7,
   "metadata": {},
   "outputs": [
    {
     "data": {
      "text/plain": [
       "(2, 16)"
      ]
     },
     "execution_count": 7,
     "metadata": {},
     "output_type": "execute_result"
    }
   ],
   "source": [
    "bbs = ann['bbs']\n",
    "im = open_image(ann['image_path'])\n",
    "grid_size=4\n",
    "aspect_ratio=(1.,1.)\n",
    "overlaps = Bboxer.get_iou(bbs, im, grid_size, aspect_ratio)\n",
    "overlaps.shape"
   ]
  },
  {
   "cell_type": "code",
   "execution_count": 14,
   "metadata": {},
   "outputs": [
    {
     "data": {
      "text/plain": [
       "array([[0.136393258748425, 0.087143436085416, 0.015908302303618,\n",
       "        0.010568630488156, 0.073121993284493],\n",
       "       [0.146321131450167, 0.157991072275379, 0.228103454417236,\n",
       "        0.247705451807879, 0.460923504273504]])"
      ]
     },
     "execution_count": 14,
     "metadata": {},
     "output_type": "execute_result"
    }
   ],
   "source": [
    "stacked_anchor_boxes = Bboxer.get_stacked_anchor_boxes(feature_maps=[2,1], aspect_ratios=lambda grid_size:[(1,1)])\n",
    "stacked_intersect = Bboxer.get_stacked_intersection(bbs, im, stacked_anchor_boxes)\n",
    "bbs_area = Bboxer.get_bbs_area(bbs, im)\n",
    "\n",
    "overlaps = Bboxer.get_stacked_iou(stacked_anchor_boxes, stacked_intersect, bbs_area)\n",
    "overlaps"
   ]
  },
  {
   "cell_type": "code",
   "execution_count": 15,
   "metadata": {},
   "outputs": [
    {
     "data": {
      "text/plain": [
       "tensor([[0.1364, 0.0871, 0.0159, 0.0106, 0.0731],\n",
       "        [0.1463, 0.1580, 0.2281, 0.2477, 0.4609]], dtype=torch.float64)"
      ]
     },
     "execution_count": 15,
     "metadata": {},
     "output_type": "execute_result"
    }
   ],
   "source": [
    "overlaps = torch.tensor(overlaps)\n",
    "overlaps"
   ]
  },
  {
   "cell_type": "code",
   "execution_count": 17,
   "metadata": {},
   "outputs": [
    {
     "data": {
      "text/plain": [
       "(tensor([1.9900, 0.1580, 0.2281, 0.2477, 1.9900], dtype=torch.float64),\n",
       " tensor([0, 1, 1, 1, 1]))"
      ]
     },
     "execution_count": 17,
     "metadata": {},
     "output_type": "execute_result"
    }
   ],
   "source": [
    "_, prior_idx = overlaps.max(1)\n",
    "gt_overlap, gt_idx = overlaps.max(0)\n",
    "gt_overlap[prior_idx] = 1.99\n",
    "# sets the gt_idx equal to the obj_idx for each prior_idx\n",
    "for i,o in enumerate(prior_idx):\n",
    "    gt_idx[o] = i\n",
    "gt_overlap, gt_idx"
   ]
  },
  {
   "cell_type": "code",
   "execution_count": 18,
   "metadata": {},
   "outputs": [
    {
     "data": {
      "text/plain": [
       "(tensor([1.9900, 0.1580, 0.2281, 0.2477, 1.9900], dtype=torch.float64),\n",
       " tensor([0, 1, 1, 1, 1]))"
      ]
     },
     "execution_count": 18,
     "metadata": {},
     "output_type": "execute_result"
    }
   ],
   "source": [
    "def get_stacked_gt_overlap_and_idx(stacked_anchor_boxes, stacked_intersect, bbs_area):\n",
    "    overlaps = torch.tensor(\n",
    "        Bboxer.get_stacked_iou(stacked_anchor_boxes, stacked_intersect, bbs_area))\n",
    "    _, prior_idx = overlaps.max(1)\n",
    "    gt_overlap, gt_idx = overlaps.max(0)\n",
    "    gt_overlap[prior_idx] = 1.99\n",
    "    # sets the gt_idx equal to the obj_idx for each prior_idx\n",
    "    for i,o in enumerate(prior_idx):\n",
    "        gt_idx[o] = i\n",
    "    return gt_overlap, gt_idx\n",
    "    \n",
    "get_stacked_gt_overlap_and_idx(stacked_anchor_boxes, stacked_intersect, bbs_area)"
   ]
  },
  {
   "cell_type": "code",
   "execution_count": 42,
   "metadata": {},
   "outputs": [
    {
     "data": {
      "text/plain": [
       "(tensor([1.9900, 0.1580, 0.2281, 0.2477, 1.9900], dtype=torch.float64),\n",
       " tensor([0, 1, 1, 1, 1]))"
      ]
     },
     "execution_count": 42,
     "metadata": {},
     "output_type": "execute_result"
    }
   ],
   "source": [
    "bbs = ann['bbs']\n",
    "im = open_image(ann['image_path'])\n",
    "\n",
    "stacked_anchor_boxes = Bboxer.get_stacked_anchor_boxes(feature_maps=[2,1], aspect_ratios=lambda grid_size:[(1,1)])\n",
    "stacked_intersect = Bboxer.get_stacked_intersection(bbs, im, stacked_anchor_boxes)\n",
    "bbs_area = Bboxer.get_bbs_area(bbs, im)\n",
    "\n",
    "get_stacked_gt_overlap_and_idx(stacked_anchor_boxes, stacked_intersect, bbs_area)"
   ]
  },
  {
   "cell_type": "code",
   "execution_count": 20,
   "metadata": {},
   "outputs": [
    {
     "data": {
      "text/plain": [
       "(tensor([0.0048, 0.0763, 0.0497, 0.0064, 0.0318, 1.9900, 0.1677, 0.0430, 0.0318,\n",
       "         0.1356, 0.1356, 0.0430, 0.0214, 0.0882, 0.0882, 0.0288],\n",
       "        dtype=torch.float64),\n",
       " tensor([1, 0, 0, 1, 1, 1, 0, 1, 1, 1, 1, 1, 1, 1, 1, 1]))"
      ]
     },
     "execution_count": 20,
     "metadata": {},
     "output_type": "execute_result"
    }
   ],
   "source": [
    "Bboxer.get_gt_overlap_and_idx(bbs, im)"
   ]
  },
  {
   "cell_type": "code",
   "execution_count": 21,
   "metadata": {},
   "outputs": [],
   "source": [
    "# get_stacked_gt_bbs_and_cats"
   ]
  },
  {
   "cell_type": "code",
   "execution_count": 49,
   "metadata": {},
   "outputs": [
    {
     "name": "stdout",
     "output_type": "stream",
     "text": [
      "tensor([1.9900, 0.1580, 0.2281, 0.2477, 1.9900], dtype=torch.float64) tensor([0, 1, 1, 1, 1])\n"
     ]
    },
    {
     "data": {
      "text/plain": [
       "(array([[ 50.27472527472527, 115.00000000000001, 163.010989010989  ,\n",
       "         173.37500000000003],\n",
       "        [ 63.46153846153846,  55.625           , 275.92307692307696,\n",
       "         250.87500000000003],\n",
       "        [ 63.46153846153846,  55.625           , 275.92307692307696,\n",
       "         250.87500000000003],\n",
       "        [ 63.46153846153846,  55.625           , 275.92307692307696,\n",
       "         250.87500000000003],\n",
       "        [ 63.46153846153846,  55.625           , 275.92307692307696,\n",
       "         250.87500000000003]]), array([14, 20, 20, 20, 12]))"
      ]
     },
     "execution_count": 49,
     "metadata": {},
     "output_type": "execute_result"
    }
   ],
   "source": [
    "bbs = ann['bbs']\n",
    "im = open_image(ann['image_path'])\n",
    "\n",
    "stacked_anchor_boxes = Bboxer.get_stacked_anchor_boxes(feature_maps=[2,1], aspect_ratios=lambda grid_size:[(1,1)])\n",
    "stacked_intersect = Bboxer.get_stacked_intersection(bbs, im, stacked_anchor_boxes)\n",
    "bbs_area = Bboxer.get_bbs_area(bbs, im)\n",
    "\n",
    "gt_overlap, gt_idx = get_stacked_gt_overlap_and_idx(stacked_anchor_boxes, stacked_intersect, bbs_area)\n",
    "print(gt_overlap, gt_idx)\n",
    "\n",
    "bbs = ann['bbs']\n",
    "bbs = np.multiply(Bboxer.scaled_fastai_bbs(bbs, im), SIZE)\n",
    "cats = ann['cats']\n",
    "cats = np.array(cats)\n",
    "gt_bbs = bbs[gt_idx]\n",
    "gt_cats = cats[gt_idx]\n",
    "# the previous line will set the 0 ith class as the gt, so\n",
    "# set it to bg if it doesn't meet the IoU threshold\n",
    "pos = gt_overlap > THRESH\n",
    "try:\n",
    "    neg_idx = np.nonzero(1-pos)[:,0]\n",
    "except IndexError:\n",
    "    # skip if no negative indexes\n",
    "    pass\n",
    "else:\n",
    "    gt_cats[neg_idx] = 20\n",
    "\n",
    "# gt_bbs = np.reshape(gt_bbs, (-1))\n",
    "\n",
    "gt_bbs, gt_cats"
   ]
  },
  {
   "cell_type": "code",
   "execution_count": 50,
   "metadata": {},
   "outputs": [
    {
     "data": {
      "text/plain": [
       "(5, 4)"
      ]
     },
     "execution_count": 50,
     "metadata": {},
     "output_type": "execute_result"
    }
   ],
   "source": [
    "gt_bbs.shape"
   ]
  },
  {
   "cell_type": "code",
   "execution_count": 46,
   "metadata": {},
   "outputs": [
    {
     "data": {
      "text/plain": [
       "('person', 'horse')"
      ]
     },
     "execution_count": 46,
     "metadata": {},
     "output_type": "execute_result"
    }
   ],
   "source": [
    "dataset.categories()[14], dataset.categories()[12]"
   ]
  },
  {
   "cell_type": "code",
   "execution_count": null,
   "metadata": {},
   "outputs": [],
   "source": []
  },
  {
   "cell_type": "code",
   "execution_count": 13,
   "metadata": {},
   "outputs": [
    {
     "data": {
      "text/plain": [
       "array([[0. , 0. , 0.5, 0.5],\n",
       "       [0. , 0.5, 0.5, 1. ],\n",
       "       [0.5, 0. , 1. , 0.5],\n",
       "       [0.5, 0.5, 1. , 1. ],\n",
       "       [0. , 0. , 1. , 1. ]])"
      ]
     },
     "execution_count": 13,
     "metadata": {},
     "output_type": "execute_result"
    }
   ],
   "source": [
    "stacked_anchor_boxes = Bboxer.get_stacked_anchor_boxes(feature_maps=[2,1], aspect_ratios=lambda grid_size:[(1,1)])\n",
    "stacked_anchor_boxes"
   ]
  },
  {
   "cell_type": "code",
   "execution_count": 46,
   "metadata": {},
   "outputs": [
    {
     "data": {
      "text/plain": [
       "array([0.25, 0.25, 0.25, 0.25, 1.  ])"
      ]
     },
     "execution_count": 46,
     "metadata": {},
     "output_type": "execute_result"
    }
   ],
   "source": [
    "anc_bbs_area = Bboxer.get_anchor_box_area(stacked_anchor_boxes)\n",
    "# anc_bbs_area = np.expand_dims(anc_bbs_area, 1)\n",
    "anc_bbs_area"
   ]
  },
  {
   "cell_type": "code",
   "execution_count": 18,
   "metadata": {},
   "outputs": [
    {
     "data": {
      "text/plain": [
       "array([0.073121993284493, 0.460923504273504])"
      ]
     },
     "execution_count": 18,
     "metadata": {},
     "output_type": "execute_result"
    }
   ],
   "source": [
    "bbs_area = Bboxer.get_bbs_area(bbs, im)\n",
    "bbs_area"
   ]
  },
  {
   "cell_type": "code",
   "execution_count": 19,
   "metadata": {},
   "outputs": [
    {
     "data": {
      "text/plain": [
       "array([[0.038782051282051, 0.090745192307692],\n",
       "       [0.02590086996337 , 0.096995192307692],\n",
       "       [0.005059829059829, 0.132044337606838],\n",
       "       [0.003379242979243, 0.141138782051282],\n",
       "       [0.073121993284493, 0.460923504273504]])"
      ]
     },
     "execution_count": 19,
     "metadata": {},
     "output_type": "execute_result"
    }
   ],
   "source": [
    "stacked_intersect = Bboxer.get_stacked_intersection(bbs, im, stacked_anchor_boxes)\n",
    "stacked_intersect"
   ]
  },
  {
   "cell_type": "code",
   "execution_count": 20,
   "metadata": {},
   "outputs": [
    {
     "data": {
      "text/plain": [
       "array([[0.038782051282051, 0.02590086996337 , 0.005059829059829,\n",
       "        0.003379242979243, 0.073121993284493],\n",
       "       [0.090745192307692, 0.096995192307692, 0.132044337606838,\n",
       "        0.141138782051282, 0.460923504273504]])"
      ]
     },
     "execution_count": 20,
     "metadata": {},
     "output_type": "execute_result"
    }
   ],
   "source": [
    "stacked_intersect2 = np.array([[0.038782051282051, 0.02590086996337 , 0.005059829059829,\n",
    "            0.003379242979243, 0.073121993284493],\n",
    "            [0.090745192307692, 0.096995192307692, 0.132044337606838,\n",
    "            0.141138782051282, 0.460923504273504]])\n",
    "\n",
    "stacked_intersect2"
   ]
  },
  {
   "cell_type": "code",
   "execution_count": 23,
   "metadata": {},
   "outputs": [
    {
     "data": {
      "text/plain": [
       "array([[0.284339942002442, 0.620178311965812],\n",
       "       [0.297221123321123, 0.613928311965812],\n",
       "       [0.318062164224664, 0.578879166666667],\n",
       "       [0.31974275030525 , 0.569784722222222],\n",
       "       [1.               , 1.               ]])"
      ]
     },
     "execution_count": 23,
     "metadata": {},
     "output_type": "execute_result"
    }
   ],
   "source": [
    "anc_bbs_area + bbs_area - stacked_intersect"
   ]
  },
  {
   "cell_type": "code",
   "execution_count": 41,
   "metadata": {},
   "outputs": [
    {
     "data": {
      "text/plain": [
       "array([[0.073121993284493, 0.073121993284493, 0.073121993284493,\n",
       "        0.073121993284493, 0.073121993284493],\n",
       "       [0.460923504273504, 0.460923504273504, 0.460923504273504,\n",
       "        0.460923504273504, 0.460923504273504]])"
      ]
     },
     "execution_count": 41,
     "metadata": {},
     "output_type": "execute_result"
    }
   ],
   "source": [
    "np.repeat(bbs_area, 5).reshape(2, -1)"
   ]
  },
  {
   "cell_type": "code",
   "execution_count": 56,
   "metadata": {},
   "outputs": [
    {
     "data": {
      "text/plain": [
       "(array([[0.038782051282051, 0.02590086996337 , 0.005059829059829,\n",
       "         0.003379242979243, 0.073121993284493],\n",
       "        [0.090745192307692, 0.096995192307692, 0.132044337606838,\n",
       "         0.141138782051282, 0.460923504273504]]), (2, 5))"
      ]
     },
     "execution_count": 56,
     "metadata": {},
     "output_type": "execute_result"
    }
   ],
   "source": [
    "stacked_intersect2, stacked_intersect2.shape"
   ]
  },
  {
   "cell_type": "code",
   "execution_count": 57,
   "metadata": {},
   "outputs": [
    {
     "data": {
      "text/plain": [
       "array([[0.284339942002442, 0.297221123321123, 0.318062164224664,\n",
       "        0.31974275030525 , 1.               ],\n",
       "       [0.620178311965812, 0.613928311965812, 0.578879166666666,\n",
       "        0.569784722222222, 1.               ]])"
      ]
     },
     "execution_count": 57,
     "metadata": {},
     "output_type": "execute_result"
    }
   ],
   "source": [
    "union = anc_bbs_area + np.repeat(bbs_area, 5).reshape(2, -1) - stacked_intersect2\n",
    "union"
   ]
  },
  {
   "cell_type": "code",
   "execution_count": 50,
   "metadata": {},
   "outputs": [
    {
     "data": {
      "text/plain": [
       "array([[0.284339942002442, 0.620178311965812],\n",
       "       [0.297221123321123, 0.613928311965812],\n",
       "       [0.318062164224664, 0.578879166666666],\n",
       "       [0.31974275030525 , 0.569784722222222],\n",
       "       [1.               , 1.               ]])"
      ]
     },
     "execution_count": 50,
     "metadata": {},
     "output_type": "execute_result"
    }
   ],
   "source": [
    "(anc_bbs_area + np.repeat(bbs_area, 5).reshape(2, -1) - stacked_intersect2).T"
   ]
  },
  {
   "cell_type": "code",
   "execution_count": 52,
   "metadata": {},
   "outputs": [
    {
     "data": {
      "text/plain": [
       "array([[0.284339942002442, 0.620178311965812],\n",
       "       [0.297221123321123, 0.613928311965812],\n",
       "       [0.318062164224664, 0.578879166666667],\n",
       "       [0.31974275030525 , 0.569784722222222],\n",
       "       [1.               , 1.               ]])"
      ]
     },
     "execution_count": 52,
     "metadata": {},
     "output_type": "execute_result"
    }
   ],
   "source": [
    "Bboxer.get_stacked_union(stacked_anchor_boxes, stacked_intersect, bbs_area)"
   ]
  },
  {
   "cell_type": "code",
   "execution_count": 55,
   "metadata": {},
   "outputs": [
    {
     "data": {
      "text/plain": [
       "array([0.25, 0.25, 0.25, 0.25, 1.  ])"
      ]
     },
     "execution_count": 55,
     "metadata": {},
     "output_type": "execute_result"
    }
   ],
   "source": [
    "anc_bbs_area"
   ]
  },
  {
   "cell_type": "code",
   "execution_count": 58,
   "metadata": {},
   "outputs": [],
   "source": [
    "# iou check"
   ]
  },
  {
   "cell_type": "code",
   "execution_count": 59,
   "metadata": {},
   "outputs": [
    {
     "data": {
      "text/plain": [
       "array([[0.136393258748425, 0.146321131450167],\n",
       "       [0.087143436085416, 0.157991072275379],\n",
       "       [0.015908302303618, 0.228103454417236],\n",
       "       [0.010568630488156, 0.247705451807879],\n",
       "       [0.073121993284493, 0.460923504273504]])"
      ]
     },
     "execution_count": 59,
     "metadata": {},
     "output_type": "execute_result"
    }
   ],
   "source": [
    "Bboxer.get_stacked_iou(stacked_anchor_boxes, stacked_intersect, bbs_area)"
   ]
  },
  {
   "cell_type": "code",
   "execution_count": 60,
   "metadata": {},
   "outputs": [
    {
     "data": {
      "text/plain": [
       "array([[0.136393258748424, 0.087143436085416, 0.015908302303618,\n",
       "        0.010568630488156, 0.073121993284493],\n",
       "       [0.146321131450167, 0.157991072275379, 0.228103454417237,\n",
       "        0.247705451807878, 0.460923504273504]])"
      ]
     },
     "execution_count": 60,
     "metadata": {},
     "output_type": "execute_result"
    }
   ],
   "source": [
    "stacked_intersect2 / union"
   ]
  },
  {
   "cell_type": "code",
   "execution_count": 61,
   "metadata": {},
   "outputs": [
    {
     "data": {
      "text/plain": [
       "array([[0.136393258748424, 0.146321131450167],\n",
       "       [0.087143436085416, 0.157991072275379],\n",
       "       [0.015908302303618, 0.228103454417237],\n",
       "       [0.010568630488156, 0.247705451807878],\n",
       "       [0.073121993284493, 0.460923504273504]])"
      ]
     },
     "execution_count": 61,
     "metadata": {},
     "output_type": "execute_result"
    }
   ],
   "source": [
    "(stacked_intersect2 / union).T"
   ]
  },
  {
   "cell_type": "code",
   "execution_count": null,
   "metadata": {},
   "outputs": [],
   "source": []
  },
  {
   "cell_type": "code",
   "execution_count": 40,
   "metadata": {},
   "outputs": [
    {
     "data": {
      "text/plain": [
       "array([[0.073121993284493, 0.460923504273504, 0.073121993284493,\n",
       "        0.460923504273504, 0.073121993284493],\n",
       "       [0.460923504273504, 0.073121993284493, 0.460923504273504,\n",
       "        0.073121993284493, 0.460923504273504]])"
      ]
     },
     "execution_count": 40,
     "metadata": {},
     "output_type": "execute_result"
    }
   ],
   "source": [
    "np.tile(bbs_area, stacked_intersect2.shape[1]).T.reshape(stacked_intersect2.shape[0], -1) "
   ]
  },
  {
   "cell_type": "code",
   "execution_count": 38,
   "metadata": {},
   "outputs": [
    {
     "data": {
      "text/plain": [
       "array([[0.038782051282051, 0.02590086996337 , 0.005059829059829,\n",
       "        0.003379242979243, 0.073121993284493],\n",
       "       [0.090745192307692, 0.096995192307692, 0.132044337606838,\n",
       "        0.141138782051282, 0.460923504273504]])"
      ]
     },
     "execution_count": 38,
     "metadata": {},
     "output_type": "execute_result"
    }
   ],
   "source": [
    "stacked_intersect2"
   ]
  },
  {
   "cell_type": "code",
   "execution_count": 39,
   "metadata": {},
   "outputs": [
    {
     "data": {
      "text/plain": [
       "array([[0.038782051282051, 0.02590086996337 , 0.005059829059829,\n",
       "        0.003379242979243, 0.073121993284493],\n",
       "       [0.090745192307692, 0.096995192307692, 0.132044337606838,\n",
       "        0.141138782051282, 0.460923504273504]])"
      ]
     },
     "execution_count": 39,
     "metadata": {},
     "output_type": "execute_result"
    }
   ],
   "source": [
    "stacked_intersect2"
   ]
  },
  {
   "cell_type": "code",
   "execution_count": null,
   "metadata": {},
   "outputs": [],
   "source": []
  },
  {
   "cell_type": "code",
   "execution_count": 11,
   "metadata": {},
   "outputs": [
    {
     "data": {
      "text/plain": [
       "array([[0.038782051282051, 0.02590086996337 , 0.005059829059829,\n",
       "        0.003379242979243, 0.073121993284493],\n",
       "       [0.090745192307692, 0.096995192307692, 0.132044337606838,\n",
       "        0.141138782051282, 0.460923504273504]])"
      ]
     },
     "execution_count": 11,
     "metadata": {},
     "output_type": "execute_result"
    }
   ],
   "source": [
    "np.array([[0.038782051282051, 0.090745192307692],\n",
    "            [0.02590086996337 , 0.096995192307692],\n",
    "            [0.005059829059829, 0.132044337606838],\n",
    "            [0.003379242979243, 0.141138782051282],\n",
    "            [0.073121993284493, 0.460923504273504]]).T"
   ]
  },
  {
   "cell_type": "code",
   "execution_count": null,
   "metadata": {},
   "outputs": [],
   "source": []
  },
  {
   "cell_type": "code",
   "execution_count": 6,
   "metadata": {},
   "outputs": [],
   "source": [
    "# get_anchor_box_area"
   ]
  },
  {
   "cell_type": "code",
   "execution_count": 9,
   "metadata": {},
   "outputs": [
    {
     "data": {
      "text/plain": [
       "array([[0. , 0. , 0.5, 0.5],\n",
       "       [0. , 0.5, 0.5, 1. ],\n",
       "       [0.5, 0. , 1. , 0.5],\n",
       "       [0.5, 0.5, 1. , 1. ],\n",
       "       [0. , 0. , 1. , 1. ]])"
      ]
     },
     "execution_count": 9,
     "metadata": {},
     "output_type": "execute_result"
    }
   ],
   "source": [
    "sab = Bboxer.get_stacked_anchor_boxes(feature_maps=[2,1], aspect_ratios=lambda grid_size:[(1,1)])\n",
    "sab"
   ]
  },
  {
   "cell_type": "code",
   "execution_count": 14,
   "metadata": {},
   "outputs": [
    {
     "data": {
      "text/plain": [
       "array([0.25, 0.25, 0.25, 0.25, 1.  ])"
      ]
     },
     "execution_count": 14,
     "metadata": {},
     "output_type": "execute_result"
    }
   ],
   "source": [
    "(sab[:,2]-sab[:,0])*(sab[:,3]-sab[:,1])"
   ]
  },
  {
   "cell_type": "code",
   "execution_count": 37,
   "metadata": {},
   "outputs": [
    {
     "data": {
      "text/plain": [
       "array([0.25, 0.25, 0.25, 0.25, 1.  ])"
      ]
     },
     "execution_count": 37,
     "metadata": {},
     "output_type": "execute_result"
    }
   ],
   "source": [
    "def get_anchor_box_area(sab):\n",
    "    return (sab[:,2]-sab[:,0])*(sab[:,3]-sab[:,1])\n",
    "\n",
    "get_anchor_box_area(sab)"
   ]
  },
  {
   "cell_type": "code",
   "execution_count": 39,
   "metadata": {},
   "outputs": [
    {
     "data": {
      "text/plain": [
       "(array([[0.   , 0.   , 0.375, 0.25 ],\n",
       "        [0.   , 0.25 , 0.375, 0.5  ],\n",
       "        [0.   , 0.5  , 0.375, 0.75 ],\n",
       "        [0.   , 0.75 , 0.375, 1.   ],\n",
       "        [0.125, 0.   , 0.625, 0.25 ],\n",
       "        [0.125, 0.25 , 0.625, 0.5  ],\n",
       "        [0.125, 0.5  , 0.625, 0.75 ],\n",
       "        [0.125, 0.75 , 0.625, 1.   ],\n",
       "        [0.375, 0.   , 0.875, 0.25 ],\n",
       "        [0.375, 0.25 , 0.875, 0.5  ],\n",
       "        [0.375, 0.5  , 0.875, 0.75 ],\n",
       "        [0.375, 0.75 , 0.875, 1.   ],\n",
       "        [0.625, 0.   , 1.   , 0.25 ],\n",
       "        [0.625, 0.25 , 1.   , 0.5  ],\n",
       "        [0.625, 0.5  , 1.   , 0.75 ],\n",
       "        [0.625, 0.75 , 1.   , 1.   ]]),\n",
       " array([0.09375, 0.09375, 0.09375, 0.09375, 0.125  , 0.125  , 0.125  ,\n",
       "        0.125  , 0.125  , 0.125  , 0.125  , 0.125  , 0.09375, 0.09375,\n",
       "        0.09375, 0.09375]))"
      ]
     },
     "execution_count": 39,
     "metadata": {},
     "output_type": "execute_result"
    }
   ],
   "source": [
    "sab2 = Bboxer.get_stacked_anchor_boxes(feature_maps=[4], aspect_ratios=lambda grid_size:[(2,1)])\n",
    "sab2, get_anchor_box_area(sab2)"
   ]
  },
  {
   "cell_type": "code",
   "execution_count": 40,
   "metadata": {},
   "outputs": [],
   "source": [
    "# use the new get_anchor_box_area to find union"
   ]
  },
  {
   "cell_type": "code",
   "execution_count": 45,
   "metadata": {},
   "outputs": [
    {
     "data": {
      "text/plain": [
       "(array([[0.038782051282051, 0.090745192307692],\n",
       "        [0.02590086996337 , 0.096995192307692],\n",
       "        [0.005059829059829, 0.132044337606838],\n",
       "        [0.003379242979243, 0.141138782051282],\n",
       "        [0.073121993284493, 0.460923504273504]]), (2, 5))"
      ]
     },
     "execution_count": 45,
     "metadata": {},
     "output_type": "execute_result"
    }
   ],
   "source": [
    "bbs = ann['bbs']\n",
    "im = open_image(ann['image_path'])\n",
    "stacked_anchor_boxes = Bboxer.get_stacked_anchor_boxes(feature_maps=[2,1], aspect_ratios=lambda grid_size:[(1,1)])\n",
    "\n",
    "stacked_intersect = Bboxer.get_stacked_intersection(bbs, im, stacked_anchor_boxes)\n",
    "\n",
    "stacked_intersect.T.reshape(-1,2), stacked_intersect.shape"
   ]
  },
  {
   "cell_type": "code",
   "execution_count": 47,
   "metadata": {},
   "outputs": [
    {
     "data": {
      "text/plain": [
       "(array([[0. , 0. , 0.5, 0.5],\n",
       "        [0. , 0.5, 0.5, 1. ],\n",
       "        [0.5, 0. , 1. , 0.5],\n",
       "        [0.5, 0.5, 1. , 1. ],\n",
       "        [0. , 0. , 1. , 1. ]]), array([0.25, 0.25, 0.25, 0.25, 1.  ]))"
      ]
     },
     "execution_count": 47,
     "metadata": {},
     "output_type": "execute_result"
    }
   ],
   "source": [
    "sab, get_anchor_box_area(sab)"
   ]
  },
  {
   "cell_type": "code",
   "execution_count": 54,
   "metadata": {},
   "outputs": [
    {
     "data": {
      "text/plain": [
       "array([0.25, 0.25, 0.25, 0.25, 1.  ])"
      ]
     },
     "execution_count": 54,
     "metadata": {},
     "output_type": "execute_result"
    }
   ],
   "source": [
    "get_anchor_box_area(sab)"
   ]
  },
  {
   "cell_type": "code",
   "execution_count": 57,
   "metadata": {},
   "outputs": [
    {
     "data": {
      "text/plain": [
       "(array([0.073121993284493, 0.460923504273504]), (2,))"
      ]
     },
     "execution_count": 57,
     "metadata": {},
     "output_type": "execute_result"
    }
   ],
   "source": [
    "bbs_area = Bboxer.get_bbs_area(bbs, im)\n",
    "bbs_area, bbs_area.shape"
   ]
  },
  {
   "cell_type": "code",
   "execution_count": 60,
   "metadata": {},
   "outputs": [
    {
     "data": {
      "text/plain": [
       "array([[0.323121993284493, 0.710923504273504],\n",
       "       [0.323121993284493, 0.710923504273504],\n",
       "       [0.323121993284493, 0.710923504273504],\n",
       "       [0.323121993284493, 0.710923504273504],\n",
       "       [1.073121993284493, 1.460923504273504]])"
      ]
     },
     "execution_count": 60,
     "metadata": {},
     "output_type": "execute_result"
    }
   ],
   "source": [
    "np.expand_dims(get_anchor_box_area(sab), axis=1) + bbs_area"
   ]
  },
  {
   "cell_type": "code",
   "execution_count": 61,
   "metadata": {},
   "outputs": [
    {
     "data": {
      "text/plain": [
       "array([[0.284339942002442, 0.620178311965812],\n",
       "       [0.297221123321123, 0.613928311965812],\n",
       "       [0.318062164224664, 0.578879166666667],\n",
       "       [0.31974275030525 , 0.569784722222222],\n",
       "       [1.               , 1.               ]])"
      ]
     },
     "execution_count": 61,
     "metadata": {},
     "output_type": "execute_result"
    }
   ],
   "source": [
    "np.expand_dims(get_anchor_box_area(sab), axis=1) + bbs_area - stacked_intersect.T.reshape(-1,2)"
   ]
  },
  {
   "cell_type": "code",
   "execution_count": 68,
   "metadata": {},
   "outputs": [
    {
     "data": {
      "text/plain": [
       "array([[0.284339942002442, 0.620178311965812],\n",
       "       [0.297221123321123, 0.613928311965812],\n",
       "       [0.318062164224664, 0.578879166666667],\n",
       "       [0.31974275030525 , 0.569784722222222],\n",
       "       [1.               , 1.               ]])"
      ]
     },
     "execution_count": 68,
     "metadata": {},
     "output_type": "execute_result"
    }
   ],
   "source": [
    "def get_stacked_union(stacked_anchor_boxes, stacked_intersect, bbs_area):\n",
    "    anc_bbs_area = np.expand_dims(get_anchor_box_area(stacked_anchor_boxes), axis=1) \n",
    "    intersect_area = stacked_intersect.T.reshape(-1,2)\n",
    "    return anc_bbs_area + bbs_area - intersect_area\n",
    "    \n",
    "get_stacked_union(sab, stacked_intersect, bbs_area)"
   ]
  },
  {
   "cell_type": "code",
   "execution_count": 69,
   "metadata": {},
   "outputs": [],
   "source": [
    "# get_stacked_iou"
   ]
  },
  {
   "cell_type": "code",
   "execution_count": 67,
   "metadata": {},
   "outputs": [
    {
     "data": {
      "text/plain": [
       "array([[0.038782051282051, 0.090745192307692],\n",
       "       [0.02590086996337 , 0.096995192307692],\n",
       "       [0.005059829059829, 0.132044337606838],\n",
       "       [0.003379242979243, 0.141138782051282],\n",
       "       [0.073121993284493, 0.460923504273504]])"
      ]
     },
     "execution_count": 67,
     "metadata": {},
     "output_type": "execute_result"
    }
   ],
   "source": [
    "stacked_intersect.T.reshape(-1,2)"
   ]
  },
  {
   "cell_type": "code",
   "execution_count": 66,
   "metadata": {},
   "outputs": [
    {
     "data": {
      "text/plain": [
       "array([[0.136393258748425, 0.146321131450167],\n",
       "       [0.087143436085416, 0.157991072275379],\n",
       "       [0.015908302303618, 0.228103454417236],\n",
       "       [0.010568630488156, 0.247705451807879],\n",
       "       [0.073121993284493, 0.460923504273504]])"
      ]
     },
     "execution_count": 66,
     "metadata": {},
     "output_type": "execute_result"
    }
   ],
   "source": [
    "stacked_intersect.T.reshape(-1,2) / get_stacked_union(sab, stacked_intersect, bbs_area)"
   ]
  },
  {
   "cell_type": "code",
   "execution_count": 71,
   "metadata": {},
   "outputs": [
    {
     "data": {
      "text/plain": [
       "array([[0.136393258748425, 0.146321131450167],\n",
       "       [0.087143436085416, 0.157991072275379],\n",
       "       [0.015908302303618, 0.228103454417236],\n",
       "       [0.010568630488156, 0.247705451807879],\n",
       "       [0.073121993284493, 0.460923504273504]])"
      ]
     },
     "execution_count": 71,
     "metadata": {},
     "output_type": "execute_result"
    }
   ],
   "source": [
    "def get_stacked_iou(sab, stacked_intersect, bbs_area):\n",
    "    intersect = stacked_intersect.T.reshape(-1,2)\n",
    "    union = get_stacked_union(sab, stacked_intersect, bbs_area)\n",
    "    return intersect / union\n",
    "    \n",
    "get_stacked_iou(sab, stacked_intersect, bbs_area)"
   ]
  },
  {
   "cell_type": "markdown",
   "metadata": {},
   "source": [
    "`get_stacked_intersection` should return shape of (anc_bbs_count, bbs_count)\n",
    "\n",
    "Added to Bboxer:\n",
    "\n",
    "- `get_anchor_box_area`\n",
    "- `get_stacked_union`\n",
    "- `get_stacked_iou`"
   ]
  },
  {
   "cell_type": "markdown",
   "metadata": {},
   "source": [
    "### next - test above funcs more"
   ]
  },
  {
   "cell_type": "code",
   "execution_count": null,
   "metadata": {},
   "outputs": [],
   "source": []
  },
  {
   "cell_type": "code",
   "execution_count": 6,
   "metadata": {},
   "outputs": [],
   "source": [
    "# understand how gt_overlaps and gt_idx are being set\n",
    "# so it can be used with the \"stacked\" functions"
   ]
  },
  {
   "cell_type": "code",
   "execution_count": 19,
   "metadata": {},
   "outputs": [
    {
     "data": {
      "text/plain": [
       "(tensor([1.9900, 0.1580, 0.2281, 1.9900], dtype=torch.float64),\n",
       " tensor([0, 1, 1, 1]))"
      ]
     },
     "execution_count": 19,
     "metadata": {},
     "output_type": "execute_result"
    }
   ],
   "source": [
    "bbs = ann['bbs']\n",
    "im = open_image(ann['image_path'])\n",
    "grid_size = 2\n",
    "aspect_ratio = (1,1)\n",
    "\n",
    "Bboxer.get_gt_overlap_and_idx(bbs, im, grid_size, aspect_ratio)"
   ]
  },
  {
   "cell_type": "code",
   "execution_count": 20,
   "metadata": {},
   "outputs": [
    {
     "data": {
      "text/plain": [
       "tensor([[0.1364, 0.0871, 0.0159, 0.0106],\n",
       "        [0.1463, 0.1580, 0.2281, 0.2477]], dtype=torch.float64)"
      ]
     },
     "execution_count": 20,
     "metadata": {},
     "output_type": "execute_result"
    }
   ],
   "source": [
    "overlaps = torch.tensor(Bboxer.get_iou(bbs, im, grid_size, aspect_ratio))\n",
    "overlaps"
   ]
  },
  {
   "cell_type": "code",
   "execution_count": 21,
   "metadata": {},
   "outputs": [
    {
     "data": {
      "text/plain": [
       "torch.Size([2, 4])"
      ]
     },
     "execution_count": 21,
     "metadata": {},
     "output_type": "execute_result"
    }
   ],
   "source": [
    "overlaps.shape"
   ]
  },
  {
   "cell_type": "code",
   "execution_count": 24,
   "metadata": {},
   "outputs": [
    {
     "data": {
      "text/plain": [
       "(tensor([0.1364, 0.2477], dtype=torch.float64), tensor([0, 3]))"
      ]
     },
     "execution_count": 24,
     "metadata": {},
     "output_type": "execute_result"
    }
   ],
   "source": [
    "prior_overlap, prior_idx = overlaps.max(1)\n",
    "prior_overlap, prior_idx"
   ]
  },
  {
   "cell_type": "code",
   "execution_count": 25,
   "metadata": {},
   "outputs": [
    {
     "data": {
      "text/plain": [
       "(tensor([0.1463, 0.1580, 0.2281, 0.2477], dtype=torch.float64),\n",
       " tensor([1, 1, 1, 1]))"
      ]
     },
     "execution_count": 25,
     "metadata": {},
     "output_type": "execute_result"
    }
   ],
   "source": [
    "gt_overlap, gt_idx = overlaps.max(0)\n",
    "gt_overlap, gt_idx"
   ]
  },
  {
   "cell_type": "code",
   "execution_count": 33,
   "metadata": {},
   "outputs": [
    {
     "data": {
      "text/plain": [
       "tensor([1.9900, 0.1580, 0.2281, 1.9900], dtype=torch.float64)"
      ]
     },
     "execution_count": 33,
     "metadata": {},
     "output_type": "execute_result"
    }
   ],
   "source": [
    "gt_overlap[prior_idx] = 1.99\n",
    "gt_overlap"
   ]
  },
  {
   "cell_type": "code",
   "execution_count": 34,
   "metadata": {},
   "outputs": [
    {
     "data": {
      "text/plain": [
       "tensor([1, 1, 1, 1])"
      ]
     },
     "execution_count": 34,
     "metadata": {},
     "output_type": "execute_result"
    }
   ],
   "source": [
    "gt_idx"
   ]
  },
  {
   "cell_type": "code",
   "execution_count": 42,
   "metadata": {},
   "outputs": [
    {
     "name": "stdout",
     "output_type": "stream",
     "text": [
      "0 0\n",
      "1 3\n"
     ]
    },
    {
     "data": {
      "text/plain": [
       "tensor([0, 1, 1, 1])"
      ]
     },
     "execution_count": 42,
     "metadata": {},
     "output_type": "execute_result"
    }
   ],
   "source": [
    "for i,o in enumerate(prior_idx):\n",
    "    print(i, o.item())\n",
    "    gt_idx[o] = i\n",
    "    \n",
    "gt_idx"
   ]
  },
  {
   "cell_type": "code",
   "execution_count": 43,
   "metadata": {},
   "outputs": [],
   "source": [
    "# get_stacked_iou"
   ]
  },
  {
   "cell_type": "code",
   "execution_count": 53,
   "metadata": {},
   "outputs": [
    {
     "data": {
      "text/plain": [
       "array([0.073121993284493, 0.460923504273504])"
      ]
     },
     "execution_count": 53,
     "metadata": {},
     "output_type": "execute_result"
    }
   ],
   "source": [
    "bbs_area = Bboxer.get_bbs_area(bbs, im)\n",
    "bbs_area"
   ]
  },
  {
   "cell_type": "code",
   "execution_count": 51,
   "metadata": {},
   "outputs": [
    {
     "data": {
      "text/plain": [
       "(2, 0.25)"
      ]
     },
     "execution_count": 51,
     "metadata": {},
     "output_type": "execute_result"
    }
   ],
   "source": [
    "grid_size, Bboxer.get_ancb_area(grid_size)"
   ]
  },
  {
   "cell_type": "code",
   "execution_count": 92,
   "metadata": {},
   "outputs": [
    {
     "data": {
      "text/plain": [
       "array([[0. , 0. , 0.5, 0.5],\n",
       "       [0. , 0.5, 0.5, 1. ],\n",
       "       [0.5, 0. , 1. , 0.5],\n",
       "       [0.5, 0.5, 1. , 1. ],\n",
       "       [0. , 0. , 1. , 1. ]])"
      ]
     },
     "execution_count": 92,
     "metadata": {},
     "output_type": "execute_result"
    }
   ],
   "source": [
    "anchor_bbs = Bboxer.stacked_anchor_boxes(feature_maps=[2,1], aspect_ratios=lambda grid_size:[(1,1)])\n",
    "anchor_bbs"
   ]
  },
  {
   "cell_type": "code",
   "execution_count": 84,
   "metadata": {},
   "outputs": [
    {
     "data": {
      "text/plain": [
       "[[184, 61, 95, 138], [89, 77, 314, 259]]"
      ]
     },
     "execution_count": 84,
     "metadata": {},
     "output_type": "execute_result"
    }
   ],
   "source": [
    "bbs"
   ]
  },
  {
   "cell_type": "code",
   "execution_count": 86,
   "metadata": {},
   "outputs": [
    {
     "data": {
      "text/plain": [
       "16"
      ]
     },
     "execution_count": 86,
     "metadata": {},
     "output_type": "execute_result"
    }
   ],
   "source": [
    "np.square(4)"
   ]
  },
  {
   "cell_type": "code",
   "execution_count": 87,
   "metadata": {},
   "outputs": [
    {
     "data": {
      "text/plain": [
       "(2, 4)"
      ]
     },
     "execution_count": 87,
     "metadata": {},
     "output_type": "execute_result"
    }
   ],
   "source": [
    "np.array(bbs).shape"
   ]
  },
  {
   "cell_type": "code",
   "execution_count": null,
   "metadata": {},
   "outputs": [],
   "source": [
    "def get_stacked_anchor_boxes_area(bbs_area, feature_maps, aspect_ratios):\n",
    "    aspect_ratios = aspect_ratios or cls.aspect_ratios\n",
    "    boxes = None\n",
    "    for i in range(len(feature_maps)):\n",
    "        grid_size = feature_maps[i]\n",
    "        for aspect_ratio in aspect_ratios(grid_size):\n",
    "            arr = np.repeat(\n",
    "                Bboxer.get_ancb_area(grid_size)*aspect_ratios[0]*aspect_ratios[1],\n",
    "                np.square(grid_size)*bbs.shape[0]\n",
    "            ).reshape(-1, bbs.shape[0]) + bbs_area\n",
    "            if not isinstance(boxes, np.ndarray):\n",
    "                boxes = arr\n",
    "            else:\n",
    "                boxes = np.concatenate((boxes, arr))\n",
    "                \n",
    "    stacked_anchor_boxes = Bboxer.stacked_anchor_boxes(feature_maps, aspect_ratios)\n",
    "    stacked_intersect = Bboxer.get_stacked_intersection(bbs, im, stacked_anchor_boxes)\n",
    "    intersect = stacked_intersect.T.reshape(boxes.shape[0], -1)\n",
    "    \n",
    "    pdb.set_trace()\n",
    "\n",
    "    return boxes - intersect\n",
    "    \n",
    "\n",
    "bbs_area = Bboxer.get_bbs_area(bbs, im)\n",
    "get_stacked_anchor_boxes_area(bbs_area, feature_maps=[2,1], aspect_ratios=lambda grid_size:[(1,1), (1,2)])"
   ]
  },
  {
   "cell_type": "code",
   "execution_count": 177,
   "metadata": {},
   "outputs": [
    {
     "data": {
      "text/plain": [
       "array([[0.284339942002442, 0.620178311965812],\n",
       "       [0.297221123321123, 0.613928311965812],\n",
       "       [0.318062164224664, 0.578879166666667],\n",
       "       [0.31974275030525 , 0.569784722222222],\n",
       "       [0.258439072039072, 0.548062927350427],\n",
       "       [0.258439072039072, 0.541812927350427],\n",
       "       [0.314682921245421, 0.473943269230769],\n",
       "       [0.314682921245421, 0.464848824786325]])"
      ]
     },
     "execution_count": 177,
     "metadata": {},
     "output_type": "execute_result"
    }
   ],
   "source": [
    "get_stacked_anchor_boxes_area(bbs_area, feature_maps=[2], aspect_ratios=lambda grid_size:[(1,1), (1,2)])"
   ]
  },
  {
   "cell_type": "code",
   "execution_count": 175,
   "metadata": {},
   "outputs": [
    {
     "data": {
      "text/plain": [
       "[14, 12]"
      ]
     },
     "execution_count": 175,
     "metadata": {},
     "output_type": "execute_result"
    }
   ],
   "source": [
    "ann['cats']"
   ]
  },
  {
   "cell_type": "code",
   "execution_count": 176,
   "metadata": {},
   "outputs": [
    {
     "data": {
      "text/plain": [
       "'person'"
      ]
     },
     "execution_count": 176,
     "metadata": {},
     "output_type": "execute_result"
    }
   ],
   "source": [
    "dataset.categories()[14]"
   ]
  },
  {
   "cell_type": "code",
   "execution_count": 129,
   "metadata": {},
   "outputs": [
    {
     "data": {
      "text/plain": [
       "(array([[0.323121993284493, 0.710923504273504],\n",
       "        [0.323121993284493, 0.710923504273504],\n",
       "        [0.323121993284493, 0.710923504273504],\n",
       "        [0.323121993284493, 0.710923504273504]]), (4, 2))"
      ]
     },
     "execution_count": 129,
     "metadata": {},
     "output_type": "execute_result"
    }
   ],
   "source": [
    "grid_size = 2\n",
    "\n",
    "bbs = np.array(bbs)\n",
    "\n",
    "ret = np.repeat(\n",
    "    Bboxer.get_ancb_area(grid_size), np.square(grid_size)*bbs.shape[0]\n",
    ").reshape(-1, bbs.shape[0]) + bbs_area\n",
    "ret, ret.shape"
   ]
  },
  {
   "cell_type": "code",
   "execution_count": 133,
   "metadata": {},
   "outputs": [
    {
     "data": {
      "text/plain": [
       "(array([[1.073121993284493, 1.460923504273504]]), (1, 2))"
      ]
     },
     "execution_count": 133,
     "metadata": {},
     "output_type": "execute_result"
    }
   ],
   "source": [
    "grid_size = 1\n",
    "\n",
    "ret2 = np.repeat(\n",
    "    Bboxer.get_ancb_area(grid_size), np.square(grid_size)*bbs.shape[0]\n",
    ").reshape(-1, bbs.shape[0]) + bbs_area\n",
    "ret2, ret2.shape"
   ]
  },
  {
   "cell_type": "code",
   "execution_count": 149,
   "metadata": {},
   "outputs": [
    {
     "data": {
      "text/plain": [
       "2"
      ]
     },
     "execution_count": 149,
     "metadata": {},
     "output_type": "execute_result"
    }
   ],
   "source": [
    "np.square(grid_size)*bbs.shape[0]"
   ]
  },
  {
   "cell_type": "code",
   "execution_count": 151,
   "metadata": {},
   "outputs": [
    {
     "data": {
      "text/plain": [
       "array([0.073121993284493, 0.460923504273504])"
      ]
     },
     "execution_count": 151,
     "metadata": {},
     "output_type": "execute_result"
    }
   ],
   "source": [
    "bbs_area"
   ]
  },
  {
   "cell_type": "code",
   "execution_count": null,
   "metadata": {},
   "outputs": [],
   "source": []
  },
  {
   "cell_type": "code",
   "execution_count": 136,
   "metadata": {},
   "outputs": [
    {
     "data": {
      "text/plain": [
       "array([[0.323121993284493, 0.710923504273504],\n",
       "       [0.323121993284493, 0.710923504273504],\n",
       "       [0.323121993284493, 0.710923504273504],\n",
       "       [0.323121993284493, 0.710923504273504],\n",
       "       [1.073121993284493, 1.460923504273504]])"
      ]
     },
     "execution_count": 136,
     "metadata": {},
     "output_type": "execute_result"
    }
   ],
   "source": [
    "np.concatenate((ret, ret2))"
   ]
  },
  {
   "cell_type": "code",
   "execution_count": 144,
   "metadata": {},
   "outputs": [
    {
     "data": {
      "text/plain": [
       "(array([[0. , 0. , 0.5, 0.5],\n",
       "        [0. , 0.5, 0.5, 1. ],\n",
       "        [0.5, 0. , 1. , 0.5],\n",
       "        [0.5, 0.5, 1. , 1. ],\n",
       "        [0. , 0. , 1. , 1. ]]), (5, 4))"
      ]
     },
     "execution_count": 144,
     "metadata": {},
     "output_type": "execute_result"
    }
   ],
   "source": [
    "stacked_anchor_boxes = Bboxer.stacked_anchor_boxes(feature_maps=[2,1], aspect_ratios=lambda grid_size:[(1,1)])\n",
    "stacked_anchor_boxes, stacked_anchor_boxes.shape"
   ]
  },
  {
   "cell_type": "code",
   "execution_count": 145,
   "metadata": {},
   "outputs": [
    {
     "data": {
      "text/plain": [
       "(array([[0.038782051282051, 0.02590086996337 , 0.005059829059829,\n",
       "         0.003379242979243, 0.073121993284493],\n",
       "        [0.090745192307692, 0.096995192307692, 0.132044337606838,\n",
       "         0.141138782051282, 0.460923504273504]]), (2, 5))"
      ]
     },
     "execution_count": 145,
     "metadata": {},
     "output_type": "execute_result"
    }
   ],
   "source": [
    "stacked_anchor_boxes = Bboxer.stacked_anchor_boxes(feature_maps=[2,1], aspect_ratios=lambda grid_size:[(1,1)])\n",
    "\n",
    "stacked_intersect = Bboxer.get_stacked_intersection(bbs, im, stacked_anchor_boxes)\n",
    "\n",
    "stacked_intersect, stacked_intersect.shape"
   ]
  },
  {
   "cell_type": "code",
   "execution_count": 146,
   "metadata": {},
   "outputs": [
    {
     "data": {
      "text/plain": [
       "array([[0.038782051282051, 0.02590086996337 ],\n",
       "       [0.005059829059829, 0.003379242979243],\n",
       "       [0.073121993284493, 0.090745192307692],\n",
       "       [0.096995192307692, 0.132044337606838],\n",
       "       [0.141138782051282, 0.460923504273504]])"
      ]
     },
     "execution_count": 146,
     "metadata": {},
     "output_type": "execute_result"
    }
   ],
   "source": [
    "stacked_intersect.reshape(-1, 2)"
   ]
  },
  {
   "cell_type": "code",
   "execution_count": 167,
   "metadata": {},
   "outputs": [
    {
     "data": {
      "text/plain": [
       "array([[0.284339942002442, 0.620178311965812],\n",
       "       [0.297221123321123, 0.613928311965812],\n",
       "       [0.318062164224664, 0.578879166666667],\n",
       "       [0.31974275030525 , 0.569784722222222],\n",
       "       [1.               , 1.               ]])"
      ]
     },
     "execution_count": 167,
     "metadata": {},
     "output_type": "execute_result"
    }
   ],
   "source": [
    "raw_ret = np.concatenate((ret, ret2)) - stacked_intersect.T.reshape(5, -1)\n",
    "raw_ret"
   ]
  },
  {
   "cell_type": "code",
   "execution_count": 168,
   "metadata": {},
   "outputs": [
    {
     "data": {
      "text/plain": [
       "array([[False,  True],\n",
       "       [False,  True],\n",
       "       [False, False],\n",
       "       [False, False],\n",
       "       [ True,  True]])"
      ]
     },
     "execution_count": 168,
     "metadata": {},
     "output_type": "execute_result"
    }
   ],
   "source": [
    "np.array(\n",
    "    [[0.284339942002442, 0.620178311965812],\n",
    "    [0.297221123321123, 0.613928311965812],\n",
    "    [0.318062164224664, 0.578879166666667],\n",
    "    [0.31974275030525 , 0.569784722222222],\n",
    "    [1.               , 1.               ]]) == raw_ret"
   ]
  },
  {
   "cell_type": "code",
   "execution_count": 162,
   "metadata": {},
   "outputs": [
    {
     "data": {
      "text/plain": [
       "array([0.073121993284493, 0.460923504273504])"
      ]
     },
     "execution_count": 162,
     "metadata": {},
     "output_type": "execute_result"
    }
   ],
   "source": [
    "bbs_area"
   ]
  },
  {
   "cell_type": "code",
   "execution_count": 163,
   "metadata": {},
   "outputs": [
    {
     "data": {
      "text/plain": [
       "array([[0.323121993284493, 0.710923504273504],\n",
       "       [0.323121993284493, 0.710923504273504],\n",
       "       [0.323121993284493, 0.710923504273504],\n",
       "       [0.323121993284493, 0.710923504273504]])"
      ]
     },
     "execution_count": 163,
     "metadata": {},
     "output_type": "execute_result"
    }
   ],
   "source": [
    "ret"
   ]
  },
  {
   "cell_type": "code",
   "execution_count": 161,
   "metadata": {},
   "outputs": [
    {
     "data": {
      "text/plain": [
       "array([[1.073121993284493, 1.460923504273504]])"
      ]
     },
     "execution_count": 161,
     "metadata": {},
     "output_type": "execute_result"
    }
   ],
   "source": [
    "ret2"
   ]
  },
  {
   "cell_type": "code",
   "execution_count": 165,
   "metadata": {},
   "outputs": [
    {
     "data": {
      "text/plain": [
       "array([[0.323121993284493, 0.710923504273504],\n",
       "       [0.323121993284493, 0.710923504273504],\n",
       "       [0.323121993284493, 0.710923504273504],\n",
       "       [0.323121993284493, 0.710923504273504],\n",
       "       [1.073121993284493, 1.460923504273504]])"
      ]
     },
     "execution_count": 165,
     "metadata": {},
     "output_type": "execute_result"
    }
   ],
   "source": [
    "np.concatenate((ret, ret2))"
   ]
  },
  {
   "cell_type": "code",
   "execution_count": null,
   "metadata": {},
   "outputs": [],
   "source": []
  },
  {
   "cell_type": "code",
   "execution_count": 50,
   "metadata": {},
   "outputs": [
    {
     "data": {
      "text/plain": [
       "(array([[0.038782051282051, 0.02590086996337 , 0.005059829059829,\n",
       "         0.003379242979243, 0.073121993284493],\n",
       "        [0.090745192307692, 0.096995192307692, 0.132044337606838,\n",
       "         0.141138782051282, 0.460923504273504]]), (2, 5))"
      ]
     },
     "execution_count": 50,
     "metadata": {},
     "output_type": "execute_result"
    }
   ],
   "source": [
    "stacked_intersect = Bboxer.get_stacked_intersection(bbs, im, anchor_bbs)\n",
    "stacked_intersect, stacked_intersect.shape"
   ]
  },
  {
   "cell_type": "code",
   "execution_count": 73,
   "metadata": {},
   "outputs": [
    {
     "data": {
      "text/plain": [
       "(array([[0.323121993284493, 0.710923504273504],\n",
       "        [0.323121993284493, 0.710923504273504],\n",
       "        [0.323121993284493, 0.710923504273504],\n",
       "        [0.323121993284493, 0.710923504273504]]), (4, 2))"
      ]
     },
     "execution_count": 73,
     "metadata": {},
     "output_type": "execute_result"
    }
   ],
   "source": [
    "bbs_area_union = (np.repeat(.25, 8).reshape(4,2) + bbs_area)\n",
    "bbs_area_union, bbs_area_union.shape"
   ]
  },
  {
   "cell_type": "code",
   "execution_count": 74,
   "metadata": {},
   "outputs": [
    {
     "data": {
      "text/plain": [
       "array([0.073121993284493, 0.460923504273504])"
      ]
     },
     "execution_count": 74,
     "metadata": {},
     "output_type": "execute_result"
    }
   ],
   "source": [
    "bbs_area"
   ]
  },
  {
   "cell_type": "code",
   "execution_count": 79,
   "metadata": {},
   "outputs": [
    {
     "data": {
      "text/plain": [
       "array([[0.323121993284493, 0.710923504273504],\n",
       "       [0.323121993284493, 0.710923504273504],\n",
       "       [0.323121993284493, 0.710923504273504],\n",
       "       [0.323121993284493, 0.710923504273504]])"
      ]
     },
     "execution_count": 79,
     "metadata": {},
     "output_type": "execute_result"
    }
   ],
   "source": [
    "np.tile(bbs_area, 4).reshape(4,2) + .25"
   ]
  },
  {
   "cell_type": "code",
   "execution_count": 80,
   "metadata": {},
   "outputs": [
    {
     "data": {
      "text/plain": [
       "array([[0.323121993284493, 0.710923504273504],\n",
       "       [0.323121993284493, 0.710923504273504],\n",
       "       [0.323121993284493, 0.710923504273504],\n",
       "       [0.323121993284493, 0.710923504273504]])"
      ]
     },
     "execution_count": 80,
     "metadata": {},
     "output_type": "execute_result"
    }
   ],
   "source": [
    "np.tile(bbs_area, 4).reshape(4,2) + np.repeat(.25, 8).reshape(4,2)"
   ]
  },
  {
   "cell_type": "code",
   "execution_count": null,
   "metadata": {},
   "outputs": [],
   "source": []
  },
  {
   "cell_type": "code",
   "execution_count": null,
   "metadata": {},
   "outputs": [],
   "source": []
  },
  {
   "cell_type": "code",
   "execution_count": null,
   "metadata": {},
   "outputs": [],
   "source": []
  },
  {
   "cell_type": "code",
   "execution_count": 21,
   "metadata": {},
   "outputs": [
    {
     "data": {
      "text/plain": [
       "array([[0.167582417582418, 0.383333333333333, 0.543369963369963,\n",
       "        0.577916666666667],\n",
       "       [0.211538461538462, 0.185416666666667, 0.91974358974359 ,\n",
       "        0.83625          ]])"
      ]
     },
     "execution_count": 21,
     "metadata": {},
     "output_type": "execute_result"
    }
   ],
   "source": [
    "im = open_image(ann['image_path'])\n",
    "scaled_bbs = Bboxer.scaled_fastai_bbs(ann['bbs'], im=im)\n",
    "scaled_bbs"
   ]
  },
  {
   "cell_type": "code",
   "execution_count": 11,
   "metadata": {},
   "outputs": [],
   "source": [
    "# plot and make sure correct"
   ]
  },
  {
   "cell_type": "code",
   "execution_count": 12,
   "metadata": {},
   "outputs": [],
   "source": [
    "from ssdmultibox.plotting import show_img, draw_rect"
   ]
  },
  {
   "cell_type": "code",
   "execution_count": 25,
   "metadata": {},
   "outputs": [],
   "source": [
    "# ok\n",
    "\n",
    "# resized_im = cv2.resize(im, (SIZE, SIZE))\n",
    "# ax = show_img(resized_im)\n",
    "# for bb in scaled_bbs:\n",
    "#     draw_rect(ax, Bboxer.fastai_bb_to_pascal_bb(bb)*SIZE)"
   ]
  },
  {
   "cell_type": "code",
   "execution_count": 30,
   "metadata": {},
   "outputs": [
    {
     "data": {
      "text/plain": [
       "array([[0. , 0. , 0.5, 0.5],\n",
       "       [0. , 0.5, 0.5, 1. ],\n",
       "       [0.5, 0. , 1. , 0.5],\n",
       "       [0.5, 0.5, 1. , 1. ]])"
      ]
     },
     "execution_count": 30,
     "metadata": {},
     "output_type": "execute_result"
    }
   ],
   "source": [
    "anc1 = Bboxer.anchor_corners(2, (1,1))\n",
    "anc1"
   ]
  },
  {
   "cell_type": "code",
   "execution_count": 32,
   "metadata": {},
   "outputs": [
    {
     "data": {
      "text/plain": [
       "array([[0., 0., 1., 1.]])"
      ]
     },
     "execution_count": 32,
     "metadata": {},
     "output_type": "execute_result"
    }
   ],
   "source": [
    "anc2 = Bboxer.anchor_corners(1, (1,1))\n",
    "anc2"
   ]
  },
  {
   "cell_type": "code",
   "execution_count": 33,
   "metadata": {},
   "outputs": [
    {
     "data": {
      "text/plain": [
       "array([[0. , 0. , 0.5, 0.5],\n",
       "       [0. , 0.5, 0.5, 1. ],\n",
       "       [0.5, 0. , 1. , 0.5],\n",
       "       [0.5, 0.5, 1. , 1. ],\n",
       "       [0. , 0. , 1. , 1. ]])"
      ]
     },
     "execution_count": 33,
     "metadata": {},
     "output_type": "execute_result"
    }
   ],
   "source": [
    "np.concatenate((anc1, anc2))"
   ]
  },
  {
   "cell_type": "code",
   "execution_count": 49,
   "metadata": {},
   "outputs": [
    {
     "data": {
      "text/plain": [
       "array([[0. , 0. , 0.5, 0.5],\n",
       "       [0. , 0.5, 0.5, 1. ],\n",
       "       [0.5, 0. , 1. , 0.5],\n",
       "       [0.5, 0.5, 1. , 1. ],\n",
       "       [0. , 0. , 1. , 1. ]])"
      ]
     },
     "execution_count": 49,
     "metadata": {},
     "output_type": "execute_result"
    }
   ],
   "source": [
    "def stacked_anchor_boxes(feature_maps=FEATURE_MAPS, aspect_ratios=None):\n",
    "    aspect_ratios = aspect_ratios or cls.aspect_ratios\n",
    "    boxes = None\n",
    "    for i in range(len(feature_maps)):\n",
    "        grid_size = feature_maps[i]\n",
    "        for aspect_ratio in aspect_ratios(grid_size):\n",
    "            arr = np.clip(Bboxer.anchor_corners(grid_size, aspect_ratio), 0, 1)\n",
    "            if not isinstance(boxes, np.ndarray):\n",
    "                boxes = arr\n",
    "            else:\n",
    "                boxes = np.concatenate((boxes, arr))\n",
    "    return boxes\n",
    "\n",
    "anchor_bbs = stacked_anchor_boxes(feature_maps=[2,1], aspect_ratios=lambda grid_size:[(1,1)])\n",
    "anchor_bbs"
   ]
  },
  {
   "cell_type": "code",
   "execution_count": 50,
   "metadata": {},
   "outputs": [
    {
     "data": {
      "text/plain": [
       "(5, 4)"
      ]
     },
     "execution_count": 50,
     "metadata": {},
     "output_type": "execute_result"
    }
   ],
   "source": [
    "anchor_bbs.shape"
   ]
  },
  {
   "cell_type": "code",
   "execution_count": 113,
   "metadata": {
    "scrolled": true
   },
   "outputs": [
    {
     "data": {
      "text/plain": [
       "array([[0.201791531531531]])"
      ]
     },
     "execution_count": 113,
     "metadata": {},
     "output_type": "execute_result"
    }
   ],
   "source": [
    "def get_stacked_intersection(bbs, im, anchor_bbs):\n",
    "    bbs = Bboxer.scaled_fastai_bbs(bbs, im)\n",
    "    bbs_count = anchor_bbs.shape[0]\n",
    "    bbs16 = np.reshape(np.tile(bbs, bbs_count), (-1,bbs_count,4))\n",
    "    intersect = np.minimum(\n",
    "        np.maximum(anchor_bbs[:,:2], bbs16[:,:,:2]) - \\\n",
    "        np.minimum(anchor_bbs[:,2:], bbs16[:,:,2:]), 0)\n",
    "    return intersect[:,:,0] * intersect[:,:,1]\n",
    "\n",
    "anchor_bbs = stacked_anchor_boxes(\n",
    "    feature_maps=[1], aspect_ratios=lambda grid_size:[(1,1)])\n",
    "\n",
    "ann = dataset.get_annotations()[12]\n",
    "\n",
    "get_stacked_intersection(ann['bbs'], im, anchor_bbs)"
   ]
  },
  {
   "cell_type": "code",
   "execution_count": 117,
   "metadata": {},
   "outputs": [
    {
     "data": {
      "text/plain": [
       "((2, 1), array([[0.073121993284493],\n",
       "        [0.460923504273504]]))"
      ]
     },
     "execution_count": 117,
     "metadata": {},
     "output_type": "execute_result"
    }
   ],
   "source": [
    "ann = dataset.get_annotations()[image_id]\n",
    "\n",
    "anchor_bbs = stacked_anchor_boxes(feature_maps=[1], aspect_ratios=lambda grid_size:[(1,1)])\n",
    "\n",
    "stacked_intersect = get_stacked_intersection(ann['bbs'], open_image(ann['image_path']), anchor_bbs)\n",
    "stacked_intersect.shape, stacked_intersect"
   ]
  },
  {
   "cell_type": "code",
   "execution_count": 116,
   "metadata": {},
   "outputs": [
    {
     "data": {
      "text/plain": [
       "array([[0., 0., 1., 1.]])"
      ]
     },
     "execution_count": 116,
     "metadata": {},
     "output_type": "execute_result"
    }
   ],
   "source": [
    "anchor_bbs"
   ]
  },
  {
   "cell_type": "code",
   "execution_count": 104,
   "metadata": {},
   "outputs": [
    {
     "data": {
      "text/plain": [
       "(array([[0., 0., 1., 1.]]), (1, 4))"
      ]
     },
     "execution_count": 104,
     "metadata": {},
     "output_type": "execute_result"
    }
   ],
   "source": [
    "anchor_bbs, anchor_bbs.shape"
   ]
  },
  {
   "cell_type": "code",
   "execution_count": 98,
   "metadata": {},
   "outputs": [
    {
     "data": {
      "text/plain": [
       "array([[0. , 0. , 0.5, 0.5],\n",
       "       [0. , 0.5, 0.5, 1. ],\n",
       "       [0.5, 0. , 1. , 0.5],\n",
       "       [0.5, 0.5, 1. , 1. ],\n",
       "       [0. , 0. , 1. , 1. ]])"
      ]
     },
     "execution_count": 98,
     "metadata": {},
     "output_type": "execute_result"
    }
   ],
   "source": [
    "anchor_bbs = stacked_anchor_boxes(feature_maps=[2,1], aspect_ratios=lambda grid_size:[(1,1)])\n",
    "anchor_bbs"
   ]
  },
  {
   "cell_type": "code",
   "execution_count": 100,
   "metadata": {},
   "outputs": [
    {
     "data": {
      "text/plain": [
       "((2, 5), array([[0.038782051282051, 0.02590086996337 , 0.005059829059829,\n",
       "         0.003379242979243, 0.073121993284493],\n",
       "        [0.090745192307692, 0.096995192307692, 0.132044337606838,\n",
       "         0.141138782051282, 0.460923504273504]]))"
      ]
     },
     "execution_count": 100,
     "metadata": {},
     "output_type": "execute_result"
    }
   ],
   "source": [
    "stacked_intersect = get_stacked_intersection(ann['bbs'], im, anchor_bbs)\n",
    "stacked_intersect.shape, stacked_intersect"
   ]
  },
  {
   "cell_type": "code",
   "execution_count": 110,
   "metadata": {},
   "outputs": [
    {
     "data": {
      "text/plain": [
       "array([[0.201791531531531]])"
      ]
     },
     "execution_count": 110,
     "metadata": {},
     "output_type": "execute_result"
    }
   ],
   "source": [
    "ann = dataset.get_annotations()[12]\n",
    "bbs = ann['bbs']\n",
    "im = open_image(ann['image_path'])\n",
    "anchor_bbs = stacked_anchor_boxes(\n",
    "    feature_maps=[1], aspect_ratios=lambda grid_size:[(1.,1.)])\n",
    "\n",
    "ret = get_stacked_intersection(bbs, im, anchor_bbs)\n",
    "ret"
   ]
  },
  {
   "cell_type": "code",
   "execution_count": 111,
   "metadata": {},
   "outputs": [
    {
     "data": {
      "text/plain": [
       "array([[0.040225225225225, 0.04206006006006 , 0.058420720720721,\n",
       "        0.061085525525526, 0.201791531531531]])"
      ]
     },
     "execution_count": 111,
     "metadata": {},
     "output_type": "execute_result"
    }
   ],
   "source": [
    "anchor_bbs = stacked_anchor_boxes(feature_maps=[2,1], aspect_ratios=lambda grid_size:[(1,1)])\n",
    "ret = get_stacked_intersection(bbs, im, anchor_bbs)\n",
    "ret"
   ]
  },
  {
   "cell_type": "code",
   "execution_count": null,
   "metadata": {},
   "outputs": [],
   "source": []
  }
 ],
 "metadata": {
  "kernelspec": {
   "display_name": "Python 3",
   "language": "python",
   "name": "python3"
  },
  "language_info": {
   "codemirror_mode": {
    "name": "ipython",
    "version": 3
   },
   "file_extension": ".py",
   "mimetype": "text/x-python",
   "name": "python",
   "nbconvert_exporter": "python",
   "pygments_lexer": "ipython3",
   "version": "3.7.1"
  }
 },
 "nbformat": 4,
 "nbformat_minor": 2
}
